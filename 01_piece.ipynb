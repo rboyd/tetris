{
 "cells": [
  {
   "cell_type": "code",
   "execution_count": null,
   "id": "207d40a1-997c-4a37-9bd4-73bd527b1cd5",
   "metadata": {},
   "outputs": [],
   "source": [
    "#default_exp piece"
   ]
  },
  {
   "cell_type": "code",
   "execution_count": null,
   "id": "99f28b8e-349d-4716-8a77-9760bfde00ed",
   "metadata": {},
   "outputs": [],
   "source": [
    "#|export\n",
    "from math import inf\n",
    "\n",
    "class Piece:\n",
    "    def __init__(self, rep:str):\n",
    "        self.arr = []\n",
    "\n",
    "        srows = rep.split('\\n')\n",
    "        self._height = len(srows)\n",
    "        self._width = len(srows[0])\n",
    "        self._ceil = [-1] * self._width\n",
    "        self._floor = [inf] * self._width\n",
    "        for i, line in enumerate(reversed(srows)):\n",
    "            row = [True if ch == '*' else False for ch in line]\n",
    "            for j, col in enumerate(row):\n",
    "                if col:\n",
    "                    self._ceil[j] = i\n",
    "                    self._floor[j] = min(self._floor[j], i)\n",
    "            self.arr.append(row)\n",
    "\n",
    "    @property\n",
    "    def height(self) -> int:\n",
    "        return self._height\n",
    "\n",
    "    @property\n",
    "    def num_cols(self) -> int:\n",
    "        return len(self.arr[0])\n",
    "\n",
    "    def toarray(self) -> [[bool]]:\n",
    "        return self.arr\n",
    "\n",
    "    def ceil(self, col:int) -> int:\n",
    "        return self._ceil[col]\n",
    "\n",
    "    def floor(self, col:int) -> int:\n",
    "        return self._floor[col]"
   ]
  }
 ],
 "metadata": {
  "kernelspec": {
   "display_name": "Python 3 (ipykernel)",
   "language": "python",
   "name": "python3"
  }
 },
 "nbformat": 4,
 "nbformat_minor": 5
}
