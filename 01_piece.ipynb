{
 "cells": [
  {
   "cell_type": "code",
   "execution_count": null,
   "id": "207d40a1-997c-4a37-9bd4-73bd527b1cd5",
   "metadata": {},
   "outputs": [],
   "source": [
    "#default_exp piece"
   ]
  },
  {
   "cell_type": "code",
   "execution_count": null,
   "id": "99f28b8e-349d-4716-8a77-9760bfde00ed",
   "metadata": {},
   "outputs": [],
   "source": [
    "#|export\n",
    "from math import inf\n",
    "\n",
    "class Piece:\n",
    "    def __init__(self, rep:str):\n",
    "        self.arr = []\n",
    "\n",
    "        srows = rep.split('\\n')\n",
    "        self._height = len(srows)\n",
    "        self._width = len(srows[0])\n",
    "        self._top_cell = [-1] * self._width\n",
    "        self._bottom_cell = [inf] * self._width\n",
    "        for i, line in enumerate(reversed(srows)):\n",
    "            row = [True if ch == '*' else False for ch in line]\n",
    "            for j, col in enumerate(row):\n",
    "                if col:\n",
    "                    self._top_cell[j] = i\n",
    "                    self._bottom_cell[j] = min(self._bottom_cell[j], i)\n",
    "            self.arr.append(row)\n",
    "\n",
    "    @property\n",
    "    def height(self) -> int:\n",
    "        return self._height\n",
    "\n",
    "    @property\n",
    "    def width(self) -> int:\n",
    "        return len(self.arr[0])\n",
    "\n",
    "    def toarray(self) -> [[bool]]:\n",
    "        return self.arr\n",
    "\n",
    "    def top_cell(self, col:int) -> int:\n",
    "        return self._top_cell[col]\n",
    "\n",
    "    def bottom_cell(self, col:int) -> int:\n",
    "        return self._bottom_cell[col]"
   ]
  },
  {
   "cell_type": "markdown",
   "id": "86481ce9-0482-4c10-9b05-aa7a8924cd31",
   "metadata": {},
   "source": [
    "## Instantiation of Pieces\n",
    "\n",
    "A piece is instantiated with a string representation describing which cells are populated (`*`) or not (any other character, but `-` by convention)."
   ]
  },
  {
   "cell_type": "code",
   "execution_count": null,
   "id": "14f8e2cf-2d7c-48fe-b9ec-86ac26ca2903",
   "metadata": {},
   "outputs": [],
   "source": [
    "q = Piece('**\\n**')"
   ]
  },
  {
   "cell_type": "markdown",
   "id": "5526069b-f513-45ce-bb64-03dada6c5d60",
   "metadata": {},
   "source": [
    "## Properties and Shape\n",
    "\n",
    "The basic properties of a piece describe it's shape. `height` and `width` are obvious, `top_cell` and `bottom_cell` hold the zero-indexed height of the top-most or bottom-most cell for a given column."
   ]
  },
  {
   "cell_type": "code",
   "execution_count": null,
   "id": "ba61c881-2d75-427c-81c3-d10b5729a8ab",
   "metadata": {},
   "outputs": [],
   "source": [
    "assert(q.height == 2)\n",
    "assert(q.width == 2)\n",
    "assert(q.toarray() == [[True, True], [True, True]])\n",
    "assert(q.bottom_cell(0) == 0)\n",
    "assert(q.top_cell(0) == 1)"
   ]
  },
  {
   "cell_type": "code",
   "execution_count": null,
   "id": "78a7864a-01f6-496d-94fc-7f85bf27c8d2",
   "metadata": {},
   "outputs": [],
   "source": [
    "z = Piece('**-\\n-**')\n",
    "assert(z.height == 2)\n",
    "assert(z.width == 3)\n",
    "assert(z.bottom_cell(0) == 1)\n",
    "assert(z.top_cell(0) == 1)"
   ]
  }
 ],
 "metadata": {
  "kernelspec": {
   "display_name": "Python 3 (ipykernel)",
   "language": "python",
   "name": "python3"
  }
 },
 "nbformat": 4,
 "nbformat_minor": 5
}
