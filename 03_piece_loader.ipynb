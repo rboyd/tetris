{
 "cells": [
  {
   "cell_type": "code",
   "execution_count": null,
   "id": "7d56cd28-a56e-46cb-9f7e-d7149f865daf",
   "metadata": {},
   "outputs": [],
   "source": [
    "#default_exp piece_loader"
   ]
  },
  {
   "cell_type": "code",
   "execution_count": null,
   "id": "9ca34d87-9614-4faf-967c-7568cb0acb4c",
   "metadata": {},
   "outputs": [],
   "source": [
    "#|export\n",
    "from tetris.piece import Piece\n",
    "import os\n",
    "\n",
    "class PieceLoader:\n",
    "    def load(self, directory:str) -> None:\n",
    "        self._pieces = {}\n",
    "        for filename in os.listdir(directory):\n",
    "            f = os.path.join(directory, filename)\n",
    "            if os.path.isfile(f):\n",
    "                with open(f, 'r') as inf:\n",
    "                    data = inf.read()\n",
    "                    self._pieces[filename] = Piece(data)\n",
    "\n",
    "    def __getitem__(self, item):\n",
    "         return self._pieces[item]\n",
    "\n",
    "    @property\n",
    "    def pieces(self):\n",
    "        return self._pieces\n",
    "\n",
    "    def __init__(self, directory:str = \"data/\"):\n",
    "        self.load(directory)"
   ]
  }
 ],
 "metadata": {
  "kernelspec": {
   "display_name": "Python 3 (ipykernel)",
   "language": "python",
   "name": "python3"
  }
 },
 "nbformat": 4,
 "nbformat_minor": 5
}
