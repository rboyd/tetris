{
 "cells": [
  {
   "cell_type": "code",
   "execution_count": null,
   "id": "9fe15fd5-f625-4523-95db-8ee6eb2a9047",
   "metadata": {},
   "outputs": [],
   "source": [
    "#default_exp core"
   ]
  },
  {
   "cell_type": "code",
   "execution_count": null,
   "id": "76c10cfb-a440-47cd-9e77-e8fd60ce5cf8",
   "metadata": {},
   "outputs": [],
   "source": [
    "#|export\n",
    "from tetris.controller import Controller\n",
    "import sys\n",
    "\n",
    "def process_stdin():\n",
    "    c = Controller()\n",
    "    for line in sys.stdin:\n",
    "        line.rstrip('\\n')\n",
    "        pf = c.process(line)\n",
    "        print(pf.height)"
   ]
  }
 ],
 "metadata": {
  "kernelspec": {
   "display_name": "Python 3 (ipykernel)",
   "language": "python",
   "name": "python3"
  }
 },
 "nbformat": 4,
 "nbformat_minor": 5
}
