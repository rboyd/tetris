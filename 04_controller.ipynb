{
 "cells": [
  {
   "cell_type": "code",
   "execution_count": null,
   "id": "a129868b-45c6-4fc1-b2fa-ecf3e1fb52be",
   "metadata": {},
   "outputs": [],
   "source": [
    "#default_exp controller"
   ]
  },
  {
   "cell_type": "code",
   "execution_count": null,
   "id": "ea182835-9ec4-4243-93e4-0e4e0b9c3fc7",
   "metadata": {},
   "outputs": [],
   "source": [
    "#|export\n",
    "from tetris.playfield import Playfield\n",
    "from tetris.piece_loader import PieceLoader\n",
    "\n",
    "try: from nbdev.imports import IN_NOTEBOOK\n",
    "except: IN_NOTEBOOK=False\n",
    "\n",
    "if IN_NOTEBOOK:\n",
    "    from IPython.display import display\n",
    "\n",
    "class Controller:\n",
    "    def process(self, line:str) -> Playfield:\n",
    "        pf = Playfield()\n",
    "        loader = PieceLoader()\n",
    "        for instr in line.split(','):\n",
    "            shape, col = instr[0].lower(), int(instr[1])\n",
    "            cleared_lines = pf.add_with_clear(loader.pieces[shape], col)\n",
    "            if IN_NOTEBOOK:\n",
    "                display(pf)\n",
    "            #print(f'cleared {cleared_lines} lines')\n",
    "        return pf    "
   ]
  }
 ],
 "metadata": {
  "kernelspec": {
   "display_name": "Python 3 (ipykernel)",
   "language": "python",
   "name": "python3"
  }
 },
 "nbformat": 4,
 "nbformat_minor": 5
}
