{
 "cells": [
  {
   "cell_type": "code",
   "execution_count": null,
   "metadata": {},
   "outputs": [],
   "source": [
    "#hide\n",
    "from tetris.core import *\n",
    "from tetris.piece import *\n",
    "from tetris.playfield import *\n",
    "from tetris.piece_loader import *"
   ]
  },
  {
   "cell_type": "markdown",
   "metadata": {},
   "source": [
    "# Tetris\n",
    "\n",
    "> Simplified Tetris engine."
   ]
  },
  {
   "cell_type": "markdown",
   "metadata": {},
   "source": [
    "This file will become your README and also the index of your documentation."
   ]
  },
  {
   "cell_type": "markdown",
   "metadata": {},
   "source": [
    "## Install"
   ]
  },
  {
   "cell_type": "markdown",
   "metadata": {},
   "source": [
    "`poetry install`"
   ]
  },
  {
   "cell_type": "markdown",
   "metadata": {},
   "source": [
    "## How to use"
   ]
  },
  {
   "cell_type": "markdown",
   "metadata": {},
   "source": [
    "`./tetris.py <input.txt >output.txt`"
   ]
  },
  {
   "cell_type": "code",
   "execution_count": null,
   "metadata": {},
   "outputs": [
    {
     "data": {
      "image/svg+xml": [
       "<svg baseProfile=\"full\" height=\"100%\" version=\"1.1\" viewBox=\"0,0,800,450\" width=\"100%\" xmlns=\"http://www.w3.org/2000/svg\" xmlns:ev=\"http://www.w3.org/2001/xml-events\" xmlns:xlink=\"http://www.w3.org/1999/xlink\"><defs /><rect fill=\"black\" height=\"10\" stroke=\"white\" width=\"10\" x=\"0\" y=\"200\" /><rect fill=\"black\" height=\"10\" stroke=\"white\" width=\"10\" x=\"10\" y=\"200\" /><rect fill=\"black\" height=\"10\" stroke=\"white\" width=\"10\" x=\"20\" y=\"200\" /><rect fill=\"black\" height=\"10\" stroke=\"white\" width=\"10\" x=\"30\" y=\"200\" /><rect fill=\"black\" height=\"10\" stroke=\"white\" width=\"10\" x=\"40\" y=\"200\" /><rect fill=\"black\" height=\"10\" stroke=\"white\" width=\"10\" x=\"50\" y=\"200\" /><rect fill=\"black\" height=\"10\" stroke=\"white\" width=\"10\" x=\"60\" y=\"200\" /><rect fill=\"black\" height=\"10\" stroke=\"white\" width=\"10\" x=\"70\" y=\"200\" /><rect fill=\"black\" height=\"10\" stroke=\"white\" width=\"10\" x=\"80\" y=\"200\" /><rect fill=\"black\" height=\"10\" stroke=\"white\" width=\"10\" x=\"90\" y=\"200\" /><rect fill=\"black\" height=\"10\" stroke=\"white\" width=\"10\" x=\"0\" y=\"190\" /><rect fill=\"black\" height=\"10\" stroke=\"white\" width=\"10\" x=\"10\" y=\"190\" /><rect fill=\"black\" height=\"10\" stroke=\"white\" width=\"10\" x=\"20\" y=\"190\" /><rect fill=\"black\" height=\"10\" stroke=\"white\" width=\"10\" x=\"30\" y=\"190\" /><rect fill=\"black\" height=\"10\" stroke=\"white\" width=\"10\" x=\"40\" y=\"190\" /><rect fill=\"black\" height=\"10\" stroke=\"white\" width=\"10\" x=\"50\" y=\"190\" /><rect fill=\"black\" height=\"10\" stroke=\"white\" width=\"10\" x=\"60\" y=\"190\" /><rect fill=\"black\" height=\"10\" stroke=\"white\" width=\"10\" x=\"70\" y=\"190\" /><rect fill=\"black\" height=\"10\" stroke=\"white\" width=\"10\" x=\"80\" y=\"190\" /><rect fill=\"black\" height=\"10\" stroke=\"white\" width=\"10\" x=\"90\" y=\"190\" /><rect fill=\"black\" height=\"10\" stroke=\"white\" width=\"10\" x=\"0\" y=\"180\" /><rect fill=\"black\" height=\"10\" stroke=\"white\" width=\"10\" x=\"10\" y=\"180\" /><rect fill=\"black\" height=\"10\" stroke=\"white\" width=\"10\" x=\"20\" y=\"180\" /><rect fill=\"black\" height=\"10\" stroke=\"white\" width=\"10\" x=\"30\" y=\"180\" /><rect fill=\"black\" height=\"10\" stroke=\"white\" width=\"10\" x=\"40\" y=\"180\" /><rect fill=\"black\" height=\"10\" stroke=\"white\" width=\"10\" x=\"50\" y=\"180\" /><rect fill=\"black\" height=\"10\" stroke=\"white\" width=\"10\" x=\"60\" y=\"180\" /><rect fill=\"black\" height=\"10\" stroke=\"white\" width=\"10\" x=\"70\" y=\"180\" /><rect fill=\"black\" height=\"10\" stroke=\"white\" width=\"10\" x=\"80\" y=\"180\" /><rect fill=\"black\" height=\"10\" stroke=\"white\" width=\"10\" x=\"90\" y=\"180\" /><rect fill=\"black\" height=\"10\" stroke=\"white\" width=\"10\" x=\"0\" y=\"170\" /><rect fill=\"black\" height=\"10\" stroke=\"white\" width=\"10\" x=\"10\" y=\"170\" /><rect fill=\"black\" height=\"10\" stroke=\"white\" width=\"10\" x=\"20\" y=\"170\" /><rect fill=\"black\" height=\"10\" stroke=\"white\" width=\"10\" x=\"30\" y=\"170\" /><rect fill=\"black\" height=\"10\" stroke=\"white\" width=\"10\" x=\"40\" y=\"170\" /><rect fill=\"black\" height=\"10\" stroke=\"white\" width=\"10\" x=\"50\" y=\"170\" /><rect fill=\"black\" height=\"10\" stroke=\"white\" width=\"10\" x=\"60\" y=\"170\" /><rect fill=\"black\" height=\"10\" stroke=\"white\" width=\"10\" x=\"70\" y=\"170\" /><rect fill=\"black\" height=\"10\" stroke=\"white\" width=\"10\" x=\"80\" y=\"170\" /><rect fill=\"black\" height=\"10\" stroke=\"white\" width=\"10\" x=\"90\" y=\"170\" /><rect fill=\"black\" height=\"10\" stroke=\"white\" width=\"10\" x=\"0\" y=\"160\" /><rect fill=\"black\" height=\"10\" stroke=\"white\" width=\"10\" x=\"10\" y=\"160\" /><rect fill=\"black\" height=\"10\" stroke=\"white\" width=\"10\" x=\"20\" y=\"160\" /><rect fill=\"black\" height=\"10\" stroke=\"white\" width=\"10\" x=\"30\" y=\"160\" /><rect fill=\"black\" height=\"10\" stroke=\"white\" width=\"10\" x=\"40\" y=\"160\" /><rect fill=\"black\" height=\"10\" stroke=\"white\" width=\"10\" x=\"50\" y=\"160\" /><rect fill=\"black\" height=\"10\" stroke=\"white\" width=\"10\" x=\"60\" y=\"160\" /><rect fill=\"black\" height=\"10\" stroke=\"white\" width=\"10\" x=\"70\" y=\"160\" /><rect fill=\"black\" height=\"10\" stroke=\"white\" width=\"10\" x=\"80\" y=\"160\" /><rect fill=\"black\" height=\"10\" stroke=\"white\" width=\"10\" x=\"90\" y=\"160\" /><rect fill=\"black\" height=\"10\" stroke=\"white\" width=\"10\" x=\"0\" y=\"150\" /><rect fill=\"black\" height=\"10\" stroke=\"white\" width=\"10\" x=\"10\" y=\"150\" /><rect fill=\"black\" height=\"10\" stroke=\"white\" width=\"10\" x=\"20\" y=\"150\" /><rect fill=\"black\" height=\"10\" stroke=\"white\" width=\"10\" x=\"30\" y=\"150\" /><rect fill=\"black\" height=\"10\" stroke=\"white\" width=\"10\" x=\"40\" y=\"150\" /><rect fill=\"black\" height=\"10\" stroke=\"white\" width=\"10\" x=\"50\" y=\"150\" /><rect fill=\"black\" height=\"10\" stroke=\"white\" width=\"10\" x=\"60\" y=\"150\" /><rect fill=\"black\" height=\"10\" stroke=\"white\" width=\"10\" x=\"70\" y=\"150\" /><rect fill=\"black\" height=\"10\" stroke=\"white\" width=\"10\" x=\"80\" y=\"150\" /><rect fill=\"black\" height=\"10\" stroke=\"white\" width=\"10\" x=\"90\" y=\"150\" /><rect fill=\"black\" height=\"10\" stroke=\"white\" width=\"10\" x=\"0\" y=\"140\" /><rect fill=\"black\" height=\"10\" stroke=\"white\" width=\"10\" x=\"10\" y=\"140\" /><rect fill=\"black\" height=\"10\" stroke=\"white\" width=\"10\" x=\"20\" y=\"140\" /><rect fill=\"black\" height=\"10\" stroke=\"white\" width=\"10\" x=\"30\" y=\"140\" /><rect fill=\"black\" height=\"10\" stroke=\"white\" width=\"10\" x=\"40\" y=\"140\" /><rect fill=\"black\" height=\"10\" stroke=\"white\" width=\"10\" x=\"50\" y=\"140\" /><rect fill=\"black\" height=\"10\" stroke=\"white\" width=\"10\" x=\"60\" y=\"140\" /><rect fill=\"black\" height=\"10\" stroke=\"white\" width=\"10\" x=\"70\" y=\"140\" /><rect fill=\"black\" height=\"10\" stroke=\"white\" width=\"10\" x=\"80\" y=\"140\" /><rect fill=\"black\" height=\"10\" stroke=\"white\" width=\"10\" x=\"90\" y=\"140\" /><rect fill=\"black\" height=\"10\" stroke=\"white\" width=\"10\" x=\"0\" y=\"130\" /><rect fill=\"black\" height=\"10\" stroke=\"white\" width=\"10\" x=\"10\" y=\"130\" /><rect fill=\"black\" height=\"10\" stroke=\"white\" width=\"10\" x=\"20\" y=\"130\" /><rect fill=\"black\" height=\"10\" stroke=\"white\" width=\"10\" x=\"30\" y=\"130\" /><rect fill=\"black\" height=\"10\" stroke=\"white\" width=\"10\" x=\"40\" y=\"130\" /><rect fill=\"black\" height=\"10\" stroke=\"white\" width=\"10\" x=\"50\" y=\"130\" /><rect fill=\"black\" height=\"10\" stroke=\"white\" width=\"10\" x=\"60\" y=\"130\" /><rect fill=\"black\" height=\"10\" stroke=\"white\" width=\"10\" x=\"70\" y=\"130\" /><rect fill=\"black\" height=\"10\" stroke=\"white\" width=\"10\" x=\"80\" y=\"130\" /><rect fill=\"black\" height=\"10\" stroke=\"white\" width=\"10\" x=\"90\" y=\"130\" /><rect fill=\"black\" height=\"10\" stroke=\"white\" width=\"10\" x=\"0\" y=\"120\" /><rect fill=\"black\" height=\"10\" stroke=\"white\" width=\"10\" x=\"10\" y=\"120\" /><rect fill=\"black\" height=\"10\" stroke=\"white\" width=\"10\" x=\"20\" y=\"120\" /><rect fill=\"black\" height=\"10\" stroke=\"white\" width=\"10\" x=\"30\" y=\"120\" /><rect fill=\"black\" height=\"10\" stroke=\"white\" width=\"10\" x=\"40\" y=\"120\" /><rect fill=\"black\" height=\"10\" stroke=\"white\" width=\"10\" x=\"50\" y=\"120\" /><rect fill=\"black\" height=\"10\" stroke=\"white\" width=\"10\" x=\"60\" y=\"120\" /><rect fill=\"black\" height=\"10\" stroke=\"white\" width=\"10\" x=\"70\" y=\"120\" /><rect fill=\"black\" height=\"10\" stroke=\"white\" width=\"10\" x=\"80\" y=\"120\" /><rect fill=\"black\" height=\"10\" stroke=\"white\" width=\"10\" x=\"90\" y=\"120\" /><rect fill=\"black\" height=\"10\" stroke=\"white\" width=\"10\" x=\"0\" y=\"110\" /><rect fill=\"black\" height=\"10\" stroke=\"white\" width=\"10\" x=\"10\" y=\"110\" /><rect fill=\"black\" height=\"10\" stroke=\"white\" width=\"10\" x=\"20\" y=\"110\" /><rect fill=\"black\" height=\"10\" stroke=\"white\" width=\"10\" x=\"30\" y=\"110\" /><rect fill=\"black\" height=\"10\" stroke=\"white\" width=\"10\" x=\"40\" y=\"110\" /><rect fill=\"black\" height=\"10\" stroke=\"white\" width=\"10\" x=\"50\" y=\"110\" /><rect fill=\"black\" height=\"10\" stroke=\"white\" width=\"10\" x=\"60\" y=\"110\" /><rect fill=\"black\" height=\"10\" stroke=\"white\" width=\"10\" x=\"70\" y=\"110\" /><rect fill=\"black\" height=\"10\" stroke=\"white\" width=\"10\" x=\"80\" y=\"110\" /><rect fill=\"black\" height=\"10\" stroke=\"white\" width=\"10\" x=\"90\" y=\"110\" /><rect fill=\"black\" height=\"10\" stroke=\"white\" width=\"10\" x=\"0\" y=\"100\" /><rect fill=\"black\" height=\"10\" stroke=\"white\" width=\"10\" x=\"10\" y=\"100\" /><rect fill=\"black\" height=\"10\" stroke=\"white\" width=\"10\" x=\"20\" y=\"100\" /><rect fill=\"black\" height=\"10\" stroke=\"white\" width=\"10\" x=\"30\" y=\"100\" /><rect fill=\"black\" height=\"10\" stroke=\"white\" width=\"10\" x=\"40\" y=\"100\" /><rect fill=\"black\" height=\"10\" stroke=\"white\" width=\"10\" x=\"50\" y=\"100\" /><rect fill=\"black\" height=\"10\" stroke=\"white\" width=\"10\" x=\"60\" y=\"100\" /><rect fill=\"black\" height=\"10\" stroke=\"white\" width=\"10\" x=\"70\" y=\"100\" /><rect fill=\"black\" height=\"10\" stroke=\"white\" width=\"10\" x=\"80\" y=\"100\" /><rect fill=\"black\" height=\"10\" stroke=\"white\" width=\"10\" x=\"90\" y=\"100\" /><rect fill=\"black\" height=\"10\" stroke=\"white\" width=\"10\" x=\"0\" y=\"90\" /><rect fill=\"black\" height=\"10\" stroke=\"white\" width=\"10\" x=\"10\" y=\"90\" /><rect fill=\"black\" height=\"10\" stroke=\"white\" width=\"10\" x=\"20\" y=\"90\" /><rect fill=\"black\" height=\"10\" stroke=\"white\" width=\"10\" x=\"30\" y=\"90\" /><rect fill=\"black\" height=\"10\" stroke=\"white\" width=\"10\" x=\"40\" y=\"90\" /><rect fill=\"black\" height=\"10\" stroke=\"white\" width=\"10\" x=\"50\" y=\"90\" /><rect fill=\"black\" height=\"10\" stroke=\"white\" width=\"10\" x=\"60\" y=\"90\" /><rect fill=\"black\" height=\"10\" stroke=\"white\" width=\"10\" x=\"70\" y=\"90\" /><rect fill=\"black\" height=\"10\" stroke=\"white\" width=\"10\" x=\"80\" y=\"90\" /><rect fill=\"black\" height=\"10\" stroke=\"white\" width=\"10\" x=\"90\" y=\"90\" /><rect fill=\"black\" height=\"10\" stroke=\"white\" width=\"10\" x=\"0\" y=\"80\" /><rect fill=\"black\" height=\"10\" stroke=\"white\" width=\"10\" x=\"10\" y=\"80\" /><rect fill=\"black\" height=\"10\" stroke=\"white\" width=\"10\" x=\"20\" y=\"80\" /><rect fill=\"black\" height=\"10\" stroke=\"white\" width=\"10\" x=\"30\" y=\"80\" /><rect fill=\"black\" height=\"10\" stroke=\"white\" width=\"10\" x=\"40\" y=\"80\" /><rect fill=\"black\" height=\"10\" stroke=\"white\" width=\"10\" x=\"50\" y=\"80\" /><rect fill=\"black\" height=\"10\" stroke=\"white\" width=\"10\" x=\"60\" y=\"80\" /><rect fill=\"black\" height=\"10\" stroke=\"white\" width=\"10\" x=\"70\" y=\"80\" /><rect fill=\"black\" height=\"10\" stroke=\"white\" width=\"10\" x=\"80\" y=\"80\" /><rect fill=\"black\" height=\"10\" stroke=\"white\" width=\"10\" x=\"90\" y=\"80\" /><rect fill=\"black\" height=\"10\" stroke=\"white\" width=\"10\" x=\"0\" y=\"70\" /><rect fill=\"black\" height=\"10\" stroke=\"white\" width=\"10\" x=\"10\" y=\"70\" /><rect fill=\"black\" height=\"10\" stroke=\"white\" width=\"10\" x=\"20\" y=\"70\" /><rect fill=\"black\" height=\"10\" stroke=\"white\" width=\"10\" x=\"30\" y=\"70\" /><rect fill=\"black\" height=\"10\" stroke=\"white\" width=\"10\" x=\"40\" y=\"70\" /><rect fill=\"black\" height=\"10\" stroke=\"white\" width=\"10\" x=\"50\" y=\"70\" /><rect fill=\"black\" height=\"10\" stroke=\"white\" width=\"10\" x=\"60\" y=\"70\" /><rect fill=\"black\" height=\"10\" stroke=\"white\" width=\"10\" x=\"70\" y=\"70\" /><rect fill=\"black\" height=\"10\" stroke=\"white\" width=\"10\" x=\"80\" y=\"70\" /><rect fill=\"black\" height=\"10\" stroke=\"white\" width=\"10\" x=\"90\" y=\"70\" /><rect fill=\"black\" height=\"10\" stroke=\"white\" width=\"10\" x=\"0\" y=\"60\" /><rect fill=\"black\" height=\"10\" stroke=\"white\" width=\"10\" x=\"10\" y=\"60\" /><rect fill=\"black\" height=\"10\" stroke=\"white\" width=\"10\" x=\"20\" y=\"60\" /><rect fill=\"black\" height=\"10\" stroke=\"white\" width=\"10\" x=\"30\" y=\"60\" /><rect fill=\"black\" height=\"10\" stroke=\"white\" width=\"10\" x=\"40\" y=\"60\" /><rect fill=\"black\" height=\"10\" stroke=\"white\" width=\"10\" x=\"50\" y=\"60\" /><rect fill=\"black\" height=\"10\" stroke=\"white\" width=\"10\" x=\"60\" y=\"60\" /><rect fill=\"black\" height=\"10\" stroke=\"white\" width=\"10\" x=\"70\" y=\"60\" /><rect fill=\"black\" height=\"10\" stroke=\"white\" width=\"10\" x=\"80\" y=\"60\" /><rect fill=\"black\" height=\"10\" stroke=\"white\" width=\"10\" x=\"90\" y=\"60\" /><rect fill=\"black\" height=\"10\" stroke=\"white\" width=\"10\" x=\"0\" y=\"50\" /><rect fill=\"black\" height=\"10\" stroke=\"white\" width=\"10\" x=\"10\" y=\"50\" /><rect fill=\"black\" height=\"10\" stroke=\"white\" width=\"10\" x=\"20\" y=\"50\" /><rect fill=\"black\" height=\"10\" stroke=\"white\" width=\"10\" x=\"30\" y=\"50\" /><rect fill=\"black\" height=\"10\" stroke=\"white\" width=\"10\" x=\"40\" y=\"50\" /><rect fill=\"black\" height=\"10\" stroke=\"white\" width=\"10\" x=\"50\" y=\"50\" /><rect fill=\"black\" height=\"10\" stroke=\"white\" width=\"10\" x=\"60\" y=\"50\" /><rect fill=\"black\" height=\"10\" stroke=\"white\" width=\"10\" x=\"70\" y=\"50\" /><rect fill=\"black\" height=\"10\" stroke=\"white\" width=\"10\" x=\"80\" y=\"50\" /><rect fill=\"black\" height=\"10\" stroke=\"white\" width=\"10\" x=\"90\" y=\"50\" /><rect fill=\"black\" height=\"10\" stroke=\"white\" width=\"10\" x=\"0\" y=\"40\" /><rect fill=\"black\" height=\"10\" stroke=\"white\" width=\"10\" x=\"10\" y=\"40\" /><rect fill=\"black\" height=\"10\" stroke=\"white\" width=\"10\" x=\"20\" y=\"40\" /><rect fill=\"black\" height=\"10\" stroke=\"white\" width=\"10\" x=\"30\" y=\"40\" /><rect fill=\"black\" height=\"10\" stroke=\"white\" width=\"10\" x=\"40\" y=\"40\" /><rect fill=\"black\" height=\"10\" stroke=\"white\" width=\"10\" x=\"50\" y=\"40\" /><rect fill=\"black\" height=\"10\" stroke=\"white\" width=\"10\" x=\"60\" y=\"40\" /><rect fill=\"black\" height=\"10\" stroke=\"white\" width=\"10\" x=\"70\" y=\"40\" /><rect fill=\"black\" height=\"10\" stroke=\"white\" width=\"10\" x=\"80\" y=\"40\" /><rect fill=\"black\" height=\"10\" stroke=\"white\" width=\"10\" x=\"90\" y=\"40\" /><rect fill=\"black\" height=\"10\" stroke=\"white\" width=\"10\" x=\"0\" y=\"30\" /><rect fill=\"black\" height=\"10\" stroke=\"white\" width=\"10\" x=\"10\" y=\"30\" /><rect fill=\"black\" height=\"10\" stroke=\"white\" width=\"10\" x=\"20\" y=\"30\" /><rect fill=\"black\" height=\"10\" stroke=\"white\" width=\"10\" x=\"30\" y=\"30\" /><rect fill=\"black\" height=\"10\" stroke=\"white\" width=\"10\" x=\"40\" y=\"30\" /><rect fill=\"black\" height=\"10\" stroke=\"white\" width=\"10\" x=\"50\" y=\"30\" /><rect fill=\"black\" height=\"10\" stroke=\"white\" width=\"10\" x=\"60\" y=\"30\" /><rect fill=\"black\" height=\"10\" stroke=\"white\" width=\"10\" x=\"70\" y=\"30\" /><rect fill=\"black\" height=\"10\" stroke=\"white\" width=\"10\" x=\"80\" y=\"30\" /><rect fill=\"black\" height=\"10\" stroke=\"white\" width=\"10\" x=\"90\" y=\"30\" /><rect fill=\"black\" height=\"10\" stroke=\"white\" width=\"10\" x=\"0\" y=\"20\" /><rect fill=\"black\" height=\"10\" stroke=\"white\" width=\"10\" x=\"10\" y=\"20\" /><rect fill=\"black\" height=\"10\" stroke=\"white\" width=\"10\" x=\"20\" y=\"20\" /><rect fill=\"black\" height=\"10\" stroke=\"white\" width=\"10\" x=\"30\" y=\"20\" /><rect fill=\"black\" height=\"10\" stroke=\"white\" width=\"10\" x=\"40\" y=\"20\" /><rect fill=\"black\" height=\"10\" stroke=\"white\" width=\"10\" x=\"50\" y=\"20\" /><rect fill=\"black\" height=\"10\" stroke=\"white\" width=\"10\" x=\"60\" y=\"20\" /><rect fill=\"black\" height=\"10\" stroke=\"white\" width=\"10\" x=\"70\" y=\"20\" /><rect fill=\"black\" height=\"10\" stroke=\"white\" width=\"10\" x=\"80\" y=\"20\" /><rect fill=\"black\" height=\"10\" stroke=\"white\" width=\"10\" x=\"90\" y=\"20\" /><rect fill=\"black\" height=\"10\" stroke=\"white\" width=\"10\" x=\"0\" y=\"10\" /><rect fill=\"black\" height=\"10\" stroke=\"white\" width=\"10\" x=\"10\" y=\"10\" /><rect fill=\"black\" height=\"10\" stroke=\"white\" width=\"10\" x=\"20\" y=\"10\" /><rect fill=\"black\" height=\"10\" stroke=\"white\" width=\"10\" x=\"30\" y=\"10\" /><rect fill=\"black\" height=\"10\" stroke=\"white\" width=\"10\" x=\"40\" y=\"10\" /><rect fill=\"black\" height=\"10\" stroke=\"white\" width=\"10\" x=\"50\" y=\"10\" /><rect fill=\"black\" height=\"10\" stroke=\"white\" width=\"10\" x=\"60\" y=\"10\" /><rect fill=\"black\" height=\"10\" stroke=\"white\" width=\"10\" x=\"70\" y=\"10\" /><rect fill=\"black\" height=\"10\" stroke=\"white\" width=\"10\" x=\"80\" y=\"10\" /><rect fill=\"black\" height=\"10\" stroke=\"white\" width=\"10\" x=\"90\" y=\"10\" /></svg>"
      ],
      "text/plain": [
       "<tetris.playfield.Playfield at 0x103ce5fa0>"
      ]
     },
     "execution_count": null,
     "metadata": {},
     "output_type": "execute_result"
    }
   ],
   "source": [
    "pf = Playfield()\n",
    "pf"
   ]
  },
  {
   "cell_type": "code",
   "execution_count": null,
   "metadata": {},
   "outputs": [
    {
     "data": {
      "image/svg+xml": [
       "<svg baseProfile=\"full\" height=\"100%\" version=\"1.1\" viewBox=\"0,0,800,50\" width=\"100%\" xmlns=\"http://www.w3.org/2000/svg\" xmlns:ev=\"http://www.w3.org/2001/xml-events\" xmlns:xlink=\"http://www.w3.org/1999/xlink\"><defs /><rect fill=\"blue\" height=\"10\" width=\"10\" x=\"0\" y=\"10\" /><rect fill=\"blue\" height=\"10\" width=\"10\" x=\"10\" y=\"10\" /><rect fill=\"blue\" height=\"10\" width=\"10\" x=\"20\" y=\"10\" /><rect fill=\"blue\" height=\"10\" width=\"10\" x=\"30\" y=\"10\" /></svg>"
      ],
      "text/plain": [
       "<tetris.piece.Piece at 0x103d061f0>"
      ]
     },
     "execution_count": null,
     "metadata": {},
     "output_type": "execute_result"
    }
   ],
   "source": [
    "i = Piece(\"****\")\n",
    "i"
   ]
  },
  {
   "cell_type": "code",
   "execution_count": null,
   "metadata": {},
   "outputs": [
    {
     "data": {
      "image/svg+xml": [
       "<svg baseProfile=\"full\" height=\"100%\" version=\"1.1\" viewBox=\"0,0,800,450\" width=\"100%\" xmlns=\"http://www.w3.org/2000/svg\" xmlns:ev=\"http://www.w3.org/2001/xml-events\" xmlns:xlink=\"http://www.w3.org/1999/xlink\"><defs /><rect fill=\"blue\" height=\"10\" stroke=\"white\" width=\"10\" x=\"0\" y=\"200\" /><rect fill=\"blue\" height=\"10\" stroke=\"white\" width=\"10\" x=\"10\" y=\"200\" /><rect fill=\"blue\" height=\"10\" stroke=\"white\" width=\"10\" x=\"20\" y=\"200\" /><rect fill=\"blue\" height=\"10\" stroke=\"white\" width=\"10\" x=\"30\" y=\"200\" /><rect fill=\"black\" height=\"10\" stroke=\"white\" width=\"10\" x=\"40\" y=\"200\" /><rect fill=\"black\" height=\"10\" stroke=\"white\" width=\"10\" x=\"50\" y=\"200\" /><rect fill=\"black\" height=\"10\" stroke=\"white\" width=\"10\" x=\"60\" y=\"200\" /><rect fill=\"black\" height=\"10\" stroke=\"white\" width=\"10\" x=\"70\" y=\"200\" /><rect fill=\"black\" height=\"10\" stroke=\"white\" width=\"10\" x=\"80\" y=\"200\" /><rect fill=\"black\" height=\"10\" stroke=\"white\" width=\"10\" x=\"90\" y=\"200\" /><rect fill=\"black\" height=\"10\" stroke=\"white\" width=\"10\" x=\"0\" y=\"190\" /><rect fill=\"black\" height=\"10\" stroke=\"white\" width=\"10\" x=\"10\" y=\"190\" /><rect fill=\"black\" height=\"10\" stroke=\"white\" width=\"10\" x=\"20\" y=\"190\" /><rect fill=\"black\" height=\"10\" stroke=\"white\" width=\"10\" x=\"30\" y=\"190\" /><rect fill=\"black\" height=\"10\" stroke=\"white\" width=\"10\" x=\"40\" y=\"190\" /><rect fill=\"black\" height=\"10\" stroke=\"white\" width=\"10\" x=\"50\" y=\"190\" /><rect fill=\"black\" height=\"10\" stroke=\"white\" width=\"10\" x=\"60\" y=\"190\" /><rect fill=\"black\" height=\"10\" stroke=\"white\" width=\"10\" x=\"70\" y=\"190\" /><rect fill=\"black\" height=\"10\" stroke=\"white\" width=\"10\" x=\"80\" y=\"190\" /><rect fill=\"black\" height=\"10\" stroke=\"white\" width=\"10\" x=\"90\" y=\"190\" /><rect fill=\"black\" height=\"10\" stroke=\"white\" width=\"10\" x=\"0\" y=\"180\" /><rect fill=\"black\" height=\"10\" stroke=\"white\" width=\"10\" x=\"10\" y=\"180\" /><rect fill=\"black\" height=\"10\" stroke=\"white\" width=\"10\" x=\"20\" y=\"180\" /><rect fill=\"black\" height=\"10\" stroke=\"white\" width=\"10\" x=\"30\" y=\"180\" /><rect fill=\"black\" height=\"10\" stroke=\"white\" width=\"10\" x=\"40\" y=\"180\" /><rect fill=\"black\" height=\"10\" stroke=\"white\" width=\"10\" x=\"50\" y=\"180\" /><rect fill=\"black\" height=\"10\" stroke=\"white\" width=\"10\" x=\"60\" y=\"180\" /><rect fill=\"black\" height=\"10\" stroke=\"white\" width=\"10\" x=\"70\" y=\"180\" /><rect fill=\"black\" height=\"10\" stroke=\"white\" width=\"10\" x=\"80\" y=\"180\" /><rect fill=\"black\" height=\"10\" stroke=\"white\" width=\"10\" x=\"90\" y=\"180\" /><rect fill=\"black\" height=\"10\" stroke=\"white\" width=\"10\" x=\"0\" y=\"170\" /><rect fill=\"black\" height=\"10\" stroke=\"white\" width=\"10\" x=\"10\" y=\"170\" /><rect fill=\"black\" height=\"10\" stroke=\"white\" width=\"10\" x=\"20\" y=\"170\" /><rect fill=\"black\" height=\"10\" stroke=\"white\" width=\"10\" x=\"30\" y=\"170\" /><rect fill=\"black\" height=\"10\" stroke=\"white\" width=\"10\" x=\"40\" y=\"170\" /><rect fill=\"black\" height=\"10\" stroke=\"white\" width=\"10\" x=\"50\" y=\"170\" /><rect fill=\"black\" height=\"10\" stroke=\"white\" width=\"10\" x=\"60\" y=\"170\" /><rect fill=\"black\" height=\"10\" stroke=\"white\" width=\"10\" x=\"70\" y=\"170\" /><rect fill=\"black\" height=\"10\" stroke=\"white\" width=\"10\" x=\"80\" y=\"170\" /><rect fill=\"black\" height=\"10\" stroke=\"white\" width=\"10\" x=\"90\" y=\"170\" /><rect fill=\"black\" height=\"10\" stroke=\"white\" width=\"10\" x=\"0\" y=\"160\" /><rect fill=\"black\" height=\"10\" stroke=\"white\" width=\"10\" x=\"10\" y=\"160\" /><rect fill=\"black\" height=\"10\" stroke=\"white\" width=\"10\" x=\"20\" y=\"160\" /><rect fill=\"black\" height=\"10\" stroke=\"white\" width=\"10\" x=\"30\" y=\"160\" /><rect fill=\"black\" height=\"10\" stroke=\"white\" width=\"10\" x=\"40\" y=\"160\" /><rect fill=\"black\" height=\"10\" stroke=\"white\" width=\"10\" x=\"50\" y=\"160\" /><rect fill=\"black\" height=\"10\" stroke=\"white\" width=\"10\" x=\"60\" y=\"160\" /><rect fill=\"black\" height=\"10\" stroke=\"white\" width=\"10\" x=\"70\" y=\"160\" /><rect fill=\"black\" height=\"10\" stroke=\"white\" width=\"10\" x=\"80\" y=\"160\" /><rect fill=\"black\" height=\"10\" stroke=\"white\" width=\"10\" x=\"90\" y=\"160\" /><rect fill=\"black\" height=\"10\" stroke=\"white\" width=\"10\" x=\"0\" y=\"150\" /><rect fill=\"black\" height=\"10\" stroke=\"white\" width=\"10\" x=\"10\" y=\"150\" /><rect fill=\"black\" height=\"10\" stroke=\"white\" width=\"10\" x=\"20\" y=\"150\" /><rect fill=\"black\" height=\"10\" stroke=\"white\" width=\"10\" x=\"30\" y=\"150\" /><rect fill=\"black\" height=\"10\" stroke=\"white\" width=\"10\" x=\"40\" y=\"150\" /><rect fill=\"black\" height=\"10\" stroke=\"white\" width=\"10\" x=\"50\" y=\"150\" /><rect fill=\"black\" height=\"10\" stroke=\"white\" width=\"10\" x=\"60\" y=\"150\" /><rect fill=\"black\" height=\"10\" stroke=\"white\" width=\"10\" x=\"70\" y=\"150\" /><rect fill=\"black\" height=\"10\" stroke=\"white\" width=\"10\" x=\"80\" y=\"150\" /><rect fill=\"black\" height=\"10\" stroke=\"white\" width=\"10\" x=\"90\" y=\"150\" /><rect fill=\"black\" height=\"10\" stroke=\"white\" width=\"10\" x=\"0\" y=\"140\" /><rect fill=\"black\" height=\"10\" stroke=\"white\" width=\"10\" x=\"10\" y=\"140\" /><rect fill=\"black\" height=\"10\" stroke=\"white\" width=\"10\" x=\"20\" y=\"140\" /><rect fill=\"black\" height=\"10\" stroke=\"white\" width=\"10\" x=\"30\" y=\"140\" /><rect fill=\"black\" height=\"10\" stroke=\"white\" width=\"10\" x=\"40\" y=\"140\" /><rect fill=\"black\" height=\"10\" stroke=\"white\" width=\"10\" x=\"50\" y=\"140\" /><rect fill=\"black\" height=\"10\" stroke=\"white\" width=\"10\" x=\"60\" y=\"140\" /><rect fill=\"black\" height=\"10\" stroke=\"white\" width=\"10\" x=\"70\" y=\"140\" /><rect fill=\"black\" height=\"10\" stroke=\"white\" width=\"10\" x=\"80\" y=\"140\" /><rect fill=\"black\" height=\"10\" stroke=\"white\" width=\"10\" x=\"90\" y=\"140\" /><rect fill=\"black\" height=\"10\" stroke=\"white\" width=\"10\" x=\"0\" y=\"130\" /><rect fill=\"black\" height=\"10\" stroke=\"white\" width=\"10\" x=\"10\" y=\"130\" /><rect fill=\"black\" height=\"10\" stroke=\"white\" width=\"10\" x=\"20\" y=\"130\" /><rect fill=\"black\" height=\"10\" stroke=\"white\" width=\"10\" x=\"30\" y=\"130\" /><rect fill=\"black\" height=\"10\" stroke=\"white\" width=\"10\" x=\"40\" y=\"130\" /><rect fill=\"black\" height=\"10\" stroke=\"white\" width=\"10\" x=\"50\" y=\"130\" /><rect fill=\"black\" height=\"10\" stroke=\"white\" width=\"10\" x=\"60\" y=\"130\" /><rect fill=\"black\" height=\"10\" stroke=\"white\" width=\"10\" x=\"70\" y=\"130\" /><rect fill=\"black\" height=\"10\" stroke=\"white\" width=\"10\" x=\"80\" y=\"130\" /><rect fill=\"black\" height=\"10\" stroke=\"white\" width=\"10\" x=\"90\" y=\"130\" /><rect fill=\"black\" height=\"10\" stroke=\"white\" width=\"10\" x=\"0\" y=\"120\" /><rect fill=\"black\" height=\"10\" stroke=\"white\" width=\"10\" x=\"10\" y=\"120\" /><rect fill=\"black\" height=\"10\" stroke=\"white\" width=\"10\" x=\"20\" y=\"120\" /><rect fill=\"black\" height=\"10\" stroke=\"white\" width=\"10\" x=\"30\" y=\"120\" /><rect fill=\"black\" height=\"10\" stroke=\"white\" width=\"10\" x=\"40\" y=\"120\" /><rect fill=\"black\" height=\"10\" stroke=\"white\" width=\"10\" x=\"50\" y=\"120\" /><rect fill=\"black\" height=\"10\" stroke=\"white\" width=\"10\" x=\"60\" y=\"120\" /><rect fill=\"black\" height=\"10\" stroke=\"white\" width=\"10\" x=\"70\" y=\"120\" /><rect fill=\"black\" height=\"10\" stroke=\"white\" width=\"10\" x=\"80\" y=\"120\" /><rect fill=\"black\" height=\"10\" stroke=\"white\" width=\"10\" x=\"90\" y=\"120\" /><rect fill=\"black\" height=\"10\" stroke=\"white\" width=\"10\" x=\"0\" y=\"110\" /><rect fill=\"black\" height=\"10\" stroke=\"white\" width=\"10\" x=\"10\" y=\"110\" /><rect fill=\"black\" height=\"10\" stroke=\"white\" width=\"10\" x=\"20\" y=\"110\" /><rect fill=\"black\" height=\"10\" stroke=\"white\" width=\"10\" x=\"30\" y=\"110\" /><rect fill=\"black\" height=\"10\" stroke=\"white\" width=\"10\" x=\"40\" y=\"110\" /><rect fill=\"black\" height=\"10\" stroke=\"white\" width=\"10\" x=\"50\" y=\"110\" /><rect fill=\"black\" height=\"10\" stroke=\"white\" width=\"10\" x=\"60\" y=\"110\" /><rect fill=\"black\" height=\"10\" stroke=\"white\" width=\"10\" x=\"70\" y=\"110\" /><rect fill=\"black\" height=\"10\" stroke=\"white\" width=\"10\" x=\"80\" y=\"110\" /><rect fill=\"black\" height=\"10\" stroke=\"white\" width=\"10\" x=\"90\" y=\"110\" /><rect fill=\"black\" height=\"10\" stroke=\"white\" width=\"10\" x=\"0\" y=\"100\" /><rect fill=\"black\" height=\"10\" stroke=\"white\" width=\"10\" x=\"10\" y=\"100\" /><rect fill=\"black\" height=\"10\" stroke=\"white\" width=\"10\" x=\"20\" y=\"100\" /><rect fill=\"black\" height=\"10\" stroke=\"white\" width=\"10\" x=\"30\" y=\"100\" /><rect fill=\"black\" height=\"10\" stroke=\"white\" width=\"10\" x=\"40\" y=\"100\" /><rect fill=\"black\" height=\"10\" stroke=\"white\" width=\"10\" x=\"50\" y=\"100\" /><rect fill=\"black\" height=\"10\" stroke=\"white\" width=\"10\" x=\"60\" y=\"100\" /><rect fill=\"black\" height=\"10\" stroke=\"white\" width=\"10\" x=\"70\" y=\"100\" /><rect fill=\"black\" height=\"10\" stroke=\"white\" width=\"10\" x=\"80\" y=\"100\" /><rect fill=\"black\" height=\"10\" stroke=\"white\" width=\"10\" x=\"90\" y=\"100\" /><rect fill=\"black\" height=\"10\" stroke=\"white\" width=\"10\" x=\"0\" y=\"90\" /><rect fill=\"black\" height=\"10\" stroke=\"white\" width=\"10\" x=\"10\" y=\"90\" /><rect fill=\"black\" height=\"10\" stroke=\"white\" width=\"10\" x=\"20\" y=\"90\" /><rect fill=\"black\" height=\"10\" stroke=\"white\" width=\"10\" x=\"30\" y=\"90\" /><rect fill=\"black\" height=\"10\" stroke=\"white\" width=\"10\" x=\"40\" y=\"90\" /><rect fill=\"black\" height=\"10\" stroke=\"white\" width=\"10\" x=\"50\" y=\"90\" /><rect fill=\"black\" height=\"10\" stroke=\"white\" width=\"10\" x=\"60\" y=\"90\" /><rect fill=\"black\" height=\"10\" stroke=\"white\" width=\"10\" x=\"70\" y=\"90\" /><rect fill=\"black\" height=\"10\" stroke=\"white\" width=\"10\" x=\"80\" y=\"90\" /><rect fill=\"black\" height=\"10\" stroke=\"white\" width=\"10\" x=\"90\" y=\"90\" /><rect fill=\"black\" height=\"10\" stroke=\"white\" width=\"10\" x=\"0\" y=\"80\" /><rect fill=\"black\" height=\"10\" stroke=\"white\" width=\"10\" x=\"10\" y=\"80\" /><rect fill=\"black\" height=\"10\" stroke=\"white\" width=\"10\" x=\"20\" y=\"80\" /><rect fill=\"black\" height=\"10\" stroke=\"white\" width=\"10\" x=\"30\" y=\"80\" /><rect fill=\"black\" height=\"10\" stroke=\"white\" width=\"10\" x=\"40\" y=\"80\" /><rect fill=\"black\" height=\"10\" stroke=\"white\" width=\"10\" x=\"50\" y=\"80\" /><rect fill=\"black\" height=\"10\" stroke=\"white\" width=\"10\" x=\"60\" y=\"80\" /><rect fill=\"black\" height=\"10\" stroke=\"white\" width=\"10\" x=\"70\" y=\"80\" /><rect fill=\"black\" height=\"10\" stroke=\"white\" width=\"10\" x=\"80\" y=\"80\" /><rect fill=\"black\" height=\"10\" stroke=\"white\" width=\"10\" x=\"90\" y=\"80\" /><rect fill=\"black\" height=\"10\" stroke=\"white\" width=\"10\" x=\"0\" y=\"70\" /><rect fill=\"black\" height=\"10\" stroke=\"white\" width=\"10\" x=\"10\" y=\"70\" /><rect fill=\"black\" height=\"10\" stroke=\"white\" width=\"10\" x=\"20\" y=\"70\" /><rect fill=\"black\" height=\"10\" stroke=\"white\" width=\"10\" x=\"30\" y=\"70\" /><rect fill=\"black\" height=\"10\" stroke=\"white\" width=\"10\" x=\"40\" y=\"70\" /><rect fill=\"black\" height=\"10\" stroke=\"white\" width=\"10\" x=\"50\" y=\"70\" /><rect fill=\"black\" height=\"10\" stroke=\"white\" width=\"10\" x=\"60\" y=\"70\" /><rect fill=\"black\" height=\"10\" stroke=\"white\" width=\"10\" x=\"70\" y=\"70\" /><rect fill=\"black\" height=\"10\" stroke=\"white\" width=\"10\" x=\"80\" y=\"70\" /><rect fill=\"black\" height=\"10\" stroke=\"white\" width=\"10\" x=\"90\" y=\"70\" /><rect fill=\"black\" height=\"10\" stroke=\"white\" width=\"10\" x=\"0\" y=\"60\" /><rect fill=\"black\" height=\"10\" stroke=\"white\" width=\"10\" x=\"10\" y=\"60\" /><rect fill=\"black\" height=\"10\" stroke=\"white\" width=\"10\" x=\"20\" y=\"60\" /><rect fill=\"black\" height=\"10\" stroke=\"white\" width=\"10\" x=\"30\" y=\"60\" /><rect fill=\"black\" height=\"10\" stroke=\"white\" width=\"10\" x=\"40\" y=\"60\" /><rect fill=\"black\" height=\"10\" stroke=\"white\" width=\"10\" x=\"50\" y=\"60\" /><rect fill=\"black\" height=\"10\" stroke=\"white\" width=\"10\" x=\"60\" y=\"60\" /><rect fill=\"black\" height=\"10\" stroke=\"white\" width=\"10\" x=\"70\" y=\"60\" /><rect fill=\"black\" height=\"10\" stroke=\"white\" width=\"10\" x=\"80\" y=\"60\" /><rect fill=\"black\" height=\"10\" stroke=\"white\" width=\"10\" x=\"90\" y=\"60\" /><rect fill=\"black\" height=\"10\" stroke=\"white\" width=\"10\" x=\"0\" y=\"50\" /><rect fill=\"black\" height=\"10\" stroke=\"white\" width=\"10\" x=\"10\" y=\"50\" /><rect fill=\"black\" height=\"10\" stroke=\"white\" width=\"10\" x=\"20\" y=\"50\" /><rect fill=\"black\" height=\"10\" stroke=\"white\" width=\"10\" x=\"30\" y=\"50\" /><rect fill=\"black\" height=\"10\" stroke=\"white\" width=\"10\" x=\"40\" y=\"50\" /><rect fill=\"black\" height=\"10\" stroke=\"white\" width=\"10\" x=\"50\" y=\"50\" /><rect fill=\"black\" height=\"10\" stroke=\"white\" width=\"10\" x=\"60\" y=\"50\" /><rect fill=\"black\" height=\"10\" stroke=\"white\" width=\"10\" x=\"70\" y=\"50\" /><rect fill=\"black\" height=\"10\" stroke=\"white\" width=\"10\" x=\"80\" y=\"50\" /><rect fill=\"black\" height=\"10\" stroke=\"white\" width=\"10\" x=\"90\" y=\"50\" /><rect fill=\"black\" height=\"10\" stroke=\"white\" width=\"10\" x=\"0\" y=\"40\" /><rect fill=\"black\" height=\"10\" stroke=\"white\" width=\"10\" x=\"10\" y=\"40\" /><rect fill=\"black\" height=\"10\" stroke=\"white\" width=\"10\" x=\"20\" y=\"40\" /><rect fill=\"black\" height=\"10\" stroke=\"white\" width=\"10\" x=\"30\" y=\"40\" /><rect fill=\"black\" height=\"10\" stroke=\"white\" width=\"10\" x=\"40\" y=\"40\" /><rect fill=\"black\" height=\"10\" stroke=\"white\" width=\"10\" x=\"50\" y=\"40\" /><rect fill=\"black\" height=\"10\" stroke=\"white\" width=\"10\" x=\"60\" y=\"40\" /><rect fill=\"black\" height=\"10\" stroke=\"white\" width=\"10\" x=\"70\" y=\"40\" /><rect fill=\"black\" height=\"10\" stroke=\"white\" width=\"10\" x=\"80\" y=\"40\" /><rect fill=\"black\" height=\"10\" stroke=\"white\" width=\"10\" x=\"90\" y=\"40\" /><rect fill=\"black\" height=\"10\" stroke=\"white\" width=\"10\" x=\"0\" y=\"30\" /><rect fill=\"black\" height=\"10\" stroke=\"white\" width=\"10\" x=\"10\" y=\"30\" /><rect fill=\"black\" height=\"10\" stroke=\"white\" width=\"10\" x=\"20\" y=\"30\" /><rect fill=\"black\" height=\"10\" stroke=\"white\" width=\"10\" x=\"30\" y=\"30\" /><rect fill=\"black\" height=\"10\" stroke=\"white\" width=\"10\" x=\"40\" y=\"30\" /><rect fill=\"black\" height=\"10\" stroke=\"white\" width=\"10\" x=\"50\" y=\"30\" /><rect fill=\"black\" height=\"10\" stroke=\"white\" width=\"10\" x=\"60\" y=\"30\" /><rect fill=\"black\" height=\"10\" stroke=\"white\" width=\"10\" x=\"70\" y=\"30\" /><rect fill=\"black\" height=\"10\" stroke=\"white\" width=\"10\" x=\"80\" y=\"30\" /><rect fill=\"black\" height=\"10\" stroke=\"white\" width=\"10\" x=\"90\" y=\"30\" /><rect fill=\"black\" height=\"10\" stroke=\"white\" width=\"10\" x=\"0\" y=\"20\" /><rect fill=\"black\" height=\"10\" stroke=\"white\" width=\"10\" x=\"10\" y=\"20\" /><rect fill=\"black\" height=\"10\" stroke=\"white\" width=\"10\" x=\"20\" y=\"20\" /><rect fill=\"black\" height=\"10\" stroke=\"white\" width=\"10\" x=\"30\" y=\"20\" /><rect fill=\"black\" height=\"10\" stroke=\"white\" width=\"10\" x=\"40\" y=\"20\" /><rect fill=\"black\" height=\"10\" stroke=\"white\" width=\"10\" x=\"50\" y=\"20\" /><rect fill=\"black\" height=\"10\" stroke=\"white\" width=\"10\" x=\"60\" y=\"20\" /><rect fill=\"black\" height=\"10\" stroke=\"white\" width=\"10\" x=\"70\" y=\"20\" /><rect fill=\"black\" height=\"10\" stroke=\"white\" width=\"10\" x=\"80\" y=\"20\" /><rect fill=\"black\" height=\"10\" stroke=\"white\" width=\"10\" x=\"90\" y=\"20\" /><rect fill=\"black\" height=\"10\" stroke=\"white\" width=\"10\" x=\"0\" y=\"10\" /><rect fill=\"black\" height=\"10\" stroke=\"white\" width=\"10\" x=\"10\" y=\"10\" /><rect fill=\"black\" height=\"10\" stroke=\"white\" width=\"10\" x=\"20\" y=\"10\" /><rect fill=\"black\" height=\"10\" stroke=\"white\" width=\"10\" x=\"30\" y=\"10\" /><rect fill=\"black\" height=\"10\" stroke=\"white\" width=\"10\" x=\"40\" y=\"10\" /><rect fill=\"black\" height=\"10\" stroke=\"white\" width=\"10\" x=\"50\" y=\"10\" /><rect fill=\"black\" height=\"10\" stroke=\"white\" width=\"10\" x=\"60\" y=\"10\" /><rect fill=\"black\" height=\"10\" stroke=\"white\" width=\"10\" x=\"70\" y=\"10\" /><rect fill=\"black\" height=\"10\" stroke=\"white\" width=\"10\" x=\"80\" y=\"10\" /><rect fill=\"black\" height=\"10\" stroke=\"white\" width=\"10\" x=\"90\" y=\"10\" /></svg>"
      ],
      "text/plain": [
       "<tetris.playfield.Playfield at 0x103ce5fa0>"
      ]
     },
     "execution_count": null,
     "metadata": {},
     "output_type": "execute_result"
    }
   ],
   "source": [
    "pf.add(i, 0)\n",
    "pf"
   ]
  },
  {
   "cell_type": "code",
   "execution_count": null,
   "metadata": {},
   "outputs": [
    {
     "data": {
      "text/plain": [
       "1"
      ]
     },
     "execution_count": null,
     "metadata": {},
     "output_type": "execute_result"
    }
   ],
   "source": [
    "pf.height"
   ]
  },
  {
   "cell_type": "code",
   "execution_count": null,
   "metadata": {},
   "outputs": [],
   "source": [
    "loader = PieceLoader()"
   ]
  },
  {
   "cell_type": "code",
   "execution_count": null,
   "metadata": {},
   "outputs": [
    {
     "name": "stdout",
     "output_type": "stream",
     "text": [
      "i\n"
     ]
    },
    {
     "data": {
      "image/svg+xml": [
       "<svg xmlns=\"http://www.w3.org/2000/svg\" xmlns:ev=\"http://www.w3.org/2001/xml-events\" xmlns:xlink=\"http://www.w3.org/1999/xlink\" baseProfile=\"full\" height=\"100%\" version=\"1.1\" viewBox=\"0,0,800,50\" width=\"100%\"><defs/><rect fill=\"blue\" height=\"10\" width=\"10\" x=\"0\" y=\"10\"/><rect fill=\"blue\" height=\"10\" width=\"10\" x=\"10\" y=\"10\"/><rect fill=\"blue\" height=\"10\" width=\"10\" x=\"20\" y=\"10\"/><rect fill=\"blue\" height=\"10\" width=\"10\" x=\"30\" y=\"10\"/></svg>"
      ],
      "text/plain": [
       "<IPython.core.display.SVG object>"
      ]
     },
     "metadata": {},
     "output_type": "display_data"
    },
    {
     "name": "stdout",
     "output_type": "stream",
     "text": [
      "z\n"
     ]
    },
    {
     "data": {
      "image/svg+xml": [
       "<svg xmlns=\"http://www.w3.org/2000/svg\" xmlns:ev=\"http://www.w3.org/2001/xml-events\" xmlns:xlink=\"http://www.w3.org/1999/xlink\" baseProfile=\"full\" height=\"100%\" version=\"1.1\" viewBox=\"0,0,800,50\" width=\"100%\"><defs/><rect fill=\"black\" height=\"10\" width=\"10\" x=\"0\" y=\"20\"/><rect fill=\"blue\" height=\"10\" width=\"10\" x=\"10\" y=\"20\"/><rect fill=\"blue\" height=\"10\" width=\"10\" x=\"20\" y=\"20\"/><rect fill=\"blue\" height=\"10\" width=\"10\" x=\"0\" y=\"10\"/><rect fill=\"blue\" height=\"10\" width=\"10\" x=\"10\" y=\"10\"/><rect fill=\"black\" height=\"10\" width=\"10\" x=\"20\" y=\"10\"/></svg>"
      ],
      "text/plain": [
       "<IPython.core.display.SVG object>"
      ]
     },
     "metadata": {},
     "output_type": "display_data"
    },
    {
     "name": "stdout",
     "output_type": "stream",
     "text": [
      "t\n"
     ]
    },
    {
     "data": {
      "image/svg+xml": [
       "<svg xmlns=\"http://www.w3.org/2000/svg\" xmlns:ev=\"http://www.w3.org/2001/xml-events\" xmlns:xlink=\"http://www.w3.org/1999/xlink\" baseProfile=\"full\" height=\"100%\" version=\"1.1\" viewBox=\"0,0,800,50\" width=\"100%\"><defs/><rect fill=\"black\" height=\"10\" width=\"10\" x=\"0\" y=\"20\"/><rect fill=\"blue\" height=\"10\" width=\"10\" x=\"10\" y=\"20\"/><rect fill=\"black\" height=\"10\" width=\"10\" x=\"20\" y=\"20\"/><rect fill=\"blue\" height=\"10\" width=\"10\" x=\"0\" y=\"10\"/><rect fill=\"blue\" height=\"10\" width=\"10\" x=\"10\" y=\"10\"/><rect fill=\"blue\" height=\"10\" width=\"10\" x=\"20\" y=\"10\"/></svg>"
      ],
      "text/plain": [
       "<IPython.core.display.SVG object>"
      ]
     },
     "metadata": {},
     "output_type": "display_data"
    },
    {
     "name": "stdout",
     "output_type": "stream",
     "text": [
      "s\n"
     ]
    },
    {
     "data": {
      "image/svg+xml": [
       "<svg xmlns=\"http://www.w3.org/2000/svg\" xmlns:ev=\"http://www.w3.org/2001/xml-events\" xmlns:xlink=\"http://www.w3.org/1999/xlink\" baseProfile=\"full\" height=\"100%\" version=\"1.1\" viewBox=\"0,0,800,50\" width=\"100%\"><defs/><rect fill=\"blue\" height=\"10\" width=\"10\" x=\"0\" y=\"20\"/><rect fill=\"blue\" height=\"10\" width=\"10\" x=\"10\" y=\"20\"/><rect fill=\"black\" height=\"10\" width=\"10\" x=\"20\" y=\"20\"/><rect fill=\"black\" height=\"10\" width=\"10\" x=\"0\" y=\"10\"/><rect fill=\"blue\" height=\"10\" width=\"10\" x=\"10\" y=\"10\"/><rect fill=\"blue\" height=\"10\" width=\"10\" x=\"20\" y=\"10\"/></svg>"
      ],
      "text/plain": [
       "<IPython.core.display.SVG object>"
      ]
     },
     "metadata": {},
     "output_type": "display_data"
    },
    {
     "name": "stdout",
     "output_type": "stream",
     "text": [
      "j\n"
     ]
    },
    {
     "data": {
      "image/svg+xml": [
       "<svg xmlns=\"http://www.w3.org/2000/svg\" xmlns:ev=\"http://www.w3.org/2001/xml-events\" xmlns:xlink=\"http://www.w3.org/1999/xlink\" baseProfile=\"full\" height=\"100%\" version=\"1.1\" viewBox=\"0,0,800,50\" width=\"100%\"><defs/><rect fill=\"blue\" height=\"10\" width=\"10\" x=\"0\" y=\"30\"/><rect fill=\"blue\" height=\"10\" width=\"10\" x=\"10\" y=\"30\"/><rect fill=\"black\" height=\"10\" width=\"10\" x=\"0\" y=\"20\"/><rect fill=\"blue\" height=\"10\" width=\"10\" x=\"10\" y=\"20\"/><rect fill=\"black\" height=\"10\" width=\"10\" x=\"0\" y=\"10\"/><rect fill=\"blue\" height=\"10\" width=\"10\" x=\"10\" y=\"10\"/></svg>"
      ],
      "text/plain": [
       "<IPython.core.display.SVG object>"
      ]
     },
     "metadata": {},
     "output_type": "display_data"
    },
    {
     "name": "stdout",
     "output_type": "stream",
     "text": [
      "q\n"
     ]
    },
    {
     "data": {
      "image/svg+xml": [
       "<svg xmlns=\"http://www.w3.org/2000/svg\" xmlns:ev=\"http://www.w3.org/2001/xml-events\" xmlns:xlink=\"http://www.w3.org/1999/xlink\" baseProfile=\"full\" height=\"100%\" version=\"1.1\" viewBox=\"0,0,800,50\" width=\"100%\"><defs/><rect fill=\"blue\" height=\"10\" width=\"10\" x=\"0\" y=\"20\"/><rect fill=\"blue\" height=\"10\" width=\"10\" x=\"10\" y=\"20\"/><rect fill=\"blue\" height=\"10\" width=\"10\" x=\"0\" y=\"10\"/><rect fill=\"blue\" height=\"10\" width=\"10\" x=\"10\" y=\"10\"/></svg>"
      ],
      "text/plain": [
       "<IPython.core.display.SVG object>"
      ]
     },
     "metadata": {},
     "output_type": "display_data"
    },
    {
     "name": "stdout",
     "output_type": "stream",
     "text": [
      "l\n"
     ]
    },
    {
     "data": {
      "image/svg+xml": [
       "<svg xmlns=\"http://www.w3.org/2000/svg\" xmlns:ev=\"http://www.w3.org/2001/xml-events\" xmlns:xlink=\"http://www.w3.org/1999/xlink\" baseProfile=\"full\" height=\"100%\" version=\"1.1\" viewBox=\"0,0,800,50\" width=\"100%\"><defs/><rect fill=\"blue\" height=\"10\" width=\"10\" x=\"0\" y=\"30\"/><rect fill=\"blue\" height=\"10\" width=\"10\" x=\"10\" y=\"30\"/><rect fill=\"blue\" height=\"10\" width=\"10\" x=\"0\" y=\"20\"/><rect fill=\"black\" height=\"10\" width=\"10\" x=\"10\" y=\"20\"/><rect fill=\"blue\" height=\"10\" width=\"10\" x=\"0\" y=\"10\"/><rect fill=\"black\" height=\"10\" width=\"10\" x=\"10\" y=\"10\"/></svg>"
      ],
      "text/plain": [
       "<IPython.core.display.SVG object>"
      ]
     },
     "metadata": {},
     "output_type": "display_data"
    }
   ],
   "source": [
    "from IPython.display import SVG, display\n",
    "\n",
    "    \n",
    "for name, piece in loader.pieces.items():\n",
    "    print(name)\n",
    "    display(SVG(piece._repr_svg_()))\n"
   ]
  },
  {
   "cell_type": "code",
   "execution_count": null,
   "metadata": {},
   "outputs": [],
   "source": [
    "from tetris.controller import Controller\n",
    "\n",
    "c = Controller()\n",
    "pf = c.process('I0,I4,Q8')"
   ]
  },
  {
   "cell_type": "code",
   "execution_count": null,
   "metadata": {},
   "outputs": [],
   "source": [
    "pf = c.process('T1,Z3,I4')"
   ]
  },
  {
   "cell_type": "code",
   "execution_count": null,
   "metadata": {},
   "outputs": [
    {
     "data": {
      "image/svg+xml": [
       "<svg baseProfile=\"full\" height=\"100%\" version=\"1.1\" viewBox=\"0,0,800,450\" width=\"100%\" xmlns=\"http://www.w3.org/2000/svg\" xmlns:ev=\"http://www.w3.org/2001/xml-events\" xmlns:xlink=\"http://www.w3.org/1999/xlink\"><defs /><rect fill=\"blue\" height=\"10\" stroke=\"white\" width=\"10\" x=\"0\" y=\"180\" /><rect fill=\"blue\" height=\"10\" stroke=\"white\" width=\"10\" x=\"10\" y=\"180\" /><rect fill=\"black\" height=\"10\" stroke=\"white\" width=\"10\" x=\"20\" y=\"180\" /><rect fill=\"black\" height=\"10\" stroke=\"white\" width=\"10\" x=\"30\" y=\"180\" /><rect fill=\"blue\" height=\"10\" stroke=\"white\" width=\"10\" x=\"40\" y=\"180\" /><rect fill=\"blue\" height=\"10\" stroke=\"white\" width=\"10\" x=\"50\" y=\"180\" /><rect fill=\"blue\" height=\"10\" stroke=\"white\" width=\"10\" x=\"60\" y=\"180\" /><rect fill=\"blue\" height=\"10\" stroke=\"white\" width=\"10\" x=\"70\" y=\"180\" /><rect fill=\"blue\" height=\"10\" stroke=\"white\" width=\"10\" x=\"80\" y=\"180\" /><rect fill=\"blue\" height=\"10\" stroke=\"white\" width=\"10\" x=\"90\" y=\"180\" /><rect fill=\"black\" height=\"10\" stroke=\"white\" width=\"10\" x=\"0\" y=\"170\" /><rect fill=\"black\" height=\"10\" stroke=\"white\" width=\"10\" x=\"10\" y=\"170\" /><rect fill=\"blue\" height=\"10\" stroke=\"white\" width=\"10\" x=\"20\" y=\"170\" /><rect fill=\"blue\" height=\"10\" stroke=\"white\" width=\"10\" x=\"30\" y=\"170\" /><rect fill=\"black\" height=\"10\" stroke=\"white\" width=\"10\" x=\"40\" y=\"170\" /><rect fill=\"black\" height=\"10\" stroke=\"white\" width=\"10\" x=\"50\" y=\"170\" /><rect fill=\"black\" height=\"10\" stroke=\"white\" width=\"10\" x=\"60\" y=\"170\" /><rect fill=\"black\" height=\"10\" stroke=\"white\" width=\"10\" x=\"70\" y=\"170\" /><rect fill=\"black\" height=\"10\" stroke=\"white\" width=\"10\" x=\"80\" y=\"170\" /><rect fill=\"black\" height=\"10\" stroke=\"white\" width=\"10\" x=\"90\" y=\"170\" /><rect fill=\"black\" height=\"10\" stroke=\"white\" width=\"10\" x=\"0\" y=\"160\" /><rect fill=\"black\" height=\"10\" stroke=\"white\" width=\"10\" x=\"10\" y=\"160\" /><rect fill=\"blue\" height=\"10\" stroke=\"white\" width=\"10\" x=\"20\" y=\"160\" /><rect fill=\"blue\" height=\"10\" stroke=\"white\" width=\"10\" x=\"30\" y=\"160\" /><rect fill=\"black\" height=\"10\" stroke=\"white\" width=\"10\" x=\"40\" y=\"160\" /><rect fill=\"black\" height=\"10\" stroke=\"white\" width=\"10\" x=\"50\" y=\"160\" /><rect fill=\"black\" height=\"10\" stroke=\"white\" width=\"10\" x=\"60\" y=\"160\" /><rect fill=\"black\" height=\"10\" stroke=\"white\" width=\"10\" x=\"70\" y=\"160\" /><rect fill=\"black\" height=\"10\" stroke=\"white\" width=\"10\" x=\"80\" y=\"160\" /><rect fill=\"black\" height=\"10\" stroke=\"white\" width=\"10\" x=\"90\" y=\"160\" /><rect fill=\"black\" height=\"10\" stroke=\"white\" width=\"10\" x=\"0\" y=\"150\" /><rect fill=\"black\" height=\"10\" stroke=\"white\" width=\"10\" x=\"10\" y=\"150\" /><rect fill=\"black\" height=\"10\" stroke=\"white\" width=\"10\" x=\"20\" y=\"150\" /><rect fill=\"black\" height=\"10\" stroke=\"white\" width=\"10\" x=\"30\" y=\"150\" /><rect fill=\"black\" height=\"10\" stroke=\"white\" width=\"10\" x=\"40\" y=\"150\" /><rect fill=\"black\" height=\"10\" stroke=\"white\" width=\"10\" x=\"50\" y=\"150\" /><rect fill=\"black\" height=\"10\" stroke=\"white\" width=\"10\" x=\"60\" y=\"150\" /><rect fill=\"black\" height=\"10\" stroke=\"white\" width=\"10\" x=\"70\" y=\"150\" /><rect fill=\"black\" height=\"10\" stroke=\"white\" width=\"10\" x=\"80\" y=\"150\" /><rect fill=\"black\" height=\"10\" stroke=\"white\" width=\"10\" x=\"90\" y=\"150\" /><rect fill=\"black\" height=\"10\" stroke=\"white\" width=\"10\" x=\"0\" y=\"140\" /><rect fill=\"black\" height=\"10\" stroke=\"white\" width=\"10\" x=\"10\" y=\"140\" /><rect fill=\"black\" height=\"10\" stroke=\"white\" width=\"10\" x=\"20\" y=\"140\" /><rect fill=\"black\" height=\"10\" stroke=\"white\" width=\"10\" x=\"30\" y=\"140\" /><rect fill=\"black\" height=\"10\" stroke=\"white\" width=\"10\" x=\"40\" y=\"140\" /><rect fill=\"black\" height=\"10\" stroke=\"white\" width=\"10\" x=\"50\" y=\"140\" /><rect fill=\"black\" height=\"10\" stroke=\"white\" width=\"10\" x=\"60\" y=\"140\" /><rect fill=\"black\" height=\"10\" stroke=\"white\" width=\"10\" x=\"70\" y=\"140\" /><rect fill=\"black\" height=\"10\" stroke=\"white\" width=\"10\" x=\"80\" y=\"140\" /><rect fill=\"black\" height=\"10\" stroke=\"white\" width=\"10\" x=\"90\" y=\"140\" /><rect fill=\"black\" height=\"10\" stroke=\"white\" width=\"10\" x=\"0\" y=\"130\" /><rect fill=\"black\" height=\"10\" stroke=\"white\" width=\"10\" x=\"10\" y=\"130\" /><rect fill=\"black\" height=\"10\" stroke=\"white\" width=\"10\" x=\"20\" y=\"130\" /><rect fill=\"black\" height=\"10\" stroke=\"white\" width=\"10\" x=\"30\" y=\"130\" /><rect fill=\"black\" height=\"10\" stroke=\"white\" width=\"10\" x=\"40\" y=\"130\" /><rect fill=\"black\" height=\"10\" stroke=\"white\" width=\"10\" x=\"50\" y=\"130\" /><rect fill=\"black\" height=\"10\" stroke=\"white\" width=\"10\" x=\"60\" y=\"130\" /><rect fill=\"black\" height=\"10\" stroke=\"white\" width=\"10\" x=\"70\" y=\"130\" /><rect fill=\"black\" height=\"10\" stroke=\"white\" width=\"10\" x=\"80\" y=\"130\" /><rect fill=\"black\" height=\"10\" stroke=\"white\" width=\"10\" x=\"90\" y=\"130\" /><rect fill=\"black\" height=\"10\" stroke=\"white\" width=\"10\" x=\"0\" y=\"120\" /><rect fill=\"black\" height=\"10\" stroke=\"white\" width=\"10\" x=\"10\" y=\"120\" /><rect fill=\"black\" height=\"10\" stroke=\"white\" width=\"10\" x=\"20\" y=\"120\" /><rect fill=\"black\" height=\"10\" stroke=\"white\" width=\"10\" x=\"30\" y=\"120\" /><rect fill=\"black\" height=\"10\" stroke=\"white\" width=\"10\" x=\"40\" y=\"120\" /><rect fill=\"black\" height=\"10\" stroke=\"white\" width=\"10\" x=\"50\" y=\"120\" /><rect fill=\"black\" height=\"10\" stroke=\"white\" width=\"10\" x=\"60\" y=\"120\" /><rect fill=\"black\" height=\"10\" stroke=\"white\" width=\"10\" x=\"70\" y=\"120\" /><rect fill=\"black\" height=\"10\" stroke=\"white\" width=\"10\" x=\"80\" y=\"120\" /><rect fill=\"black\" height=\"10\" stroke=\"white\" width=\"10\" x=\"90\" y=\"120\" /><rect fill=\"black\" height=\"10\" stroke=\"white\" width=\"10\" x=\"0\" y=\"110\" /><rect fill=\"black\" height=\"10\" stroke=\"white\" width=\"10\" x=\"10\" y=\"110\" /><rect fill=\"black\" height=\"10\" stroke=\"white\" width=\"10\" x=\"20\" y=\"110\" /><rect fill=\"black\" height=\"10\" stroke=\"white\" width=\"10\" x=\"30\" y=\"110\" /><rect fill=\"black\" height=\"10\" stroke=\"white\" width=\"10\" x=\"40\" y=\"110\" /><rect fill=\"black\" height=\"10\" stroke=\"white\" width=\"10\" x=\"50\" y=\"110\" /><rect fill=\"black\" height=\"10\" stroke=\"white\" width=\"10\" x=\"60\" y=\"110\" /><rect fill=\"black\" height=\"10\" stroke=\"white\" width=\"10\" x=\"70\" y=\"110\" /><rect fill=\"black\" height=\"10\" stroke=\"white\" width=\"10\" x=\"80\" y=\"110\" /><rect fill=\"black\" height=\"10\" stroke=\"white\" width=\"10\" x=\"90\" y=\"110\" /><rect fill=\"black\" height=\"10\" stroke=\"white\" width=\"10\" x=\"0\" y=\"100\" /><rect fill=\"black\" height=\"10\" stroke=\"white\" width=\"10\" x=\"10\" y=\"100\" /><rect fill=\"black\" height=\"10\" stroke=\"white\" width=\"10\" x=\"20\" y=\"100\" /><rect fill=\"black\" height=\"10\" stroke=\"white\" width=\"10\" x=\"30\" y=\"100\" /><rect fill=\"black\" height=\"10\" stroke=\"white\" width=\"10\" x=\"40\" y=\"100\" /><rect fill=\"black\" height=\"10\" stroke=\"white\" width=\"10\" x=\"50\" y=\"100\" /><rect fill=\"black\" height=\"10\" stroke=\"white\" width=\"10\" x=\"60\" y=\"100\" /><rect fill=\"black\" height=\"10\" stroke=\"white\" width=\"10\" x=\"70\" y=\"100\" /><rect fill=\"black\" height=\"10\" stroke=\"white\" width=\"10\" x=\"80\" y=\"100\" /><rect fill=\"black\" height=\"10\" stroke=\"white\" width=\"10\" x=\"90\" y=\"100\" /><rect fill=\"black\" height=\"10\" stroke=\"white\" width=\"10\" x=\"0\" y=\"90\" /><rect fill=\"black\" height=\"10\" stroke=\"white\" width=\"10\" x=\"10\" y=\"90\" /><rect fill=\"black\" height=\"10\" stroke=\"white\" width=\"10\" x=\"20\" y=\"90\" /><rect fill=\"black\" height=\"10\" stroke=\"white\" width=\"10\" x=\"30\" y=\"90\" /><rect fill=\"black\" height=\"10\" stroke=\"white\" width=\"10\" x=\"40\" y=\"90\" /><rect fill=\"black\" height=\"10\" stroke=\"white\" width=\"10\" x=\"50\" y=\"90\" /><rect fill=\"black\" height=\"10\" stroke=\"white\" width=\"10\" x=\"60\" y=\"90\" /><rect fill=\"black\" height=\"10\" stroke=\"white\" width=\"10\" x=\"70\" y=\"90\" /><rect fill=\"black\" height=\"10\" stroke=\"white\" width=\"10\" x=\"80\" y=\"90\" /><rect fill=\"black\" height=\"10\" stroke=\"white\" width=\"10\" x=\"90\" y=\"90\" /><rect fill=\"black\" height=\"10\" stroke=\"white\" width=\"10\" x=\"0\" y=\"80\" /><rect fill=\"black\" height=\"10\" stroke=\"white\" width=\"10\" x=\"10\" y=\"80\" /><rect fill=\"black\" height=\"10\" stroke=\"white\" width=\"10\" x=\"20\" y=\"80\" /><rect fill=\"black\" height=\"10\" stroke=\"white\" width=\"10\" x=\"30\" y=\"80\" /><rect fill=\"black\" height=\"10\" stroke=\"white\" width=\"10\" x=\"40\" y=\"80\" /><rect fill=\"black\" height=\"10\" stroke=\"white\" width=\"10\" x=\"50\" y=\"80\" /><rect fill=\"black\" height=\"10\" stroke=\"white\" width=\"10\" x=\"60\" y=\"80\" /><rect fill=\"black\" height=\"10\" stroke=\"white\" width=\"10\" x=\"70\" y=\"80\" /><rect fill=\"black\" height=\"10\" stroke=\"white\" width=\"10\" x=\"80\" y=\"80\" /><rect fill=\"black\" height=\"10\" stroke=\"white\" width=\"10\" x=\"90\" y=\"80\" /><rect fill=\"black\" height=\"10\" stroke=\"white\" width=\"10\" x=\"0\" y=\"70\" /><rect fill=\"black\" height=\"10\" stroke=\"white\" width=\"10\" x=\"10\" y=\"70\" /><rect fill=\"black\" height=\"10\" stroke=\"white\" width=\"10\" x=\"20\" y=\"70\" /><rect fill=\"black\" height=\"10\" stroke=\"white\" width=\"10\" x=\"30\" y=\"70\" /><rect fill=\"black\" height=\"10\" stroke=\"white\" width=\"10\" x=\"40\" y=\"70\" /><rect fill=\"black\" height=\"10\" stroke=\"white\" width=\"10\" x=\"50\" y=\"70\" /><rect fill=\"black\" height=\"10\" stroke=\"white\" width=\"10\" x=\"60\" y=\"70\" /><rect fill=\"black\" height=\"10\" stroke=\"white\" width=\"10\" x=\"70\" y=\"70\" /><rect fill=\"black\" height=\"10\" stroke=\"white\" width=\"10\" x=\"80\" y=\"70\" /><rect fill=\"black\" height=\"10\" stroke=\"white\" width=\"10\" x=\"90\" y=\"70\" /><rect fill=\"black\" height=\"10\" stroke=\"white\" width=\"10\" x=\"0\" y=\"60\" /><rect fill=\"black\" height=\"10\" stroke=\"white\" width=\"10\" x=\"10\" y=\"60\" /><rect fill=\"black\" height=\"10\" stroke=\"white\" width=\"10\" x=\"20\" y=\"60\" /><rect fill=\"black\" height=\"10\" stroke=\"white\" width=\"10\" x=\"30\" y=\"60\" /><rect fill=\"black\" height=\"10\" stroke=\"white\" width=\"10\" x=\"40\" y=\"60\" /><rect fill=\"black\" height=\"10\" stroke=\"white\" width=\"10\" x=\"50\" y=\"60\" /><rect fill=\"black\" height=\"10\" stroke=\"white\" width=\"10\" x=\"60\" y=\"60\" /><rect fill=\"black\" height=\"10\" stroke=\"white\" width=\"10\" x=\"70\" y=\"60\" /><rect fill=\"black\" height=\"10\" stroke=\"white\" width=\"10\" x=\"80\" y=\"60\" /><rect fill=\"black\" height=\"10\" stroke=\"white\" width=\"10\" x=\"90\" y=\"60\" /><rect fill=\"black\" height=\"10\" stroke=\"white\" width=\"10\" x=\"0\" y=\"50\" /><rect fill=\"black\" height=\"10\" stroke=\"white\" width=\"10\" x=\"10\" y=\"50\" /><rect fill=\"black\" height=\"10\" stroke=\"white\" width=\"10\" x=\"20\" y=\"50\" /><rect fill=\"black\" height=\"10\" stroke=\"white\" width=\"10\" x=\"30\" y=\"50\" /><rect fill=\"black\" height=\"10\" stroke=\"white\" width=\"10\" x=\"40\" y=\"50\" /><rect fill=\"black\" height=\"10\" stroke=\"white\" width=\"10\" x=\"50\" y=\"50\" /><rect fill=\"black\" height=\"10\" stroke=\"white\" width=\"10\" x=\"60\" y=\"50\" /><rect fill=\"black\" height=\"10\" stroke=\"white\" width=\"10\" x=\"70\" y=\"50\" /><rect fill=\"black\" height=\"10\" stroke=\"white\" width=\"10\" x=\"80\" y=\"50\" /><rect fill=\"black\" height=\"10\" stroke=\"white\" width=\"10\" x=\"90\" y=\"50\" /><rect fill=\"black\" height=\"10\" stroke=\"white\" width=\"10\" x=\"0\" y=\"40\" /><rect fill=\"black\" height=\"10\" stroke=\"white\" width=\"10\" x=\"10\" y=\"40\" /><rect fill=\"black\" height=\"10\" stroke=\"white\" width=\"10\" x=\"20\" y=\"40\" /><rect fill=\"black\" height=\"10\" stroke=\"white\" width=\"10\" x=\"30\" y=\"40\" /><rect fill=\"black\" height=\"10\" stroke=\"white\" width=\"10\" x=\"40\" y=\"40\" /><rect fill=\"black\" height=\"10\" stroke=\"white\" width=\"10\" x=\"50\" y=\"40\" /><rect fill=\"black\" height=\"10\" stroke=\"white\" width=\"10\" x=\"60\" y=\"40\" /><rect fill=\"black\" height=\"10\" stroke=\"white\" width=\"10\" x=\"70\" y=\"40\" /><rect fill=\"black\" height=\"10\" stroke=\"white\" width=\"10\" x=\"80\" y=\"40\" /><rect fill=\"black\" height=\"10\" stroke=\"white\" width=\"10\" x=\"90\" y=\"40\" /><rect fill=\"black\" height=\"10\" stroke=\"white\" width=\"10\" x=\"0\" y=\"30\" /><rect fill=\"black\" height=\"10\" stroke=\"white\" width=\"10\" x=\"10\" y=\"30\" /><rect fill=\"black\" height=\"10\" stroke=\"white\" width=\"10\" x=\"20\" y=\"30\" /><rect fill=\"black\" height=\"10\" stroke=\"white\" width=\"10\" x=\"30\" y=\"30\" /><rect fill=\"black\" height=\"10\" stroke=\"white\" width=\"10\" x=\"40\" y=\"30\" /><rect fill=\"black\" height=\"10\" stroke=\"white\" width=\"10\" x=\"50\" y=\"30\" /><rect fill=\"black\" height=\"10\" stroke=\"white\" width=\"10\" x=\"60\" y=\"30\" /><rect fill=\"black\" height=\"10\" stroke=\"white\" width=\"10\" x=\"70\" y=\"30\" /><rect fill=\"black\" height=\"10\" stroke=\"white\" width=\"10\" x=\"80\" y=\"30\" /><rect fill=\"black\" height=\"10\" stroke=\"white\" width=\"10\" x=\"90\" y=\"30\" /><rect fill=\"black\" height=\"10\" stroke=\"white\" width=\"10\" x=\"0\" y=\"20\" /><rect fill=\"black\" height=\"10\" stroke=\"white\" width=\"10\" x=\"10\" y=\"20\" /><rect fill=\"black\" height=\"10\" stroke=\"white\" width=\"10\" x=\"20\" y=\"20\" /><rect fill=\"black\" height=\"10\" stroke=\"white\" width=\"10\" x=\"30\" y=\"20\" /><rect fill=\"black\" height=\"10\" stroke=\"white\" width=\"10\" x=\"40\" y=\"20\" /><rect fill=\"black\" height=\"10\" stroke=\"white\" width=\"10\" x=\"50\" y=\"20\" /><rect fill=\"black\" height=\"10\" stroke=\"white\" width=\"10\" x=\"60\" y=\"20\" /><rect fill=\"black\" height=\"10\" stroke=\"white\" width=\"10\" x=\"70\" y=\"20\" /><rect fill=\"black\" height=\"10\" stroke=\"white\" width=\"10\" x=\"80\" y=\"20\" /><rect fill=\"black\" height=\"10\" stroke=\"white\" width=\"10\" x=\"90\" y=\"20\" /><rect fill=\"black\" height=\"10\" stroke=\"white\" width=\"10\" x=\"0\" y=\"10\" /><rect fill=\"black\" height=\"10\" stroke=\"white\" width=\"10\" x=\"10\" y=\"10\" /><rect fill=\"black\" height=\"10\" stroke=\"white\" width=\"10\" x=\"20\" y=\"10\" /><rect fill=\"black\" height=\"10\" stroke=\"white\" width=\"10\" x=\"30\" y=\"10\" /><rect fill=\"black\" height=\"10\" stroke=\"white\" width=\"10\" x=\"40\" y=\"10\" /><rect fill=\"black\" height=\"10\" stroke=\"white\" width=\"10\" x=\"50\" y=\"10\" /><rect fill=\"black\" height=\"10\" stroke=\"white\" width=\"10\" x=\"60\" y=\"10\" /><rect fill=\"black\" height=\"10\" stroke=\"white\" width=\"10\" x=\"70\" y=\"10\" /><rect fill=\"black\" height=\"10\" stroke=\"white\" width=\"10\" x=\"80\" y=\"10\" /><rect fill=\"black\" height=\"10\" stroke=\"white\" width=\"10\" x=\"90\" y=\"10\" /></svg>"
      ],
      "text/plain": [
       "<tetris.playfield.Playfield at 0x103d16700>"
      ]
     },
     "execution_count": null,
     "metadata": {},
     "output_type": "execute_result"
    }
   ],
   "source": [
    "c.process('Q0,I2,I6,I0,I6,I6,Q2,Q4')"
   ]
  },
  {
   "cell_type": "code",
   "execution_count": null,
   "metadata": {},
   "outputs": [],
   "source": []
  }
 ],
 "metadata": {
  "kernelspec": {
   "display_name": "Python 3 (ipykernel)",
   "language": "python",
   "name": "python3"
  }
 },
 "nbformat": 4,
 "nbformat_minor": 4
}
