{
 "cells": [
  {
   "cell_type": "code",
   "execution_count": null,
   "metadata": {},
   "outputs": [
    {
     "name": "stdout",
     "output_type": "stream",
     "text": [
      "Requirement already satisfied: nbdev in /usr/local/Cellar/jupyterlab/3.1.7/libexec/lib/python3.9/site-packages (1.2.8)\n",
      "Requirement already satisfied: ipykernel in /usr/local/Cellar/jupyterlab/3.1.7/libexec/lib/python3.9/site-packages (from nbdev) (6.2.0)\n",
      "Requirement already satisfied: pyyaml in /usr/local/lib/python3.9/site-packages (from nbdev) (6.0)\n",
      "Requirement already satisfied: jupyter in /usr/local/Cellar/jupyterlab/3.1.7/libexec/lib/python3.9/site-packages (from nbdev) (1.0.0)\n",
      "Requirement already satisfied: pip in /usr/local/Cellar/jupyterlab/3.1.7/libexec/lib/python3.9/site-packages (from nbdev) (21.1.3)\n",
      "Requirement already satisfied: packaging in /usr/local/Cellar/jupyterlab/3.1.7/libexec/lib/python3.9/site-packages (from nbdev) (21.0)\n",
      "Requirement already satisfied: jupyter-client<8 in /usr/local/Cellar/jupyterlab/3.1.7/libexec/lib/python3.9/site-packages (from nbdev) (6.1.12)\n",
      "Requirement already satisfied: nbconvert>=6.1 in /usr/local/Cellar/jupyterlab/3.1.7/libexec/lib/python3.9/site-packages (from nbdev) (6.1.0)\n",
      "Requirement already satisfied: Jinja2<3.1.0 in /usr/local/Cellar/jupyterlab/3.1.7/libexec/lib/python3.9/site-packages (from nbdev) (3.0.1)\n",
      "Requirement already satisfied: fastrelease in /usr/local/Cellar/jupyterlab/3.1.7/libexec/lib/python3.9/site-packages (from nbdev) (0.1.16)\n",
      "Requirement already satisfied: fastcore>=1.4.1 in /usr/local/Cellar/jupyterlab/3.1.7/libexec/lib/python3.9/site-packages (from nbdev) (1.4.2)\n",
      "Requirement already satisfied: ghapi in /usr/local/Cellar/jupyterlab/3.1.7/libexec/lib/python3.9/site-packages (from nbdev) (0.1.20)\n",
      "Requirement already satisfied: nbformat>=4.4.0 in /usr/local/Cellar/jupyterlab/3.1.7/libexec/lib/python3.9/site-packages (from nbdev) (5.1.3)\n",
      "Requirement already satisfied: MarkupSafe>=2.0 in /usr/local/Cellar/jupyterlab/3.1.7/libexec/lib/python3.9/site-packages (from Jinja2<3.1.0->nbdev) (2.0.1)\n",
      "Requirement already satisfied: traitlets in /usr/local/Cellar/jupyterlab/3.1.7/libexec/lib/python3.9/site-packages (from jupyter-client<8->nbdev) (5.0.5)\n",
      "Requirement already satisfied: jupyter_core>=4.6.0 in /usr/local/Cellar/jupyterlab/3.1.7/libexec/lib/python3.9/site-packages (from jupyter-client<8->nbdev) (4.7.1)\n",
      "Requirement already satisfied: pyzmq>=13 in /usr/local/Cellar/jupyterlab/3.1.7/libexec/lib/python3.9/site-packages (from jupyter-client<8->nbdev) (22.2.1)\n",
      "Requirement already satisfied: python-dateutil>=2.1 in /usr/local/Cellar/jupyterlab/3.1.7/libexec/lib/python3.9/site-packages (from jupyter-client<8->nbdev) (2.8.2)\n",
      "Requirement already satisfied: tornado>=4.1 in /usr/local/Cellar/jupyterlab/3.1.7/libexec/lib/python3.9/site-packages (from jupyter-client<8->nbdev) (6.1)\n",
      "Requirement already satisfied: mistune<2,>=0.8.1 in /usr/local/Cellar/jupyterlab/3.1.7/libexec/lib/python3.9/site-packages (from nbconvert>=6.1->nbdev) (0.8.4)\n",
      "Requirement already satisfied: pygments>=2.4.1 in /usr/local/Cellar/jupyterlab/3.1.7/libexec/lib/python3.9/site-packages (from nbconvert>=6.1->nbdev) (2.10.0)\n",
      "Requirement already satisfied: jupyterlab_pygments in /usr/local/Cellar/jupyterlab/3.1.7/libexec/lib/python3.9/site-packages (from nbconvert>=6.1->nbdev) (0.1.2)\n",
      "Requirement already satisfied: entrypoints>=0.2.2 in /usr/local/Cellar/jupyterlab/3.1.7/libexec/lib/python3.9/site-packages (from nbconvert>=6.1->nbdev) (0.3)\n",
      "Requirement already satisfied: bleach in /usr/local/Cellar/jupyterlab/3.1.7/libexec/lib/python3.9/site-packages (from nbconvert>=6.1->nbdev) (4.0.0)\n",
      "Requirement already satisfied: pandocfilters>=1.4.1 in /usr/local/Cellar/jupyterlab/3.1.7/libexec/lib/python3.9/site-packages (from nbconvert>=6.1->nbdev) (1.4.3)\n",
      "Requirement already satisfied: testpath in /usr/local/Cellar/jupyterlab/3.1.7/libexec/lib/python3.9/site-packages (from nbconvert>=6.1->nbdev) (0.5.0)\n",
      "Requirement already satisfied: defusedxml in /usr/local/Cellar/jupyterlab/3.1.7/libexec/lib/python3.9/site-packages (from nbconvert>=6.1->nbdev) (0.7.1)\n",
      "Requirement already satisfied: nbclient<0.6.0,>=0.5.0 in /usr/local/Cellar/jupyterlab/3.1.7/libexec/lib/python3.9/site-packages (from nbconvert>=6.1->nbdev) (0.5.4)\n",
      "Requirement already satisfied: nest-asyncio in /usr/local/Cellar/jupyterlab/3.1.7/libexec/lib/python3.9/site-packages (from nbclient<0.6.0,>=0.5.0->nbconvert>=6.1->nbdev) (1.5.1)\n",
      "Requirement already satisfied: ipython_genutils in /usr/local/Cellar/jupyterlab/3.1.7/libexec/lib/python3.9/site-packages (from nbformat>=4.4.0->nbdev) (0.2.0)\n",
      "Requirement already satisfied: jsonschema!=2.5.0,>=2.4 in /usr/local/Cellar/jupyterlab/3.1.7/libexec/lib/python3.9/site-packages (from nbformat>=4.4.0->nbdev) (3.2.0)\n",
      "Requirement already satisfied: setuptools in /usr/local/Cellar/jupyterlab/3.1.7/libexec/lib/python3.9/site-packages (from jsonschema!=2.5.0,>=2.4->nbformat>=4.4.0->nbdev) (57.0.0)\n",
      "Requirement already satisfied: attrs>=17.4.0 in /usr/local/Cellar/jupyterlab/3.1.7/libexec/lib/python3.9/site-packages (from jsonschema!=2.5.0,>=2.4->nbformat>=4.4.0->nbdev) (21.2.0)\n",
      "Requirement already satisfied: six>=1.11.0 in /usr/local/Cellar/jupyterlab/3.1.7/libexec/lib/python3.9/site-packages (from jsonschema!=2.5.0,>=2.4->nbformat>=4.4.0->nbdev) (1.16.0)\n",
      "Requirement already satisfied: pyrsistent>=0.14.0 in /usr/local/Cellar/jupyterlab/3.1.7/libexec/lib/python3.9/site-packages (from jsonschema!=2.5.0,>=2.4->nbformat>=4.4.0->nbdev) (0.18.0)\n",
      "Requirement already satisfied: webencodings in /usr/local/Cellar/jupyterlab/3.1.7/libexec/lib/python3.9/site-packages (from bleach->nbconvert>=6.1->nbdev) (0.5.1)\n",
      "Requirement already satisfied: ipython<8.0,>=7.23.1 in /usr/local/Cellar/jupyterlab/3.1.7/libexec/lib/python3.9/site-packages (from ipykernel->nbdev) (7.26.0)\n",
      "Requirement already satisfied: matplotlib-inline<0.2.0,>=0.1.0 in /usr/local/Cellar/jupyterlab/3.1.7/libexec/lib/python3.9/site-packages (from ipykernel->nbdev) (0.1.2)\n",
      "Requirement already satisfied: appnope in /usr/local/Cellar/jupyterlab/3.1.7/libexec/lib/python3.9/site-packages (from ipykernel->nbdev) (0.1.2)\n",
      "Requirement already satisfied: debugpy<2.0,>=1.0.0 in /usr/local/Cellar/jupyterlab/3.1.7/libexec/lib/python3.9/site-packages (from ipykernel->nbdev) (1.4.1)\n",
      "Requirement already satisfied: jedi>=0.16 in /usr/local/Cellar/jupyterlab/3.1.7/libexec/lib/python3.9/site-packages (from ipython<8.0,>=7.23.1->ipykernel->nbdev) (0.18.0)\n",
      "Requirement already satisfied: decorator in /usr/local/Cellar/jupyterlab/3.1.7/libexec/lib/python3.9/site-packages (from ipython<8.0,>=7.23.1->ipykernel->nbdev) (5.0.9)\n",
      "Requirement already satisfied: pickleshare in /usr/local/Cellar/jupyterlab/3.1.7/libexec/lib/python3.9/site-packages (from ipython<8.0,>=7.23.1->ipykernel->nbdev) (0.7.5)\n",
      "Requirement already satisfied: prompt_toolkit!=3.0.0,!=3.0.1,<3.1.0,>=2.0.0 in /usr/local/Cellar/jupyterlab/3.1.7/libexec/lib/python3.9/site-packages (from ipython<8.0,>=7.23.1->ipykernel->nbdev) (3.0.19)\n",
      "Requirement already satisfied: backcall in /usr/local/Cellar/jupyterlab/3.1.7/libexec/lib/python3.9/site-packages (from ipython<8.0,>=7.23.1->ipykernel->nbdev) (0.2.0)\n",
      "Requirement already satisfied: pexpect>4.3 in /usr/local/Cellar/jupyterlab/3.1.7/libexec/lib/python3.9/site-packages (from ipython<8.0,>=7.23.1->ipykernel->nbdev) (4.8.0)\n",
      "Requirement already satisfied: parso<0.9.0,>=0.8.0 in /usr/local/Cellar/jupyterlab/3.1.7/libexec/lib/python3.9/site-packages (from jedi>=0.16->ipython<8.0,>=7.23.1->ipykernel->nbdev) (0.8.2)\n",
      "Requirement already satisfied: ptyprocess>=0.5 in /usr/local/Cellar/jupyterlab/3.1.7/libexec/lib/python3.9/site-packages (from pexpect>4.3->ipython<8.0,>=7.23.1->ipykernel->nbdev) (0.7.0)\n",
      "Requirement already satisfied: wcwidth in /usr/local/Cellar/jupyterlab/3.1.7/libexec/lib/python3.9/site-packages (from prompt_toolkit!=3.0.0,!=3.0.1,<3.1.0,>=2.0.0->ipython<8.0,>=7.23.1->ipykernel->nbdev) (0.2.5)\n",
      "Requirement already satisfied: jupyter-console in /usr/local/Cellar/jupyterlab/3.1.7/libexec/lib/python3.9/site-packages (from jupyter->nbdev) (6.4.0)\n",
      "Requirement already satisfied: qtconsole in /usr/local/Cellar/jupyterlab/3.1.7/libexec/lib/python3.9/site-packages (from jupyter->nbdev) (5.3.0)\n",
      "Requirement already satisfied: notebook in /usr/local/Cellar/jupyterlab/3.1.7/libexec/lib/python3.9/site-packages (from jupyter->nbdev) (6.4.3)\n",
      "Requirement already satisfied: ipywidgets in /usr/local/lib/python3.9/site-packages (from jupyter->nbdev) (7.6.3)\n",
      "Requirement already satisfied: widgetsnbextension~=3.5.0 in /usr/local/lib/python3.9/site-packages (from ipywidgets->jupyter->nbdev) (3.5.1)\n",
      "Requirement already satisfied: jupyterlab-widgets>=1.0.0 in /usr/local/lib/python3.9/site-packages (from ipywidgets->jupyter->nbdev) (1.0.0)\n",
      "Requirement already satisfied: Send2Trash>=1.5.0 in /usr/local/Cellar/jupyterlab/3.1.7/libexec/lib/python3.9/site-packages (from notebook->jupyter->nbdev) (1.8.0)\n",
      "Requirement already satisfied: argon2-cffi in /usr/local/Cellar/jupyterlab/3.1.7/libexec/lib/python3.9/site-packages (from notebook->jupyter->nbdev) (20.1.0)\n",
      "Requirement already satisfied: prometheus-client in /usr/local/Cellar/jupyterlab/3.1.7/libexec/lib/python3.9/site-packages (from notebook->jupyter->nbdev) (0.11.0)\n",
      "Requirement already satisfied: terminado>=0.8.3 in /usr/local/Cellar/jupyterlab/3.1.7/libexec/lib/python3.9/site-packages (from notebook->jupyter->nbdev) (0.11.0)\n",
      "Requirement already satisfied: cffi>=1.0.0 in /usr/local/Cellar/jupyterlab/3.1.7/libexec/lib/python3.9/site-packages (from argon2-cffi->notebook->jupyter->nbdev) (1.14.6)\n",
      "Requirement already satisfied: pycparser in /usr/local/Cellar/jupyterlab/3.1.7/libexec/lib/python3.9/site-packages (from cffi>=1.0.0->argon2-cffi->notebook->jupyter->nbdev) (2.20)\n",
      "Requirement already satisfied: pyparsing>=2.0.2 in /usr/local/Cellar/jupyterlab/3.1.7/libexec/lib/python3.9/site-packages (from packaging->nbdev) (2.4.7)\n",
      "Requirement already satisfied: qtpy>=2.0.1 in /usr/local/Cellar/jupyterlab/3.1.7/libexec/lib/python3.9/site-packages (from qtconsole->jupyter->nbdev) (2.1.0)\n",
      "\u001b[33mWARNING: You are using pip version 21.1.3; however, version 22.0.4 is available.\n",
      "You should consider upgrading via the '/usr/local/Cellar/jupyterlab/3.1.7/libexec/bin/python3.9 -m pip install --upgrade pip' command.\u001b[0m\n",
      "Note: you may need to restart the kernel to use updated packages.\n"
     ]
    }
   ],
   "source": [
    "%pip install nbdev"
   ]
  },
  {
   "cell_type": "code",
   "execution_count": null,
   "metadata": {},
   "outputs": [],
   "source": [
    "#hide\n",
    "from tetris.core import *\n",
    "from tetris.piece import *\n",
    "from tetris.playfield import *\n",
    "from tetris.piece_loader import *"
   ]
  },
  {
   "cell_type": "markdown",
   "metadata": {},
   "source": [
    "# Tetris\n",
    "\n",
    "> Simplified Tetris engine."
   ]
  },
  {
   "cell_type": "markdown",
   "metadata": {},
   "source": [
    "This file will become your README and also the index of your documentation."
   ]
  },
  {
   "cell_type": "markdown",
   "metadata": {},
   "source": [
    "## Install"
   ]
  },
  {
   "cell_type": "markdown",
   "metadata": {},
   "source": [
    "`poetry install`"
   ]
  },
  {
   "cell_type": "markdown",
   "metadata": {},
   "source": [
    "## How to use"
   ]
  },
  {
   "cell_type": "markdown",
   "metadata": {},
   "source": [
    "`./main.py <input.txt >output.txt`"
   ]
  },
  {
   "cell_type": "code",
   "execution_count": null,
   "metadata": {},
   "outputs": [
    {
     "data": {
      "text/plain": [
       "<tetris.playfield.Playfield at 0x11162f6d0>"
      ]
     },
     "execution_count": null,
     "metadata": {},
     "output_type": "execute_result"
    }
   ],
   "source": [
    "pf = Playfield()\n",
    "pf"
   ]
  },
  {
   "cell_type": "code",
   "execution_count": null,
   "metadata": {},
   "outputs": [],
   "source": []
  },
  {
   "cell_type": "code",
   "execution_count": null,
   "metadata": {},
   "outputs": [],
   "source": [
    "from nbdev.imports import IN_NOTEBOOK"
   ]
  },
  {
   "cell_type": "code",
   "execution_count": null,
   "metadata": {},
   "outputs": [
    {
     "data": {
      "image/svg+xml": [
       "<svg baseProfile=\"full\" height=\"100%\" version=\"1.1\" viewBox=\"0,0,800,50\" width=\"100%\" xmlns=\"http://www.w3.org/2000/svg\" xmlns:ev=\"http://www.w3.org/2001/xml-events\" xmlns:xlink=\"http://www.w3.org/1999/xlink\"><defs /><rect fill=\"blue\" height=\"10\" width=\"10\" x=\"0\" y=\"10\" /><rect fill=\"blue\" height=\"10\" width=\"10\" x=\"10\" y=\"10\" /><rect fill=\"blue\" height=\"10\" width=\"10\" x=\"20\" y=\"10\" /><rect fill=\"blue\" height=\"10\" width=\"10\" x=\"30\" y=\"10\" /></svg>"
      ],
      "text/plain": [
       "<tetris.piece.Piece at 0x11162fb80>"
      ]
     },
     "execution_count": null,
     "metadata": {},
     "output_type": "execute_result"
    }
   ],
   "source": [
    "i = Piece(\"****\")\n",
    "i"
   ]
  },
  {
   "cell_type": "code",
   "execution_count": null,
   "metadata": {},
   "outputs": [],
   "source": [
    "from IPython.display import display"
   ]
  },
  {
   "cell_type": "code",
   "execution_count": null,
   "metadata": {},
   "outputs": [
    {
     "data": {
      "text/plain": [
       "<tetris.playfield.Playfield at 0x11162f6d0>"
      ]
     },
     "execution_count": null,
     "metadata": {},
     "output_type": "execute_result"
    }
   ],
   "source": [
    "pf.add(i, 0)\n",
    "pf"
   ]
  },
  {
   "cell_type": "code",
   "execution_count": null,
   "metadata": {},
   "outputs": [
    {
     "data": {
      "text/plain": [
       "1"
      ]
     },
     "execution_count": null,
     "metadata": {},
     "output_type": "execute_result"
    }
   ],
   "source": [
    "pf.height"
   ]
  },
  {
   "cell_type": "code",
   "execution_count": null,
   "metadata": {},
   "outputs": [],
   "source": [
    "loader = PieceLoader()"
   ]
  },
  {
   "cell_type": "code",
   "execution_count": null,
   "metadata": {},
   "outputs": [
    {
     "name": "stdout",
     "output_type": "stream",
     "text": [
      "i\n"
     ]
    },
    {
     "data": {
      "image/svg+xml": [
       "<svg xmlns=\"http://www.w3.org/2000/svg\" xmlns:ev=\"http://www.w3.org/2001/xml-events\" xmlns:xlink=\"http://www.w3.org/1999/xlink\" baseProfile=\"full\" height=\"100%\" version=\"1.1\" viewBox=\"0,0,800,50\" width=\"100%\"><defs/><rect fill=\"blue\" height=\"10\" width=\"10\" x=\"0\" y=\"10\"/><rect fill=\"blue\" height=\"10\" width=\"10\" x=\"10\" y=\"10\"/><rect fill=\"blue\" height=\"10\" width=\"10\" x=\"20\" y=\"10\"/><rect fill=\"blue\" height=\"10\" width=\"10\" x=\"30\" y=\"10\"/></svg>"
      ],
      "text/plain": [
       "<IPython.core.display.SVG object>"
      ]
     },
     "metadata": {},
     "output_type": "display_data"
    },
    {
     "name": "stdout",
     "output_type": "stream",
     "text": [
      "z\n"
     ]
    },
    {
     "data": {
      "image/svg+xml": [
       "<svg xmlns=\"http://www.w3.org/2000/svg\" xmlns:ev=\"http://www.w3.org/2001/xml-events\" xmlns:xlink=\"http://www.w3.org/1999/xlink\" baseProfile=\"full\" height=\"100%\" version=\"1.1\" viewBox=\"0,0,800,50\" width=\"100%\"><defs/><rect fill=\"black\" height=\"10\" width=\"10\" x=\"0\" y=\"20\"/><rect fill=\"blue\" height=\"10\" width=\"10\" x=\"10\" y=\"20\"/><rect fill=\"blue\" height=\"10\" width=\"10\" x=\"20\" y=\"20\"/><rect fill=\"blue\" height=\"10\" width=\"10\" x=\"0\" y=\"10\"/><rect fill=\"blue\" height=\"10\" width=\"10\" x=\"10\" y=\"10\"/><rect fill=\"black\" height=\"10\" width=\"10\" x=\"20\" y=\"10\"/></svg>"
      ],
      "text/plain": [
       "<IPython.core.display.SVG object>"
      ]
     },
     "metadata": {},
     "output_type": "display_data"
    },
    {
     "name": "stdout",
     "output_type": "stream",
     "text": [
      "t\n"
     ]
    },
    {
     "data": {
      "image/svg+xml": [
       "<svg xmlns=\"http://www.w3.org/2000/svg\" xmlns:ev=\"http://www.w3.org/2001/xml-events\" xmlns:xlink=\"http://www.w3.org/1999/xlink\" baseProfile=\"full\" height=\"100%\" version=\"1.1\" viewBox=\"0,0,800,50\" width=\"100%\"><defs/><rect fill=\"black\" height=\"10\" width=\"10\" x=\"0\" y=\"20\"/><rect fill=\"blue\" height=\"10\" width=\"10\" x=\"10\" y=\"20\"/><rect fill=\"black\" height=\"10\" width=\"10\" x=\"20\" y=\"20\"/><rect fill=\"blue\" height=\"10\" width=\"10\" x=\"0\" y=\"10\"/><rect fill=\"blue\" height=\"10\" width=\"10\" x=\"10\" y=\"10\"/><rect fill=\"blue\" height=\"10\" width=\"10\" x=\"20\" y=\"10\"/></svg>"
      ],
      "text/plain": [
       "<IPython.core.display.SVG object>"
      ]
     },
     "metadata": {},
     "output_type": "display_data"
    },
    {
     "name": "stdout",
     "output_type": "stream",
     "text": [
      "s\n"
     ]
    },
    {
     "data": {
      "image/svg+xml": [
       "<svg xmlns=\"http://www.w3.org/2000/svg\" xmlns:ev=\"http://www.w3.org/2001/xml-events\" xmlns:xlink=\"http://www.w3.org/1999/xlink\" baseProfile=\"full\" height=\"100%\" version=\"1.1\" viewBox=\"0,0,800,50\" width=\"100%\"><defs/><rect fill=\"blue\" height=\"10\" width=\"10\" x=\"0\" y=\"20\"/><rect fill=\"blue\" height=\"10\" width=\"10\" x=\"10\" y=\"20\"/><rect fill=\"black\" height=\"10\" width=\"10\" x=\"20\" y=\"20\"/><rect fill=\"black\" height=\"10\" width=\"10\" x=\"0\" y=\"10\"/><rect fill=\"blue\" height=\"10\" width=\"10\" x=\"10\" y=\"10\"/><rect fill=\"blue\" height=\"10\" width=\"10\" x=\"20\" y=\"10\"/></svg>"
      ],
      "text/plain": [
       "<IPython.core.display.SVG object>"
      ]
     },
     "metadata": {},
     "output_type": "display_data"
    },
    {
     "name": "stdout",
     "output_type": "stream",
     "text": [
      "j\n"
     ]
    },
    {
     "data": {
      "image/svg+xml": [
       "<svg xmlns=\"http://www.w3.org/2000/svg\" xmlns:ev=\"http://www.w3.org/2001/xml-events\" xmlns:xlink=\"http://www.w3.org/1999/xlink\" baseProfile=\"full\" height=\"100%\" version=\"1.1\" viewBox=\"0,0,800,50\" width=\"100%\"><defs/><rect fill=\"blue\" height=\"10\" width=\"10\" x=\"0\" y=\"30\"/><rect fill=\"blue\" height=\"10\" width=\"10\" x=\"10\" y=\"30\"/><rect fill=\"black\" height=\"10\" width=\"10\" x=\"0\" y=\"20\"/><rect fill=\"blue\" height=\"10\" width=\"10\" x=\"10\" y=\"20\"/><rect fill=\"black\" height=\"10\" width=\"10\" x=\"0\" y=\"10\"/><rect fill=\"blue\" height=\"10\" width=\"10\" x=\"10\" y=\"10\"/></svg>"
      ],
      "text/plain": [
       "<IPython.core.display.SVG object>"
      ]
     },
     "metadata": {},
     "output_type": "display_data"
    },
    {
     "name": "stdout",
     "output_type": "stream",
     "text": [
      "q\n"
     ]
    },
    {
     "data": {
      "image/svg+xml": [
       "<svg xmlns=\"http://www.w3.org/2000/svg\" xmlns:ev=\"http://www.w3.org/2001/xml-events\" xmlns:xlink=\"http://www.w3.org/1999/xlink\" baseProfile=\"full\" height=\"100%\" version=\"1.1\" viewBox=\"0,0,800,50\" width=\"100%\"><defs/><rect fill=\"blue\" height=\"10\" width=\"10\" x=\"0\" y=\"20\"/><rect fill=\"blue\" height=\"10\" width=\"10\" x=\"10\" y=\"20\"/><rect fill=\"blue\" height=\"10\" width=\"10\" x=\"0\" y=\"10\"/><rect fill=\"blue\" height=\"10\" width=\"10\" x=\"10\" y=\"10\"/></svg>"
      ],
      "text/plain": [
       "<IPython.core.display.SVG object>"
      ]
     },
     "metadata": {},
     "output_type": "display_data"
    },
    {
     "name": "stdout",
     "output_type": "stream",
     "text": [
      "l\n"
     ]
    },
    {
     "data": {
      "image/svg+xml": [
       "<svg xmlns=\"http://www.w3.org/2000/svg\" xmlns:ev=\"http://www.w3.org/2001/xml-events\" xmlns:xlink=\"http://www.w3.org/1999/xlink\" baseProfile=\"full\" height=\"100%\" version=\"1.1\" viewBox=\"0,0,800,50\" width=\"100%\"><defs/><rect fill=\"blue\" height=\"10\" width=\"10\" x=\"0\" y=\"30\"/><rect fill=\"blue\" height=\"10\" width=\"10\" x=\"10\" y=\"30\"/><rect fill=\"blue\" height=\"10\" width=\"10\" x=\"0\" y=\"20\"/><rect fill=\"black\" height=\"10\" width=\"10\" x=\"10\" y=\"20\"/><rect fill=\"blue\" height=\"10\" width=\"10\" x=\"0\" y=\"10\"/><rect fill=\"black\" height=\"10\" width=\"10\" x=\"10\" y=\"10\"/></svg>"
      ],
      "text/plain": [
       "<IPython.core.display.SVG object>"
      ]
     },
     "metadata": {},
     "output_type": "display_data"
    }
   ],
   "source": [
    "from IPython.display import SVG, display\n",
    "\n",
    "    \n",
    "for name, piece in loader.pieces.items():\n",
    "    print(name)\n",
    "    display(SVG(piece._repr_svg_()))\n"
   ]
  },
  {
   "cell_type": "code",
   "execution_count": null,
   "metadata": {},
   "outputs": [
    {
     "data": {
      "text/plain": [
       "<tetris.playfield.Playfield at 0x11162ebe0>"
      ]
     },
     "metadata": {},
     "output_type": "display_data"
    },
    {
     "data": {
      "text/plain": [
       "<tetris.playfield.Playfield at 0x11162ebe0>"
      ]
     },
     "metadata": {},
     "output_type": "display_data"
    },
    {
     "data": {
      "text/plain": [
       "<tetris.playfield.Playfield at 0x11162ebe0>"
      ]
     },
     "metadata": {},
     "output_type": "display_data"
    }
   ],
   "source": [
    "from tetris.controller import Controller\n",
    "\n",
    "c = Controller()\n",
    "pf = c.process('I0,I4,Q8')"
   ]
  },
  {
   "cell_type": "code",
   "execution_count": null,
   "metadata": {},
   "outputs": [
    {
     "data": {
      "image/svg+xml": [
       "<svg xmlns=\"http://www.w3.org/2000/svg\" xmlns:ev=\"http://www.w3.org/2001/xml-events\" xmlns:xlink=\"http://www.w3.org/1999/xlink\" baseProfile=\"full\" height=\"100%\" version=\"1.1\" viewBox=\"0,0,300,450\" width=\"100%\"><defs/><rect fill=\"white\" height=\"10\" rx=\"0\" ry=\"0\" stroke=\"#cccccc\" width=\"10\" x=\"0\" y=\"190\"/><rect fill=\"white\" height=\"10\" rx=\"0\" ry=\"0\" stroke=\"#cccccc\" width=\"10\" x=\"10\" y=\"190\"/><rect fill=\"white\" height=\"10\" rx=\"0\" ry=\"0\" stroke=\"#cccccc\" width=\"10\" x=\"20\" y=\"190\"/><rect fill=\"white\" height=\"10\" rx=\"0\" ry=\"0\" stroke=\"#cccccc\" width=\"10\" x=\"30\" y=\"190\"/><rect fill=\"white\" height=\"10\" rx=\"0\" ry=\"0\" stroke=\"#cccccc\" width=\"10\" x=\"40\" y=\"190\"/><rect fill=\"white\" height=\"10\" rx=\"0\" ry=\"0\" stroke=\"#cccccc\" width=\"10\" x=\"50\" y=\"190\"/><rect fill=\"white\" height=\"10\" rx=\"0\" ry=\"0\" stroke=\"#cccccc\" width=\"10\" x=\"60\" y=\"190\"/><rect fill=\"white\" height=\"10\" rx=\"0\" ry=\"0\" stroke=\"#cccccc\" width=\"10\" x=\"70\" y=\"190\"/><rect fill=\"#d1eaf3\" height=\"10\" rx=\"1\" ry=\"1\" stroke=\"#112543\" width=\"10\" x=\"80\" y=\"190\"/><rect fill=\"#d1eaf3\" height=\"10\" rx=\"1\" ry=\"1\" stroke=\"#112543\" width=\"10\" x=\"90\" y=\"190\"/><rect fill=\"white\" height=\"10\" rx=\"0\" ry=\"0\" stroke=\"#cccccc\" width=\"10\" x=\"0\" y=\"180\"/><rect fill=\"white\" height=\"10\" rx=\"0\" ry=\"0\" stroke=\"#cccccc\" width=\"10\" x=\"10\" y=\"180\"/><rect fill=\"white\" height=\"10\" rx=\"0\" ry=\"0\" stroke=\"#cccccc\" width=\"10\" x=\"20\" y=\"180\"/><rect fill=\"white\" height=\"10\" rx=\"0\" ry=\"0\" stroke=\"#cccccc\" width=\"10\" x=\"30\" y=\"180\"/><rect fill=\"white\" height=\"10\" rx=\"0\" ry=\"0\" stroke=\"#cccccc\" width=\"10\" x=\"40\" y=\"180\"/><rect fill=\"white\" height=\"10\" rx=\"0\" ry=\"0\" stroke=\"#cccccc\" width=\"10\" x=\"50\" y=\"180\"/><rect fill=\"white\" height=\"10\" rx=\"0\" ry=\"0\" stroke=\"#cccccc\" width=\"10\" x=\"60\" y=\"180\"/><rect fill=\"white\" height=\"10\" rx=\"0\" ry=\"0\" stroke=\"#cccccc\" width=\"10\" x=\"70\" y=\"180\"/><rect fill=\"white\" height=\"10\" rx=\"0\" ry=\"0\" stroke=\"#cccccc\" width=\"10\" x=\"80\" y=\"180\"/><rect fill=\"white\" height=\"10\" rx=\"0\" ry=\"0\" stroke=\"#cccccc\" width=\"10\" x=\"90\" y=\"180\"/><rect fill=\"white\" height=\"10\" rx=\"0\" ry=\"0\" stroke=\"#cccccc\" width=\"10\" x=\"0\" y=\"170\"/><rect fill=\"white\" height=\"10\" rx=\"0\" ry=\"0\" stroke=\"#cccccc\" width=\"10\" x=\"10\" y=\"170\"/><rect fill=\"white\" height=\"10\" rx=\"0\" ry=\"0\" stroke=\"#cccccc\" width=\"10\" x=\"20\" y=\"170\"/><rect fill=\"white\" height=\"10\" rx=\"0\" ry=\"0\" stroke=\"#cccccc\" width=\"10\" x=\"30\" y=\"170\"/><rect fill=\"white\" height=\"10\" rx=\"0\" ry=\"0\" stroke=\"#cccccc\" width=\"10\" x=\"40\" y=\"170\"/><rect fill=\"white\" height=\"10\" rx=\"0\" ry=\"0\" stroke=\"#cccccc\" width=\"10\" x=\"50\" y=\"170\"/><rect fill=\"white\" height=\"10\" rx=\"0\" ry=\"0\" stroke=\"#cccccc\" width=\"10\" x=\"60\" y=\"170\"/><rect fill=\"white\" height=\"10\" rx=\"0\" ry=\"0\" stroke=\"#cccccc\" width=\"10\" x=\"70\" y=\"170\"/><rect fill=\"white\" height=\"10\" rx=\"0\" ry=\"0\" stroke=\"#cccccc\" width=\"10\" x=\"80\" y=\"170\"/><rect fill=\"white\" height=\"10\" rx=\"0\" ry=\"0\" stroke=\"#cccccc\" width=\"10\" x=\"90\" y=\"170\"/><rect fill=\"white\" height=\"10\" rx=\"0\" ry=\"0\" stroke=\"#cccccc\" width=\"10\" x=\"0\" y=\"160\"/><rect fill=\"white\" height=\"10\" rx=\"0\" ry=\"0\" stroke=\"#cccccc\" width=\"10\" x=\"10\" y=\"160\"/><rect fill=\"white\" height=\"10\" rx=\"0\" ry=\"0\" stroke=\"#cccccc\" width=\"10\" x=\"20\" y=\"160\"/><rect fill=\"white\" height=\"10\" rx=\"0\" ry=\"0\" stroke=\"#cccccc\" width=\"10\" x=\"30\" y=\"160\"/><rect fill=\"white\" height=\"10\" rx=\"0\" ry=\"0\" stroke=\"#cccccc\" width=\"10\" x=\"40\" y=\"160\"/><rect fill=\"white\" height=\"10\" rx=\"0\" ry=\"0\" stroke=\"#cccccc\" width=\"10\" x=\"50\" y=\"160\"/><rect fill=\"white\" height=\"10\" rx=\"0\" ry=\"0\" stroke=\"#cccccc\" width=\"10\" x=\"60\" y=\"160\"/><rect fill=\"white\" height=\"10\" rx=\"0\" ry=\"0\" stroke=\"#cccccc\" width=\"10\" x=\"70\" y=\"160\"/><rect fill=\"white\" height=\"10\" rx=\"0\" ry=\"0\" stroke=\"#cccccc\" width=\"10\" x=\"80\" y=\"160\"/><rect fill=\"white\" height=\"10\" rx=\"0\" ry=\"0\" stroke=\"#cccccc\" width=\"10\" x=\"90\" y=\"160\"/><rect fill=\"white\" height=\"10\" rx=\"0\" ry=\"0\" stroke=\"#cccccc\" width=\"10\" x=\"0\" y=\"150\"/><rect fill=\"white\" height=\"10\" rx=\"0\" ry=\"0\" stroke=\"#cccccc\" width=\"10\" x=\"10\" y=\"150\"/><rect fill=\"white\" height=\"10\" rx=\"0\" ry=\"0\" stroke=\"#cccccc\" width=\"10\" x=\"20\" y=\"150\"/><rect fill=\"white\" height=\"10\" rx=\"0\" ry=\"0\" stroke=\"#cccccc\" width=\"10\" x=\"30\" y=\"150\"/><rect fill=\"white\" height=\"10\" rx=\"0\" ry=\"0\" stroke=\"#cccccc\" width=\"10\" x=\"40\" y=\"150\"/><rect fill=\"white\" height=\"10\" rx=\"0\" ry=\"0\" stroke=\"#cccccc\" width=\"10\" x=\"50\" y=\"150\"/><rect fill=\"white\" height=\"10\" rx=\"0\" ry=\"0\" stroke=\"#cccccc\" width=\"10\" x=\"60\" y=\"150\"/><rect fill=\"white\" height=\"10\" rx=\"0\" ry=\"0\" stroke=\"#cccccc\" width=\"10\" x=\"70\" y=\"150\"/><rect fill=\"white\" height=\"10\" rx=\"0\" ry=\"0\" stroke=\"#cccccc\" width=\"10\" x=\"80\" y=\"150\"/><rect fill=\"white\" height=\"10\" rx=\"0\" ry=\"0\" stroke=\"#cccccc\" width=\"10\" x=\"90\" y=\"150\"/><rect fill=\"white\" height=\"10\" rx=\"0\" ry=\"0\" stroke=\"#cccccc\" width=\"10\" x=\"0\" y=\"140\"/><rect fill=\"white\" height=\"10\" rx=\"0\" ry=\"0\" stroke=\"#cccccc\" width=\"10\" x=\"10\" y=\"140\"/><rect fill=\"white\" height=\"10\" rx=\"0\" ry=\"0\" stroke=\"#cccccc\" width=\"10\" x=\"20\" y=\"140\"/><rect fill=\"white\" height=\"10\" rx=\"0\" ry=\"0\" stroke=\"#cccccc\" width=\"10\" x=\"30\" y=\"140\"/><rect fill=\"white\" height=\"10\" rx=\"0\" ry=\"0\" stroke=\"#cccccc\" width=\"10\" x=\"40\" y=\"140\"/><rect fill=\"white\" height=\"10\" rx=\"0\" ry=\"0\" stroke=\"#cccccc\" width=\"10\" x=\"50\" y=\"140\"/><rect fill=\"white\" height=\"10\" rx=\"0\" ry=\"0\" stroke=\"#cccccc\" width=\"10\" x=\"60\" y=\"140\"/><rect fill=\"white\" height=\"10\" rx=\"0\" ry=\"0\" stroke=\"#cccccc\" width=\"10\" x=\"70\" y=\"140\"/><rect fill=\"white\" height=\"10\" rx=\"0\" ry=\"0\" stroke=\"#cccccc\" width=\"10\" x=\"80\" y=\"140\"/><rect fill=\"white\" height=\"10\" rx=\"0\" ry=\"0\" stroke=\"#cccccc\" width=\"10\" x=\"90\" y=\"140\"/><rect fill=\"white\" height=\"10\" rx=\"0\" ry=\"0\" stroke=\"#cccccc\" width=\"10\" x=\"0\" y=\"130\"/><rect fill=\"white\" height=\"10\" rx=\"0\" ry=\"0\" stroke=\"#cccccc\" width=\"10\" x=\"10\" y=\"130\"/><rect fill=\"white\" height=\"10\" rx=\"0\" ry=\"0\" stroke=\"#cccccc\" width=\"10\" x=\"20\" y=\"130\"/><rect fill=\"white\" height=\"10\" rx=\"0\" ry=\"0\" stroke=\"#cccccc\" width=\"10\" x=\"30\" y=\"130\"/><rect fill=\"white\" height=\"10\" rx=\"0\" ry=\"0\" stroke=\"#cccccc\" width=\"10\" x=\"40\" y=\"130\"/><rect fill=\"white\" height=\"10\" rx=\"0\" ry=\"0\" stroke=\"#cccccc\" width=\"10\" x=\"50\" y=\"130\"/><rect fill=\"white\" height=\"10\" rx=\"0\" ry=\"0\" stroke=\"#cccccc\" width=\"10\" x=\"60\" y=\"130\"/><rect fill=\"white\" height=\"10\" rx=\"0\" ry=\"0\" stroke=\"#cccccc\" width=\"10\" x=\"70\" y=\"130\"/><rect fill=\"white\" height=\"10\" rx=\"0\" ry=\"0\" stroke=\"#cccccc\" width=\"10\" x=\"80\" y=\"130\"/><rect fill=\"white\" height=\"10\" rx=\"0\" ry=\"0\" stroke=\"#cccccc\" width=\"10\" x=\"90\" y=\"130\"/><rect fill=\"white\" height=\"10\" rx=\"0\" ry=\"0\" stroke=\"#cccccc\" width=\"10\" x=\"0\" y=\"120\"/><rect fill=\"white\" height=\"10\" rx=\"0\" ry=\"0\" stroke=\"#cccccc\" width=\"10\" x=\"10\" y=\"120\"/><rect fill=\"white\" height=\"10\" rx=\"0\" ry=\"0\" stroke=\"#cccccc\" width=\"10\" x=\"20\" y=\"120\"/><rect fill=\"white\" height=\"10\" rx=\"0\" ry=\"0\" stroke=\"#cccccc\" width=\"10\" x=\"30\" y=\"120\"/><rect fill=\"white\" height=\"10\" rx=\"0\" ry=\"0\" stroke=\"#cccccc\" width=\"10\" x=\"40\" y=\"120\"/><rect fill=\"white\" height=\"10\" rx=\"0\" ry=\"0\" stroke=\"#cccccc\" width=\"10\" x=\"50\" y=\"120\"/><rect fill=\"white\" height=\"10\" rx=\"0\" ry=\"0\" stroke=\"#cccccc\" width=\"10\" x=\"60\" y=\"120\"/><rect fill=\"white\" height=\"10\" rx=\"0\" ry=\"0\" stroke=\"#cccccc\" width=\"10\" x=\"70\" y=\"120\"/><rect fill=\"white\" height=\"10\" rx=\"0\" ry=\"0\" stroke=\"#cccccc\" width=\"10\" x=\"80\" y=\"120\"/><rect fill=\"white\" height=\"10\" rx=\"0\" ry=\"0\" stroke=\"#cccccc\" width=\"10\" x=\"90\" y=\"120\"/><rect fill=\"white\" height=\"10\" rx=\"0\" ry=\"0\" stroke=\"#cccccc\" width=\"10\" x=\"0\" y=\"110\"/><rect fill=\"white\" height=\"10\" rx=\"0\" ry=\"0\" stroke=\"#cccccc\" width=\"10\" x=\"10\" y=\"110\"/><rect fill=\"white\" height=\"10\" rx=\"0\" ry=\"0\" stroke=\"#cccccc\" width=\"10\" x=\"20\" y=\"110\"/><rect fill=\"white\" height=\"10\" rx=\"0\" ry=\"0\" stroke=\"#cccccc\" width=\"10\" x=\"30\" y=\"110\"/><rect fill=\"white\" height=\"10\" rx=\"0\" ry=\"0\" stroke=\"#cccccc\" width=\"10\" x=\"40\" y=\"110\"/><rect fill=\"white\" height=\"10\" rx=\"0\" ry=\"0\" stroke=\"#cccccc\" width=\"10\" x=\"50\" y=\"110\"/><rect fill=\"white\" height=\"10\" rx=\"0\" ry=\"0\" stroke=\"#cccccc\" width=\"10\" x=\"60\" y=\"110\"/><rect fill=\"white\" height=\"10\" rx=\"0\" ry=\"0\" stroke=\"#cccccc\" width=\"10\" x=\"70\" y=\"110\"/><rect fill=\"white\" height=\"10\" rx=\"0\" ry=\"0\" stroke=\"#cccccc\" width=\"10\" x=\"80\" y=\"110\"/><rect fill=\"white\" height=\"10\" rx=\"0\" ry=\"0\" stroke=\"#cccccc\" width=\"10\" x=\"90\" y=\"110\"/><rect fill=\"white\" height=\"10\" rx=\"0\" ry=\"0\" stroke=\"#cccccc\" width=\"10\" x=\"0\" y=\"100\"/><rect fill=\"white\" height=\"10\" rx=\"0\" ry=\"0\" stroke=\"#cccccc\" width=\"10\" x=\"10\" y=\"100\"/><rect fill=\"white\" height=\"10\" rx=\"0\" ry=\"0\" stroke=\"#cccccc\" width=\"10\" x=\"20\" y=\"100\"/><rect fill=\"white\" height=\"10\" rx=\"0\" ry=\"0\" stroke=\"#cccccc\" width=\"10\" x=\"30\" y=\"100\"/><rect fill=\"white\" height=\"10\" rx=\"0\" ry=\"0\" stroke=\"#cccccc\" width=\"10\" x=\"40\" y=\"100\"/><rect fill=\"white\" height=\"10\" rx=\"0\" ry=\"0\" stroke=\"#cccccc\" width=\"10\" x=\"50\" y=\"100\"/><rect fill=\"white\" height=\"10\" rx=\"0\" ry=\"0\" stroke=\"#cccccc\" width=\"10\" x=\"60\" y=\"100\"/><rect fill=\"white\" height=\"10\" rx=\"0\" ry=\"0\" stroke=\"#cccccc\" width=\"10\" x=\"70\" y=\"100\"/><rect fill=\"white\" height=\"10\" rx=\"0\" ry=\"0\" stroke=\"#cccccc\" width=\"10\" x=\"80\" y=\"100\"/><rect fill=\"white\" height=\"10\" rx=\"0\" ry=\"0\" stroke=\"#cccccc\" width=\"10\" x=\"90\" y=\"100\"/><rect fill=\"white\" height=\"10\" rx=\"0\" ry=\"0\" stroke=\"#cccccc\" width=\"10\" x=\"0\" y=\"90\"/><rect fill=\"white\" height=\"10\" rx=\"0\" ry=\"0\" stroke=\"#cccccc\" width=\"10\" x=\"10\" y=\"90\"/><rect fill=\"white\" height=\"10\" rx=\"0\" ry=\"0\" stroke=\"#cccccc\" width=\"10\" x=\"20\" y=\"90\"/><rect fill=\"white\" height=\"10\" rx=\"0\" ry=\"0\" stroke=\"#cccccc\" width=\"10\" x=\"30\" y=\"90\"/><rect fill=\"white\" height=\"10\" rx=\"0\" ry=\"0\" stroke=\"#cccccc\" width=\"10\" x=\"40\" y=\"90\"/><rect fill=\"white\" height=\"10\" rx=\"0\" ry=\"0\" stroke=\"#cccccc\" width=\"10\" x=\"50\" y=\"90\"/><rect fill=\"white\" height=\"10\" rx=\"0\" ry=\"0\" stroke=\"#cccccc\" width=\"10\" x=\"60\" y=\"90\"/><rect fill=\"white\" height=\"10\" rx=\"0\" ry=\"0\" stroke=\"#cccccc\" width=\"10\" x=\"70\" y=\"90\"/><rect fill=\"white\" height=\"10\" rx=\"0\" ry=\"0\" stroke=\"#cccccc\" width=\"10\" x=\"80\" y=\"90\"/><rect fill=\"white\" height=\"10\" rx=\"0\" ry=\"0\" stroke=\"#cccccc\" width=\"10\" x=\"90\" y=\"90\"/><rect fill=\"white\" height=\"10\" rx=\"0\" ry=\"0\" stroke=\"#cccccc\" width=\"10\" x=\"0\" y=\"80\"/><rect fill=\"white\" height=\"10\" rx=\"0\" ry=\"0\" stroke=\"#cccccc\" width=\"10\" x=\"10\" y=\"80\"/><rect fill=\"white\" height=\"10\" rx=\"0\" ry=\"0\" stroke=\"#cccccc\" width=\"10\" x=\"20\" y=\"80\"/><rect fill=\"white\" height=\"10\" rx=\"0\" ry=\"0\" stroke=\"#cccccc\" width=\"10\" x=\"30\" y=\"80\"/><rect fill=\"white\" height=\"10\" rx=\"0\" ry=\"0\" stroke=\"#cccccc\" width=\"10\" x=\"40\" y=\"80\"/><rect fill=\"white\" height=\"10\" rx=\"0\" ry=\"0\" stroke=\"#cccccc\" width=\"10\" x=\"50\" y=\"80\"/><rect fill=\"white\" height=\"10\" rx=\"0\" ry=\"0\" stroke=\"#cccccc\" width=\"10\" x=\"60\" y=\"80\"/><rect fill=\"white\" height=\"10\" rx=\"0\" ry=\"0\" stroke=\"#cccccc\" width=\"10\" x=\"70\" y=\"80\"/><rect fill=\"white\" height=\"10\" rx=\"0\" ry=\"0\" stroke=\"#cccccc\" width=\"10\" x=\"80\" y=\"80\"/><rect fill=\"white\" height=\"10\" rx=\"0\" ry=\"0\" stroke=\"#cccccc\" width=\"10\" x=\"90\" y=\"80\"/><rect fill=\"white\" height=\"10\" rx=\"0\" ry=\"0\" stroke=\"#cccccc\" width=\"10\" x=\"0\" y=\"70\"/><rect fill=\"white\" height=\"10\" rx=\"0\" ry=\"0\" stroke=\"#cccccc\" width=\"10\" x=\"10\" y=\"70\"/><rect fill=\"white\" height=\"10\" rx=\"0\" ry=\"0\" stroke=\"#cccccc\" width=\"10\" x=\"20\" y=\"70\"/><rect fill=\"white\" height=\"10\" rx=\"0\" ry=\"0\" stroke=\"#cccccc\" width=\"10\" x=\"30\" y=\"70\"/><rect fill=\"white\" height=\"10\" rx=\"0\" ry=\"0\" stroke=\"#cccccc\" width=\"10\" x=\"40\" y=\"70\"/><rect fill=\"white\" height=\"10\" rx=\"0\" ry=\"0\" stroke=\"#cccccc\" width=\"10\" x=\"50\" y=\"70\"/><rect fill=\"white\" height=\"10\" rx=\"0\" ry=\"0\" stroke=\"#cccccc\" width=\"10\" x=\"60\" y=\"70\"/><rect fill=\"white\" height=\"10\" rx=\"0\" ry=\"0\" stroke=\"#cccccc\" width=\"10\" x=\"70\" y=\"70\"/><rect fill=\"white\" height=\"10\" rx=\"0\" ry=\"0\" stroke=\"#cccccc\" width=\"10\" x=\"80\" y=\"70\"/><rect fill=\"white\" height=\"10\" rx=\"0\" ry=\"0\" stroke=\"#cccccc\" width=\"10\" x=\"90\" y=\"70\"/><rect fill=\"white\" height=\"10\" rx=\"0\" ry=\"0\" stroke=\"#cccccc\" width=\"10\" x=\"0\" y=\"60\"/><rect fill=\"white\" height=\"10\" rx=\"0\" ry=\"0\" stroke=\"#cccccc\" width=\"10\" x=\"10\" y=\"60\"/><rect fill=\"white\" height=\"10\" rx=\"0\" ry=\"0\" stroke=\"#cccccc\" width=\"10\" x=\"20\" y=\"60\"/><rect fill=\"white\" height=\"10\" rx=\"0\" ry=\"0\" stroke=\"#cccccc\" width=\"10\" x=\"30\" y=\"60\"/><rect fill=\"white\" height=\"10\" rx=\"0\" ry=\"0\" stroke=\"#cccccc\" width=\"10\" x=\"40\" y=\"60\"/><rect fill=\"white\" height=\"10\" rx=\"0\" ry=\"0\" stroke=\"#cccccc\" width=\"10\" x=\"50\" y=\"60\"/><rect fill=\"white\" height=\"10\" rx=\"0\" ry=\"0\" stroke=\"#cccccc\" width=\"10\" x=\"60\" y=\"60\"/><rect fill=\"white\" height=\"10\" rx=\"0\" ry=\"0\" stroke=\"#cccccc\" width=\"10\" x=\"70\" y=\"60\"/><rect fill=\"white\" height=\"10\" rx=\"0\" ry=\"0\" stroke=\"#cccccc\" width=\"10\" x=\"80\" y=\"60\"/><rect fill=\"white\" height=\"10\" rx=\"0\" ry=\"0\" stroke=\"#cccccc\" width=\"10\" x=\"90\" y=\"60\"/><rect fill=\"white\" height=\"10\" rx=\"0\" ry=\"0\" stroke=\"#cccccc\" width=\"10\" x=\"0\" y=\"50\"/><rect fill=\"white\" height=\"10\" rx=\"0\" ry=\"0\" stroke=\"#cccccc\" width=\"10\" x=\"10\" y=\"50\"/><rect fill=\"white\" height=\"10\" rx=\"0\" ry=\"0\" stroke=\"#cccccc\" width=\"10\" x=\"20\" y=\"50\"/><rect fill=\"white\" height=\"10\" rx=\"0\" ry=\"0\" stroke=\"#cccccc\" width=\"10\" x=\"30\" y=\"50\"/><rect fill=\"white\" height=\"10\" rx=\"0\" ry=\"0\" stroke=\"#cccccc\" width=\"10\" x=\"40\" y=\"50\"/><rect fill=\"white\" height=\"10\" rx=\"0\" ry=\"0\" stroke=\"#cccccc\" width=\"10\" x=\"50\" y=\"50\"/><rect fill=\"white\" height=\"10\" rx=\"0\" ry=\"0\" stroke=\"#cccccc\" width=\"10\" x=\"60\" y=\"50\"/><rect fill=\"white\" height=\"10\" rx=\"0\" ry=\"0\" stroke=\"#cccccc\" width=\"10\" x=\"70\" y=\"50\"/><rect fill=\"white\" height=\"10\" rx=\"0\" ry=\"0\" stroke=\"#cccccc\" width=\"10\" x=\"80\" y=\"50\"/><rect fill=\"white\" height=\"10\" rx=\"0\" ry=\"0\" stroke=\"#cccccc\" width=\"10\" x=\"90\" y=\"50\"/><rect fill=\"white\" height=\"10\" rx=\"0\" ry=\"0\" stroke=\"#cccccc\" width=\"10\" x=\"0\" y=\"40\"/><rect fill=\"white\" height=\"10\" rx=\"0\" ry=\"0\" stroke=\"#cccccc\" width=\"10\" x=\"10\" y=\"40\"/><rect fill=\"white\" height=\"10\" rx=\"0\" ry=\"0\" stroke=\"#cccccc\" width=\"10\" x=\"20\" y=\"40\"/><rect fill=\"white\" height=\"10\" rx=\"0\" ry=\"0\" stroke=\"#cccccc\" width=\"10\" x=\"30\" y=\"40\"/><rect fill=\"white\" height=\"10\" rx=\"0\" ry=\"0\" stroke=\"#cccccc\" width=\"10\" x=\"40\" y=\"40\"/><rect fill=\"white\" height=\"10\" rx=\"0\" ry=\"0\" stroke=\"#cccccc\" width=\"10\" x=\"50\" y=\"40\"/><rect fill=\"white\" height=\"10\" rx=\"0\" ry=\"0\" stroke=\"#cccccc\" width=\"10\" x=\"60\" y=\"40\"/><rect fill=\"white\" height=\"10\" rx=\"0\" ry=\"0\" stroke=\"#cccccc\" width=\"10\" x=\"70\" y=\"40\"/><rect fill=\"white\" height=\"10\" rx=\"0\" ry=\"0\" stroke=\"#cccccc\" width=\"10\" x=\"80\" y=\"40\"/><rect fill=\"white\" height=\"10\" rx=\"0\" ry=\"0\" stroke=\"#cccccc\" width=\"10\" x=\"90\" y=\"40\"/><rect fill=\"white\" height=\"10\" rx=\"0\" ry=\"0\" stroke=\"#cccccc\" width=\"10\" x=\"0\" y=\"30\"/><rect fill=\"white\" height=\"10\" rx=\"0\" ry=\"0\" stroke=\"#cccccc\" width=\"10\" x=\"10\" y=\"30\"/><rect fill=\"white\" height=\"10\" rx=\"0\" ry=\"0\" stroke=\"#cccccc\" width=\"10\" x=\"20\" y=\"30\"/><rect fill=\"white\" height=\"10\" rx=\"0\" ry=\"0\" stroke=\"#cccccc\" width=\"10\" x=\"30\" y=\"30\"/><rect fill=\"white\" height=\"10\" rx=\"0\" ry=\"0\" stroke=\"#cccccc\" width=\"10\" x=\"40\" y=\"30\"/><rect fill=\"white\" height=\"10\" rx=\"0\" ry=\"0\" stroke=\"#cccccc\" width=\"10\" x=\"50\" y=\"30\"/><rect fill=\"white\" height=\"10\" rx=\"0\" ry=\"0\" stroke=\"#cccccc\" width=\"10\" x=\"60\" y=\"30\"/><rect fill=\"white\" height=\"10\" rx=\"0\" ry=\"0\" stroke=\"#cccccc\" width=\"10\" x=\"70\" y=\"30\"/><rect fill=\"white\" height=\"10\" rx=\"0\" ry=\"0\" stroke=\"#cccccc\" width=\"10\" x=\"80\" y=\"30\"/><rect fill=\"white\" height=\"10\" rx=\"0\" ry=\"0\" stroke=\"#cccccc\" width=\"10\" x=\"90\" y=\"30\"/><rect fill=\"white\" height=\"10\" rx=\"0\" ry=\"0\" stroke=\"#cccccc\" width=\"10\" x=\"0\" y=\"20\"/><rect fill=\"white\" height=\"10\" rx=\"0\" ry=\"0\" stroke=\"#cccccc\" width=\"10\" x=\"10\" y=\"20\"/><rect fill=\"white\" height=\"10\" rx=\"0\" ry=\"0\" stroke=\"#cccccc\" width=\"10\" x=\"20\" y=\"20\"/><rect fill=\"white\" height=\"10\" rx=\"0\" ry=\"0\" stroke=\"#cccccc\" width=\"10\" x=\"30\" y=\"20\"/><rect fill=\"white\" height=\"10\" rx=\"0\" ry=\"0\" stroke=\"#cccccc\" width=\"10\" x=\"40\" y=\"20\"/><rect fill=\"white\" height=\"10\" rx=\"0\" ry=\"0\" stroke=\"#cccccc\" width=\"10\" x=\"50\" y=\"20\"/><rect fill=\"white\" height=\"10\" rx=\"0\" ry=\"0\" stroke=\"#cccccc\" width=\"10\" x=\"60\" y=\"20\"/><rect fill=\"white\" height=\"10\" rx=\"0\" ry=\"0\" stroke=\"#cccccc\" width=\"10\" x=\"70\" y=\"20\"/><rect fill=\"white\" height=\"10\" rx=\"0\" ry=\"0\" stroke=\"#cccccc\" width=\"10\" x=\"80\" y=\"20\"/><rect fill=\"white\" height=\"10\" rx=\"0\" ry=\"0\" stroke=\"#cccccc\" width=\"10\" x=\"90\" y=\"20\"/><rect fill=\"white\" height=\"10\" rx=\"0\" ry=\"0\" stroke=\"#cccccc\" width=\"10\" x=\"0\" y=\"10\"/><rect fill=\"white\" height=\"10\" rx=\"0\" ry=\"0\" stroke=\"#cccccc\" width=\"10\" x=\"10\" y=\"10\"/><rect fill=\"white\" height=\"10\" rx=\"0\" ry=\"0\" stroke=\"#cccccc\" width=\"10\" x=\"20\" y=\"10\"/><rect fill=\"white\" height=\"10\" rx=\"0\" ry=\"0\" stroke=\"#cccccc\" width=\"10\" x=\"30\" y=\"10\"/><rect fill=\"white\" height=\"10\" rx=\"0\" ry=\"0\" stroke=\"#cccccc\" width=\"10\" x=\"40\" y=\"10\"/><rect fill=\"white\" height=\"10\" rx=\"0\" ry=\"0\" stroke=\"#cccccc\" width=\"10\" x=\"50\" y=\"10\"/><rect fill=\"white\" height=\"10\" rx=\"0\" ry=\"0\" stroke=\"#cccccc\" width=\"10\" x=\"60\" y=\"10\"/><rect fill=\"white\" height=\"10\" rx=\"0\" ry=\"0\" stroke=\"#cccccc\" width=\"10\" x=\"70\" y=\"10\"/><rect fill=\"white\" height=\"10\" rx=\"0\" ry=\"0\" stroke=\"#cccccc\" width=\"10\" x=\"80\" y=\"10\"/><rect fill=\"white\" height=\"10\" rx=\"0\" ry=\"0\" stroke=\"#cccccc\" width=\"10\" x=\"90\" y=\"10\"/></svg>"
      ],
      "text/plain": [
       "<IPython.core.display.SVG object>"
      ]
     },
     "execution_count": null,
     "metadata": {},
     "output_type": "execute_result"
    }
   ],
   "source": [
    "from tetris.renderer import Renderer\n",
    "renderer = Renderer()\n",
    "renderer.playfield_to_svg(pf)"
   ]
  },
  {
   "cell_type": "code",
   "execution_count": null,
   "metadata": {},
   "outputs": [
    {
     "data": {
      "text/plain": [
       "<tetris.playfield.Playfield at 0x1116980a0>"
      ]
     },
     "metadata": {},
     "output_type": "display_data"
    },
    {
     "data": {
      "text/plain": [
       "<tetris.playfield.Playfield at 0x1116980a0>"
      ]
     },
     "metadata": {},
     "output_type": "display_data"
    },
    {
     "data": {
      "text/plain": [
       "<tetris.playfield.Playfield at 0x1116980a0>"
      ]
     },
     "metadata": {},
     "output_type": "display_data"
    }
   ],
   "source": [
    "pf = c.process('T1,Z3,I4')"
   ]
  },
  {
   "cell_type": "code",
   "execution_count": null,
   "metadata": {},
   "outputs": [
    {
     "data": {
      "text/plain": [
       "<tetris.playfield.Playfield at 0x1116840a0>"
      ]
     },
     "metadata": {},
     "output_type": "display_data"
    },
    {
     "data": {
      "text/plain": [
       "<tetris.playfield.Playfield at 0x1116840a0>"
      ]
     },
     "metadata": {},
     "output_type": "display_data"
    },
    {
     "data": {
      "text/plain": [
       "<tetris.playfield.Playfield at 0x1116840a0>"
      ]
     },
     "metadata": {},
     "output_type": "display_data"
    },
    {
     "data": {
      "text/plain": [
       "<tetris.playfield.Playfield at 0x1116840a0>"
      ]
     },
     "metadata": {},
     "output_type": "display_data"
    },
    {
     "data": {
      "text/plain": [
       "<tetris.playfield.Playfield at 0x1116840a0>"
      ]
     },
     "metadata": {},
     "output_type": "display_data"
    },
    {
     "data": {
      "text/plain": [
       "<tetris.playfield.Playfield at 0x1116840a0>"
      ]
     },
     "metadata": {},
     "output_type": "display_data"
    },
    {
     "data": {
      "text/plain": [
       "<tetris.playfield.Playfield at 0x1116840a0>"
      ]
     },
     "metadata": {},
     "output_type": "display_data"
    },
    {
     "data": {
      "text/plain": [
       "<tetris.playfield.Playfield at 0x1116840a0>"
      ]
     },
     "metadata": {},
     "output_type": "display_data"
    },
    {
     "data": {
      "text/plain": [
       "<tetris.playfield.Playfield at 0x1116840a0>"
      ]
     },
     "execution_count": null,
     "metadata": {},
     "output_type": "execute_result"
    }
   ],
   "source": [
    "c.process('Q0,I2,I6,I0,I6,I6,Q2,Q4')"
   ]
  },
  {
   "cell_type": "code",
   "execution_count": null,
   "metadata": {},
   "outputs": [],
   "source": []
  }
 ],
 "metadata": {
  "kernelspec": {
   "display_name": "Python 3 (ipykernel)",
   "language": "python",
   "name": "python3"
  }
 },
 "nbformat": 4,
 "nbformat_minor": 4
}
