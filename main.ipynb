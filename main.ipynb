{
 "cells": [
  {
   "cell_type": "code",
   "execution_count": 1,
   "id": "1c9453b0-6228-4a37-ab1a-a3f6fbe00fb4",
   "metadata": {},
   "outputs": [
    {
     "name": "stdout",
     "output_type": "stream",
     "text": [
      "Requirement already satisfied: svgwrite in /usr/local/Cellar/jupyterlab/3.1.7/libexec/lib/python3.9/site-packages (1.4.2)\n",
      "\u001b[33mWARNING: You are using pip version 21.1.3; however, version 22.0.4 is available.\n",
      "You should consider upgrading via the '/usr/local/Cellar/jupyterlab/3.1.7/libexec/bin/python3.9 -m pip install --upgrade pip' command.\u001b[0m\n",
      "Note: you may need to restart the kernel to use updated packages.\n"
     ]
    }
   ],
   "source": [
    "%pip install svgwrite"
   ]
  },
  {
   "cell_type": "code",
   "execution_count": 3,
   "id": "dee8dc96-7756-40dc-95e9-39bc88a599e3",
   "metadata": {},
   "outputs": [],
   "source": [
    "import svgwrite"
   ]
  },
  {
   "cell_type": "code",
   "execution_count": 62,
   "id": "f5b45335-1568-4bc0-bb63-e939fa8a445a",
   "metadata": {},
   "outputs": [],
   "source": [
    "class Playfield:\n",
    "    def __init__(self, rows:int = 40, cols:int = 10):\n",
    "        self.rows = rows\n",
    "        self.cols = cols\n",
    "        self.playfield = [[None] * cols for _ in range(rows)]\n",
    "    def __str__(self) -> str:\n",
    "        return str(self.playfield)\n",
    "    def _repr_svg_(self) -> str:\n",
    "        side_len = 10\n",
    "        dwg = svgwrite.Drawing()\n",
    "        dwg.viewbox(0,0,800,550)\n",
    "\n",
    "        for row in range(self.rows):\n",
    "            for col in range(self.cols):\n",
    "                left_top = (col*side_len, row*side_len)\n",
    "                width_height = (side_len, side_len)\n",
    "                dwg.add(dwg.rect(left_top, width_height, stroke='white'))\n",
    "        return dwg.tostring()"
   ]
  },
  {
   "cell_type": "code",
   "execution_count": 63,
   "id": "c0817972-5fe1-4026-9bcc-4ec208c30305",
   "metadata": {},
   "outputs": [],
   "source": [
    "pf = Playfield()"
   ]
  },
  {
   "cell_type": "code",
   "execution_count": 64,
   "id": "02563425-041b-48cd-9b33-24200fcdc733",
   "metadata": {},
   "outputs": [
    {
     "data": {
      "image/svg+xml": [
       "<svg baseProfile=\"full\" height=\"100%\" version=\"1.1\" viewBox=\"0,0,800,550\" width=\"100%\" xmlns=\"http://www.w3.org/2000/svg\" xmlns:ev=\"http://www.w3.org/2001/xml-events\" xmlns:xlink=\"http://www.w3.org/1999/xlink\"><defs /><rect height=\"10\" stroke=\"white\" width=\"10\" x=\"0\" y=\"0\" /><rect height=\"10\" stroke=\"white\" width=\"10\" x=\"10\" y=\"0\" /><rect height=\"10\" stroke=\"white\" width=\"10\" x=\"20\" y=\"0\" /><rect height=\"10\" stroke=\"white\" width=\"10\" x=\"30\" y=\"0\" /><rect height=\"10\" stroke=\"white\" width=\"10\" x=\"40\" y=\"0\" /><rect height=\"10\" stroke=\"white\" width=\"10\" x=\"50\" y=\"0\" /><rect height=\"10\" stroke=\"white\" width=\"10\" x=\"60\" y=\"0\" /><rect height=\"10\" stroke=\"white\" width=\"10\" x=\"70\" y=\"0\" /><rect height=\"10\" stroke=\"white\" width=\"10\" x=\"80\" y=\"0\" /><rect height=\"10\" stroke=\"white\" width=\"10\" x=\"90\" y=\"0\" /><rect height=\"10\" stroke=\"white\" width=\"10\" x=\"0\" y=\"10\" /><rect height=\"10\" stroke=\"white\" width=\"10\" x=\"10\" y=\"10\" /><rect height=\"10\" stroke=\"white\" width=\"10\" x=\"20\" y=\"10\" /><rect height=\"10\" stroke=\"white\" width=\"10\" x=\"30\" y=\"10\" /><rect height=\"10\" stroke=\"white\" width=\"10\" x=\"40\" y=\"10\" /><rect height=\"10\" stroke=\"white\" width=\"10\" x=\"50\" y=\"10\" /><rect height=\"10\" stroke=\"white\" width=\"10\" x=\"60\" y=\"10\" /><rect height=\"10\" stroke=\"white\" width=\"10\" x=\"70\" y=\"10\" /><rect height=\"10\" stroke=\"white\" width=\"10\" x=\"80\" y=\"10\" /><rect height=\"10\" stroke=\"white\" width=\"10\" x=\"90\" y=\"10\" /><rect height=\"10\" stroke=\"white\" width=\"10\" x=\"0\" y=\"20\" /><rect height=\"10\" stroke=\"white\" width=\"10\" x=\"10\" y=\"20\" /><rect height=\"10\" stroke=\"white\" width=\"10\" x=\"20\" y=\"20\" /><rect height=\"10\" stroke=\"white\" width=\"10\" x=\"30\" y=\"20\" /><rect height=\"10\" stroke=\"white\" width=\"10\" x=\"40\" y=\"20\" /><rect height=\"10\" stroke=\"white\" width=\"10\" x=\"50\" y=\"20\" /><rect height=\"10\" stroke=\"white\" width=\"10\" x=\"60\" y=\"20\" /><rect height=\"10\" stroke=\"white\" width=\"10\" x=\"70\" y=\"20\" /><rect height=\"10\" stroke=\"white\" width=\"10\" x=\"80\" y=\"20\" /><rect height=\"10\" stroke=\"white\" width=\"10\" x=\"90\" y=\"20\" /><rect height=\"10\" stroke=\"white\" width=\"10\" x=\"0\" y=\"30\" /><rect height=\"10\" stroke=\"white\" width=\"10\" x=\"10\" y=\"30\" /><rect height=\"10\" stroke=\"white\" width=\"10\" x=\"20\" y=\"30\" /><rect height=\"10\" stroke=\"white\" width=\"10\" x=\"30\" y=\"30\" /><rect height=\"10\" stroke=\"white\" width=\"10\" x=\"40\" y=\"30\" /><rect height=\"10\" stroke=\"white\" width=\"10\" x=\"50\" y=\"30\" /><rect height=\"10\" stroke=\"white\" width=\"10\" x=\"60\" y=\"30\" /><rect height=\"10\" stroke=\"white\" width=\"10\" x=\"70\" y=\"30\" /><rect height=\"10\" stroke=\"white\" width=\"10\" x=\"80\" y=\"30\" /><rect height=\"10\" stroke=\"white\" width=\"10\" x=\"90\" y=\"30\" /><rect height=\"10\" stroke=\"white\" width=\"10\" x=\"0\" y=\"40\" /><rect height=\"10\" stroke=\"white\" width=\"10\" x=\"10\" y=\"40\" /><rect height=\"10\" stroke=\"white\" width=\"10\" x=\"20\" y=\"40\" /><rect height=\"10\" stroke=\"white\" width=\"10\" x=\"30\" y=\"40\" /><rect height=\"10\" stroke=\"white\" width=\"10\" x=\"40\" y=\"40\" /><rect height=\"10\" stroke=\"white\" width=\"10\" x=\"50\" y=\"40\" /><rect height=\"10\" stroke=\"white\" width=\"10\" x=\"60\" y=\"40\" /><rect height=\"10\" stroke=\"white\" width=\"10\" x=\"70\" y=\"40\" /><rect height=\"10\" stroke=\"white\" width=\"10\" x=\"80\" y=\"40\" /><rect height=\"10\" stroke=\"white\" width=\"10\" x=\"90\" y=\"40\" /><rect height=\"10\" stroke=\"white\" width=\"10\" x=\"0\" y=\"50\" /><rect height=\"10\" stroke=\"white\" width=\"10\" x=\"10\" y=\"50\" /><rect height=\"10\" stroke=\"white\" width=\"10\" x=\"20\" y=\"50\" /><rect height=\"10\" stroke=\"white\" width=\"10\" x=\"30\" y=\"50\" /><rect height=\"10\" stroke=\"white\" width=\"10\" x=\"40\" y=\"50\" /><rect height=\"10\" stroke=\"white\" width=\"10\" x=\"50\" y=\"50\" /><rect height=\"10\" stroke=\"white\" width=\"10\" x=\"60\" y=\"50\" /><rect height=\"10\" stroke=\"white\" width=\"10\" x=\"70\" y=\"50\" /><rect height=\"10\" stroke=\"white\" width=\"10\" x=\"80\" y=\"50\" /><rect height=\"10\" stroke=\"white\" width=\"10\" x=\"90\" y=\"50\" /><rect height=\"10\" stroke=\"white\" width=\"10\" x=\"0\" y=\"60\" /><rect height=\"10\" stroke=\"white\" width=\"10\" x=\"10\" y=\"60\" /><rect height=\"10\" stroke=\"white\" width=\"10\" x=\"20\" y=\"60\" /><rect height=\"10\" stroke=\"white\" width=\"10\" x=\"30\" y=\"60\" /><rect height=\"10\" stroke=\"white\" width=\"10\" x=\"40\" y=\"60\" /><rect height=\"10\" stroke=\"white\" width=\"10\" x=\"50\" y=\"60\" /><rect height=\"10\" stroke=\"white\" width=\"10\" x=\"60\" y=\"60\" /><rect height=\"10\" stroke=\"white\" width=\"10\" x=\"70\" y=\"60\" /><rect height=\"10\" stroke=\"white\" width=\"10\" x=\"80\" y=\"60\" /><rect height=\"10\" stroke=\"white\" width=\"10\" x=\"90\" y=\"60\" /><rect height=\"10\" stroke=\"white\" width=\"10\" x=\"0\" y=\"70\" /><rect height=\"10\" stroke=\"white\" width=\"10\" x=\"10\" y=\"70\" /><rect height=\"10\" stroke=\"white\" width=\"10\" x=\"20\" y=\"70\" /><rect height=\"10\" stroke=\"white\" width=\"10\" x=\"30\" y=\"70\" /><rect height=\"10\" stroke=\"white\" width=\"10\" x=\"40\" y=\"70\" /><rect height=\"10\" stroke=\"white\" width=\"10\" x=\"50\" y=\"70\" /><rect height=\"10\" stroke=\"white\" width=\"10\" x=\"60\" y=\"70\" /><rect height=\"10\" stroke=\"white\" width=\"10\" x=\"70\" y=\"70\" /><rect height=\"10\" stroke=\"white\" width=\"10\" x=\"80\" y=\"70\" /><rect height=\"10\" stroke=\"white\" width=\"10\" x=\"90\" y=\"70\" /><rect height=\"10\" stroke=\"white\" width=\"10\" x=\"0\" y=\"80\" /><rect height=\"10\" stroke=\"white\" width=\"10\" x=\"10\" y=\"80\" /><rect height=\"10\" stroke=\"white\" width=\"10\" x=\"20\" y=\"80\" /><rect height=\"10\" stroke=\"white\" width=\"10\" x=\"30\" y=\"80\" /><rect height=\"10\" stroke=\"white\" width=\"10\" x=\"40\" y=\"80\" /><rect height=\"10\" stroke=\"white\" width=\"10\" x=\"50\" y=\"80\" /><rect height=\"10\" stroke=\"white\" width=\"10\" x=\"60\" y=\"80\" /><rect height=\"10\" stroke=\"white\" width=\"10\" x=\"70\" y=\"80\" /><rect height=\"10\" stroke=\"white\" width=\"10\" x=\"80\" y=\"80\" /><rect height=\"10\" stroke=\"white\" width=\"10\" x=\"90\" y=\"80\" /><rect height=\"10\" stroke=\"white\" width=\"10\" x=\"0\" y=\"90\" /><rect height=\"10\" stroke=\"white\" width=\"10\" x=\"10\" y=\"90\" /><rect height=\"10\" stroke=\"white\" width=\"10\" x=\"20\" y=\"90\" /><rect height=\"10\" stroke=\"white\" width=\"10\" x=\"30\" y=\"90\" /><rect height=\"10\" stroke=\"white\" width=\"10\" x=\"40\" y=\"90\" /><rect height=\"10\" stroke=\"white\" width=\"10\" x=\"50\" y=\"90\" /><rect height=\"10\" stroke=\"white\" width=\"10\" x=\"60\" y=\"90\" /><rect height=\"10\" stroke=\"white\" width=\"10\" x=\"70\" y=\"90\" /><rect height=\"10\" stroke=\"white\" width=\"10\" x=\"80\" y=\"90\" /><rect height=\"10\" stroke=\"white\" width=\"10\" x=\"90\" y=\"90\" /><rect height=\"10\" stroke=\"white\" width=\"10\" x=\"0\" y=\"100\" /><rect height=\"10\" stroke=\"white\" width=\"10\" x=\"10\" y=\"100\" /><rect height=\"10\" stroke=\"white\" width=\"10\" x=\"20\" y=\"100\" /><rect height=\"10\" stroke=\"white\" width=\"10\" x=\"30\" y=\"100\" /><rect height=\"10\" stroke=\"white\" width=\"10\" x=\"40\" y=\"100\" /><rect height=\"10\" stroke=\"white\" width=\"10\" x=\"50\" y=\"100\" /><rect height=\"10\" stroke=\"white\" width=\"10\" x=\"60\" y=\"100\" /><rect height=\"10\" stroke=\"white\" width=\"10\" x=\"70\" y=\"100\" /><rect height=\"10\" stroke=\"white\" width=\"10\" x=\"80\" y=\"100\" /><rect height=\"10\" stroke=\"white\" width=\"10\" x=\"90\" y=\"100\" /><rect height=\"10\" stroke=\"white\" width=\"10\" x=\"0\" y=\"110\" /><rect height=\"10\" stroke=\"white\" width=\"10\" x=\"10\" y=\"110\" /><rect height=\"10\" stroke=\"white\" width=\"10\" x=\"20\" y=\"110\" /><rect height=\"10\" stroke=\"white\" width=\"10\" x=\"30\" y=\"110\" /><rect height=\"10\" stroke=\"white\" width=\"10\" x=\"40\" y=\"110\" /><rect height=\"10\" stroke=\"white\" width=\"10\" x=\"50\" y=\"110\" /><rect height=\"10\" stroke=\"white\" width=\"10\" x=\"60\" y=\"110\" /><rect height=\"10\" stroke=\"white\" width=\"10\" x=\"70\" y=\"110\" /><rect height=\"10\" stroke=\"white\" width=\"10\" x=\"80\" y=\"110\" /><rect height=\"10\" stroke=\"white\" width=\"10\" x=\"90\" y=\"110\" /><rect height=\"10\" stroke=\"white\" width=\"10\" x=\"0\" y=\"120\" /><rect height=\"10\" stroke=\"white\" width=\"10\" x=\"10\" y=\"120\" /><rect height=\"10\" stroke=\"white\" width=\"10\" x=\"20\" y=\"120\" /><rect height=\"10\" stroke=\"white\" width=\"10\" x=\"30\" y=\"120\" /><rect height=\"10\" stroke=\"white\" width=\"10\" x=\"40\" y=\"120\" /><rect height=\"10\" stroke=\"white\" width=\"10\" x=\"50\" y=\"120\" /><rect height=\"10\" stroke=\"white\" width=\"10\" x=\"60\" y=\"120\" /><rect height=\"10\" stroke=\"white\" width=\"10\" x=\"70\" y=\"120\" /><rect height=\"10\" stroke=\"white\" width=\"10\" x=\"80\" y=\"120\" /><rect height=\"10\" stroke=\"white\" width=\"10\" x=\"90\" y=\"120\" /><rect height=\"10\" stroke=\"white\" width=\"10\" x=\"0\" y=\"130\" /><rect height=\"10\" stroke=\"white\" width=\"10\" x=\"10\" y=\"130\" /><rect height=\"10\" stroke=\"white\" width=\"10\" x=\"20\" y=\"130\" /><rect height=\"10\" stroke=\"white\" width=\"10\" x=\"30\" y=\"130\" /><rect height=\"10\" stroke=\"white\" width=\"10\" x=\"40\" y=\"130\" /><rect height=\"10\" stroke=\"white\" width=\"10\" x=\"50\" y=\"130\" /><rect height=\"10\" stroke=\"white\" width=\"10\" x=\"60\" y=\"130\" /><rect height=\"10\" stroke=\"white\" width=\"10\" x=\"70\" y=\"130\" /><rect height=\"10\" stroke=\"white\" width=\"10\" x=\"80\" y=\"130\" /><rect height=\"10\" stroke=\"white\" width=\"10\" x=\"90\" y=\"130\" /><rect height=\"10\" stroke=\"white\" width=\"10\" x=\"0\" y=\"140\" /><rect height=\"10\" stroke=\"white\" width=\"10\" x=\"10\" y=\"140\" /><rect height=\"10\" stroke=\"white\" width=\"10\" x=\"20\" y=\"140\" /><rect height=\"10\" stroke=\"white\" width=\"10\" x=\"30\" y=\"140\" /><rect height=\"10\" stroke=\"white\" width=\"10\" x=\"40\" y=\"140\" /><rect height=\"10\" stroke=\"white\" width=\"10\" x=\"50\" y=\"140\" /><rect height=\"10\" stroke=\"white\" width=\"10\" x=\"60\" y=\"140\" /><rect height=\"10\" stroke=\"white\" width=\"10\" x=\"70\" y=\"140\" /><rect height=\"10\" stroke=\"white\" width=\"10\" x=\"80\" y=\"140\" /><rect height=\"10\" stroke=\"white\" width=\"10\" x=\"90\" y=\"140\" /><rect height=\"10\" stroke=\"white\" width=\"10\" x=\"0\" y=\"150\" /><rect height=\"10\" stroke=\"white\" width=\"10\" x=\"10\" y=\"150\" /><rect height=\"10\" stroke=\"white\" width=\"10\" x=\"20\" y=\"150\" /><rect height=\"10\" stroke=\"white\" width=\"10\" x=\"30\" y=\"150\" /><rect height=\"10\" stroke=\"white\" width=\"10\" x=\"40\" y=\"150\" /><rect height=\"10\" stroke=\"white\" width=\"10\" x=\"50\" y=\"150\" /><rect height=\"10\" stroke=\"white\" width=\"10\" x=\"60\" y=\"150\" /><rect height=\"10\" stroke=\"white\" width=\"10\" x=\"70\" y=\"150\" /><rect height=\"10\" stroke=\"white\" width=\"10\" x=\"80\" y=\"150\" /><rect height=\"10\" stroke=\"white\" width=\"10\" x=\"90\" y=\"150\" /><rect height=\"10\" stroke=\"white\" width=\"10\" x=\"0\" y=\"160\" /><rect height=\"10\" stroke=\"white\" width=\"10\" x=\"10\" y=\"160\" /><rect height=\"10\" stroke=\"white\" width=\"10\" x=\"20\" y=\"160\" /><rect height=\"10\" stroke=\"white\" width=\"10\" x=\"30\" y=\"160\" /><rect height=\"10\" stroke=\"white\" width=\"10\" x=\"40\" y=\"160\" /><rect height=\"10\" stroke=\"white\" width=\"10\" x=\"50\" y=\"160\" /><rect height=\"10\" stroke=\"white\" width=\"10\" x=\"60\" y=\"160\" /><rect height=\"10\" stroke=\"white\" width=\"10\" x=\"70\" y=\"160\" /><rect height=\"10\" stroke=\"white\" width=\"10\" x=\"80\" y=\"160\" /><rect height=\"10\" stroke=\"white\" width=\"10\" x=\"90\" y=\"160\" /><rect height=\"10\" stroke=\"white\" width=\"10\" x=\"0\" y=\"170\" /><rect height=\"10\" stroke=\"white\" width=\"10\" x=\"10\" y=\"170\" /><rect height=\"10\" stroke=\"white\" width=\"10\" x=\"20\" y=\"170\" /><rect height=\"10\" stroke=\"white\" width=\"10\" x=\"30\" y=\"170\" /><rect height=\"10\" stroke=\"white\" width=\"10\" x=\"40\" y=\"170\" /><rect height=\"10\" stroke=\"white\" width=\"10\" x=\"50\" y=\"170\" /><rect height=\"10\" stroke=\"white\" width=\"10\" x=\"60\" y=\"170\" /><rect height=\"10\" stroke=\"white\" width=\"10\" x=\"70\" y=\"170\" /><rect height=\"10\" stroke=\"white\" width=\"10\" x=\"80\" y=\"170\" /><rect height=\"10\" stroke=\"white\" width=\"10\" x=\"90\" y=\"170\" /><rect height=\"10\" stroke=\"white\" width=\"10\" x=\"0\" y=\"180\" /><rect height=\"10\" stroke=\"white\" width=\"10\" x=\"10\" y=\"180\" /><rect height=\"10\" stroke=\"white\" width=\"10\" x=\"20\" y=\"180\" /><rect height=\"10\" stroke=\"white\" width=\"10\" x=\"30\" y=\"180\" /><rect height=\"10\" stroke=\"white\" width=\"10\" x=\"40\" y=\"180\" /><rect height=\"10\" stroke=\"white\" width=\"10\" x=\"50\" y=\"180\" /><rect height=\"10\" stroke=\"white\" width=\"10\" x=\"60\" y=\"180\" /><rect height=\"10\" stroke=\"white\" width=\"10\" x=\"70\" y=\"180\" /><rect height=\"10\" stroke=\"white\" width=\"10\" x=\"80\" y=\"180\" /><rect height=\"10\" stroke=\"white\" width=\"10\" x=\"90\" y=\"180\" /><rect height=\"10\" stroke=\"white\" width=\"10\" x=\"0\" y=\"190\" /><rect height=\"10\" stroke=\"white\" width=\"10\" x=\"10\" y=\"190\" /><rect height=\"10\" stroke=\"white\" width=\"10\" x=\"20\" y=\"190\" /><rect height=\"10\" stroke=\"white\" width=\"10\" x=\"30\" y=\"190\" /><rect height=\"10\" stroke=\"white\" width=\"10\" x=\"40\" y=\"190\" /><rect height=\"10\" stroke=\"white\" width=\"10\" x=\"50\" y=\"190\" /><rect height=\"10\" stroke=\"white\" width=\"10\" x=\"60\" y=\"190\" /><rect height=\"10\" stroke=\"white\" width=\"10\" x=\"70\" y=\"190\" /><rect height=\"10\" stroke=\"white\" width=\"10\" x=\"80\" y=\"190\" /><rect height=\"10\" stroke=\"white\" width=\"10\" x=\"90\" y=\"190\" /><rect height=\"10\" stroke=\"white\" width=\"10\" x=\"0\" y=\"200\" /><rect height=\"10\" stroke=\"white\" width=\"10\" x=\"10\" y=\"200\" /><rect height=\"10\" stroke=\"white\" width=\"10\" x=\"20\" y=\"200\" /><rect height=\"10\" stroke=\"white\" width=\"10\" x=\"30\" y=\"200\" /><rect height=\"10\" stroke=\"white\" width=\"10\" x=\"40\" y=\"200\" /><rect height=\"10\" stroke=\"white\" width=\"10\" x=\"50\" y=\"200\" /><rect height=\"10\" stroke=\"white\" width=\"10\" x=\"60\" y=\"200\" /><rect height=\"10\" stroke=\"white\" width=\"10\" x=\"70\" y=\"200\" /><rect height=\"10\" stroke=\"white\" width=\"10\" x=\"80\" y=\"200\" /><rect height=\"10\" stroke=\"white\" width=\"10\" x=\"90\" y=\"200\" /><rect height=\"10\" stroke=\"white\" width=\"10\" x=\"0\" y=\"210\" /><rect height=\"10\" stroke=\"white\" width=\"10\" x=\"10\" y=\"210\" /><rect height=\"10\" stroke=\"white\" width=\"10\" x=\"20\" y=\"210\" /><rect height=\"10\" stroke=\"white\" width=\"10\" x=\"30\" y=\"210\" /><rect height=\"10\" stroke=\"white\" width=\"10\" x=\"40\" y=\"210\" /><rect height=\"10\" stroke=\"white\" width=\"10\" x=\"50\" y=\"210\" /><rect height=\"10\" stroke=\"white\" width=\"10\" x=\"60\" y=\"210\" /><rect height=\"10\" stroke=\"white\" width=\"10\" x=\"70\" y=\"210\" /><rect height=\"10\" stroke=\"white\" width=\"10\" x=\"80\" y=\"210\" /><rect height=\"10\" stroke=\"white\" width=\"10\" x=\"90\" y=\"210\" /><rect height=\"10\" stroke=\"white\" width=\"10\" x=\"0\" y=\"220\" /><rect height=\"10\" stroke=\"white\" width=\"10\" x=\"10\" y=\"220\" /><rect height=\"10\" stroke=\"white\" width=\"10\" x=\"20\" y=\"220\" /><rect height=\"10\" stroke=\"white\" width=\"10\" x=\"30\" y=\"220\" /><rect height=\"10\" stroke=\"white\" width=\"10\" x=\"40\" y=\"220\" /><rect height=\"10\" stroke=\"white\" width=\"10\" x=\"50\" y=\"220\" /><rect height=\"10\" stroke=\"white\" width=\"10\" x=\"60\" y=\"220\" /><rect height=\"10\" stroke=\"white\" width=\"10\" x=\"70\" y=\"220\" /><rect height=\"10\" stroke=\"white\" width=\"10\" x=\"80\" y=\"220\" /><rect height=\"10\" stroke=\"white\" width=\"10\" x=\"90\" y=\"220\" /><rect height=\"10\" stroke=\"white\" width=\"10\" x=\"0\" y=\"230\" /><rect height=\"10\" stroke=\"white\" width=\"10\" x=\"10\" y=\"230\" /><rect height=\"10\" stroke=\"white\" width=\"10\" x=\"20\" y=\"230\" /><rect height=\"10\" stroke=\"white\" width=\"10\" x=\"30\" y=\"230\" /><rect height=\"10\" stroke=\"white\" width=\"10\" x=\"40\" y=\"230\" /><rect height=\"10\" stroke=\"white\" width=\"10\" x=\"50\" y=\"230\" /><rect height=\"10\" stroke=\"white\" width=\"10\" x=\"60\" y=\"230\" /><rect height=\"10\" stroke=\"white\" width=\"10\" x=\"70\" y=\"230\" /><rect height=\"10\" stroke=\"white\" width=\"10\" x=\"80\" y=\"230\" /><rect height=\"10\" stroke=\"white\" width=\"10\" x=\"90\" y=\"230\" /><rect height=\"10\" stroke=\"white\" width=\"10\" x=\"0\" y=\"240\" /><rect height=\"10\" stroke=\"white\" width=\"10\" x=\"10\" y=\"240\" /><rect height=\"10\" stroke=\"white\" width=\"10\" x=\"20\" y=\"240\" /><rect height=\"10\" stroke=\"white\" width=\"10\" x=\"30\" y=\"240\" /><rect height=\"10\" stroke=\"white\" width=\"10\" x=\"40\" y=\"240\" /><rect height=\"10\" stroke=\"white\" width=\"10\" x=\"50\" y=\"240\" /><rect height=\"10\" stroke=\"white\" width=\"10\" x=\"60\" y=\"240\" /><rect height=\"10\" stroke=\"white\" width=\"10\" x=\"70\" y=\"240\" /><rect height=\"10\" stroke=\"white\" width=\"10\" x=\"80\" y=\"240\" /><rect height=\"10\" stroke=\"white\" width=\"10\" x=\"90\" y=\"240\" /><rect height=\"10\" stroke=\"white\" width=\"10\" x=\"0\" y=\"250\" /><rect height=\"10\" stroke=\"white\" width=\"10\" x=\"10\" y=\"250\" /><rect height=\"10\" stroke=\"white\" width=\"10\" x=\"20\" y=\"250\" /><rect height=\"10\" stroke=\"white\" width=\"10\" x=\"30\" y=\"250\" /><rect height=\"10\" stroke=\"white\" width=\"10\" x=\"40\" y=\"250\" /><rect height=\"10\" stroke=\"white\" width=\"10\" x=\"50\" y=\"250\" /><rect height=\"10\" stroke=\"white\" width=\"10\" x=\"60\" y=\"250\" /><rect height=\"10\" stroke=\"white\" width=\"10\" x=\"70\" y=\"250\" /><rect height=\"10\" stroke=\"white\" width=\"10\" x=\"80\" y=\"250\" /><rect height=\"10\" stroke=\"white\" width=\"10\" x=\"90\" y=\"250\" /><rect height=\"10\" stroke=\"white\" width=\"10\" x=\"0\" y=\"260\" /><rect height=\"10\" stroke=\"white\" width=\"10\" x=\"10\" y=\"260\" /><rect height=\"10\" stroke=\"white\" width=\"10\" x=\"20\" y=\"260\" /><rect height=\"10\" stroke=\"white\" width=\"10\" x=\"30\" y=\"260\" /><rect height=\"10\" stroke=\"white\" width=\"10\" x=\"40\" y=\"260\" /><rect height=\"10\" stroke=\"white\" width=\"10\" x=\"50\" y=\"260\" /><rect height=\"10\" stroke=\"white\" width=\"10\" x=\"60\" y=\"260\" /><rect height=\"10\" stroke=\"white\" width=\"10\" x=\"70\" y=\"260\" /><rect height=\"10\" stroke=\"white\" width=\"10\" x=\"80\" y=\"260\" /><rect height=\"10\" stroke=\"white\" width=\"10\" x=\"90\" y=\"260\" /><rect height=\"10\" stroke=\"white\" width=\"10\" x=\"0\" y=\"270\" /><rect height=\"10\" stroke=\"white\" width=\"10\" x=\"10\" y=\"270\" /><rect height=\"10\" stroke=\"white\" width=\"10\" x=\"20\" y=\"270\" /><rect height=\"10\" stroke=\"white\" width=\"10\" x=\"30\" y=\"270\" /><rect height=\"10\" stroke=\"white\" width=\"10\" x=\"40\" y=\"270\" /><rect height=\"10\" stroke=\"white\" width=\"10\" x=\"50\" y=\"270\" /><rect height=\"10\" stroke=\"white\" width=\"10\" x=\"60\" y=\"270\" /><rect height=\"10\" stroke=\"white\" width=\"10\" x=\"70\" y=\"270\" /><rect height=\"10\" stroke=\"white\" width=\"10\" x=\"80\" y=\"270\" /><rect height=\"10\" stroke=\"white\" width=\"10\" x=\"90\" y=\"270\" /><rect height=\"10\" stroke=\"white\" width=\"10\" x=\"0\" y=\"280\" /><rect height=\"10\" stroke=\"white\" width=\"10\" x=\"10\" y=\"280\" /><rect height=\"10\" stroke=\"white\" width=\"10\" x=\"20\" y=\"280\" /><rect height=\"10\" stroke=\"white\" width=\"10\" x=\"30\" y=\"280\" /><rect height=\"10\" stroke=\"white\" width=\"10\" x=\"40\" y=\"280\" /><rect height=\"10\" stroke=\"white\" width=\"10\" x=\"50\" y=\"280\" /><rect height=\"10\" stroke=\"white\" width=\"10\" x=\"60\" y=\"280\" /><rect height=\"10\" stroke=\"white\" width=\"10\" x=\"70\" y=\"280\" /><rect height=\"10\" stroke=\"white\" width=\"10\" x=\"80\" y=\"280\" /><rect height=\"10\" stroke=\"white\" width=\"10\" x=\"90\" y=\"280\" /><rect height=\"10\" stroke=\"white\" width=\"10\" x=\"0\" y=\"290\" /><rect height=\"10\" stroke=\"white\" width=\"10\" x=\"10\" y=\"290\" /><rect height=\"10\" stroke=\"white\" width=\"10\" x=\"20\" y=\"290\" /><rect height=\"10\" stroke=\"white\" width=\"10\" x=\"30\" y=\"290\" /><rect height=\"10\" stroke=\"white\" width=\"10\" x=\"40\" y=\"290\" /><rect height=\"10\" stroke=\"white\" width=\"10\" x=\"50\" y=\"290\" /><rect height=\"10\" stroke=\"white\" width=\"10\" x=\"60\" y=\"290\" /><rect height=\"10\" stroke=\"white\" width=\"10\" x=\"70\" y=\"290\" /><rect height=\"10\" stroke=\"white\" width=\"10\" x=\"80\" y=\"290\" /><rect height=\"10\" stroke=\"white\" width=\"10\" x=\"90\" y=\"290\" /><rect height=\"10\" stroke=\"white\" width=\"10\" x=\"0\" y=\"300\" /><rect height=\"10\" stroke=\"white\" width=\"10\" x=\"10\" y=\"300\" /><rect height=\"10\" stroke=\"white\" width=\"10\" x=\"20\" y=\"300\" /><rect height=\"10\" stroke=\"white\" width=\"10\" x=\"30\" y=\"300\" /><rect height=\"10\" stroke=\"white\" width=\"10\" x=\"40\" y=\"300\" /><rect height=\"10\" stroke=\"white\" width=\"10\" x=\"50\" y=\"300\" /><rect height=\"10\" stroke=\"white\" width=\"10\" x=\"60\" y=\"300\" /><rect height=\"10\" stroke=\"white\" width=\"10\" x=\"70\" y=\"300\" /><rect height=\"10\" stroke=\"white\" width=\"10\" x=\"80\" y=\"300\" /><rect height=\"10\" stroke=\"white\" width=\"10\" x=\"90\" y=\"300\" /><rect height=\"10\" stroke=\"white\" width=\"10\" x=\"0\" y=\"310\" /><rect height=\"10\" stroke=\"white\" width=\"10\" x=\"10\" y=\"310\" /><rect height=\"10\" stroke=\"white\" width=\"10\" x=\"20\" y=\"310\" /><rect height=\"10\" stroke=\"white\" width=\"10\" x=\"30\" y=\"310\" /><rect height=\"10\" stroke=\"white\" width=\"10\" x=\"40\" y=\"310\" /><rect height=\"10\" stroke=\"white\" width=\"10\" x=\"50\" y=\"310\" /><rect height=\"10\" stroke=\"white\" width=\"10\" x=\"60\" y=\"310\" /><rect height=\"10\" stroke=\"white\" width=\"10\" x=\"70\" y=\"310\" /><rect height=\"10\" stroke=\"white\" width=\"10\" x=\"80\" y=\"310\" /><rect height=\"10\" stroke=\"white\" width=\"10\" x=\"90\" y=\"310\" /><rect height=\"10\" stroke=\"white\" width=\"10\" x=\"0\" y=\"320\" /><rect height=\"10\" stroke=\"white\" width=\"10\" x=\"10\" y=\"320\" /><rect height=\"10\" stroke=\"white\" width=\"10\" x=\"20\" y=\"320\" /><rect height=\"10\" stroke=\"white\" width=\"10\" x=\"30\" y=\"320\" /><rect height=\"10\" stroke=\"white\" width=\"10\" x=\"40\" y=\"320\" /><rect height=\"10\" stroke=\"white\" width=\"10\" x=\"50\" y=\"320\" /><rect height=\"10\" stroke=\"white\" width=\"10\" x=\"60\" y=\"320\" /><rect height=\"10\" stroke=\"white\" width=\"10\" x=\"70\" y=\"320\" /><rect height=\"10\" stroke=\"white\" width=\"10\" x=\"80\" y=\"320\" /><rect height=\"10\" stroke=\"white\" width=\"10\" x=\"90\" y=\"320\" /><rect height=\"10\" stroke=\"white\" width=\"10\" x=\"0\" y=\"330\" /><rect height=\"10\" stroke=\"white\" width=\"10\" x=\"10\" y=\"330\" /><rect height=\"10\" stroke=\"white\" width=\"10\" x=\"20\" y=\"330\" /><rect height=\"10\" stroke=\"white\" width=\"10\" x=\"30\" y=\"330\" /><rect height=\"10\" stroke=\"white\" width=\"10\" x=\"40\" y=\"330\" /><rect height=\"10\" stroke=\"white\" width=\"10\" x=\"50\" y=\"330\" /><rect height=\"10\" stroke=\"white\" width=\"10\" x=\"60\" y=\"330\" /><rect height=\"10\" stroke=\"white\" width=\"10\" x=\"70\" y=\"330\" /><rect height=\"10\" stroke=\"white\" width=\"10\" x=\"80\" y=\"330\" /><rect height=\"10\" stroke=\"white\" width=\"10\" x=\"90\" y=\"330\" /><rect height=\"10\" stroke=\"white\" width=\"10\" x=\"0\" y=\"340\" /><rect height=\"10\" stroke=\"white\" width=\"10\" x=\"10\" y=\"340\" /><rect height=\"10\" stroke=\"white\" width=\"10\" x=\"20\" y=\"340\" /><rect height=\"10\" stroke=\"white\" width=\"10\" x=\"30\" y=\"340\" /><rect height=\"10\" stroke=\"white\" width=\"10\" x=\"40\" y=\"340\" /><rect height=\"10\" stroke=\"white\" width=\"10\" x=\"50\" y=\"340\" /><rect height=\"10\" stroke=\"white\" width=\"10\" x=\"60\" y=\"340\" /><rect height=\"10\" stroke=\"white\" width=\"10\" x=\"70\" y=\"340\" /><rect height=\"10\" stroke=\"white\" width=\"10\" x=\"80\" y=\"340\" /><rect height=\"10\" stroke=\"white\" width=\"10\" x=\"90\" y=\"340\" /><rect height=\"10\" stroke=\"white\" width=\"10\" x=\"0\" y=\"350\" /><rect height=\"10\" stroke=\"white\" width=\"10\" x=\"10\" y=\"350\" /><rect height=\"10\" stroke=\"white\" width=\"10\" x=\"20\" y=\"350\" /><rect height=\"10\" stroke=\"white\" width=\"10\" x=\"30\" y=\"350\" /><rect height=\"10\" stroke=\"white\" width=\"10\" x=\"40\" y=\"350\" /><rect height=\"10\" stroke=\"white\" width=\"10\" x=\"50\" y=\"350\" /><rect height=\"10\" stroke=\"white\" width=\"10\" x=\"60\" y=\"350\" /><rect height=\"10\" stroke=\"white\" width=\"10\" x=\"70\" y=\"350\" /><rect height=\"10\" stroke=\"white\" width=\"10\" x=\"80\" y=\"350\" /><rect height=\"10\" stroke=\"white\" width=\"10\" x=\"90\" y=\"350\" /><rect height=\"10\" stroke=\"white\" width=\"10\" x=\"0\" y=\"360\" /><rect height=\"10\" stroke=\"white\" width=\"10\" x=\"10\" y=\"360\" /><rect height=\"10\" stroke=\"white\" width=\"10\" x=\"20\" y=\"360\" /><rect height=\"10\" stroke=\"white\" width=\"10\" x=\"30\" y=\"360\" /><rect height=\"10\" stroke=\"white\" width=\"10\" x=\"40\" y=\"360\" /><rect height=\"10\" stroke=\"white\" width=\"10\" x=\"50\" y=\"360\" /><rect height=\"10\" stroke=\"white\" width=\"10\" x=\"60\" y=\"360\" /><rect height=\"10\" stroke=\"white\" width=\"10\" x=\"70\" y=\"360\" /><rect height=\"10\" stroke=\"white\" width=\"10\" x=\"80\" y=\"360\" /><rect height=\"10\" stroke=\"white\" width=\"10\" x=\"90\" y=\"360\" /><rect height=\"10\" stroke=\"white\" width=\"10\" x=\"0\" y=\"370\" /><rect height=\"10\" stroke=\"white\" width=\"10\" x=\"10\" y=\"370\" /><rect height=\"10\" stroke=\"white\" width=\"10\" x=\"20\" y=\"370\" /><rect height=\"10\" stroke=\"white\" width=\"10\" x=\"30\" y=\"370\" /><rect height=\"10\" stroke=\"white\" width=\"10\" x=\"40\" y=\"370\" /><rect height=\"10\" stroke=\"white\" width=\"10\" x=\"50\" y=\"370\" /><rect height=\"10\" stroke=\"white\" width=\"10\" x=\"60\" y=\"370\" /><rect height=\"10\" stroke=\"white\" width=\"10\" x=\"70\" y=\"370\" /><rect height=\"10\" stroke=\"white\" width=\"10\" x=\"80\" y=\"370\" /><rect height=\"10\" stroke=\"white\" width=\"10\" x=\"90\" y=\"370\" /><rect height=\"10\" stroke=\"white\" width=\"10\" x=\"0\" y=\"380\" /><rect height=\"10\" stroke=\"white\" width=\"10\" x=\"10\" y=\"380\" /><rect height=\"10\" stroke=\"white\" width=\"10\" x=\"20\" y=\"380\" /><rect height=\"10\" stroke=\"white\" width=\"10\" x=\"30\" y=\"380\" /><rect height=\"10\" stroke=\"white\" width=\"10\" x=\"40\" y=\"380\" /><rect height=\"10\" stroke=\"white\" width=\"10\" x=\"50\" y=\"380\" /><rect height=\"10\" stroke=\"white\" width=\"10\" x=\"60\" y=\"380\" /><rect height=\"10\" stroke=\"white\" width=\"10\" x=\"70\" y=\"380\" /><rect height=\"10\" stroke=\"white\" width=\"10\" x=\"80\" y=\"380\" /><rect height=\"10\" stroke=\"white\" width=\"10\" x=\"90\" y=\"380\" /><rect height=\"10\" stroke=\"white\" width=\"10\" x=\"0\" y=\"390\" /><rect height=\"10\" stroke=\"white\" width=\"10\" x=\"10\" y=\"390\" /><rect height=\"10\" stroke=\"white\" width=\"10\" x=\"20\" y=\"390\" /><rect height=\"10\" stroke=\"white\" width=\"10\" x=\"30\" y=\"390\" /><rect height=\"10\" stroke=\"white\" width=\"10\" x=\"40\" y=\"390\" /><rect height=\"10\" stroke=\"white\" width=\"10\" x=\"50\" y=\"390\" /><rect height=\"10\" stroke=\"white\" width=\"10\" x=\"60\" y=\"390\" /><rect height=\"10\" stroke=\"white\" width=\"10\" x=\"70\" y=\"390\" /><rect height=\"10\" stroke=\"white\" width=\"10\" x=\"80\" y=\"390\" /><rect height=\"10\" stroke=\"white\" width=\"10\" x=\"90\" y=\"390\" /></svg>"
      ],
      "text/plain": [
       "<__main__.Playfield at 0x10d999b20>"
      ]
     },
     "execution_count": 64,
     "metadata": {},
     "output_type": "execute_result"
    }
   ],
   "source": [
    "pf"
   ]
  },
  {
   "cell_type": "code",
   "execution_count": 104,
   "id": "a1e9a736-9943-4e9d-b720-7d39ef2ad96d",
   "metadata": {},
   "outputs": [],
   "source": [
    "class Piece:\n",
    "    def __init__(self, rep:str):\n",
    "        self.arr = []\n",
    "        for line in rep.split('\\n'):\n",
    "            row = [True if ch == '*' else False for ch in line]\n",
    "            self.arr.append(row)\n",
    "    def _repr_svg_(self) -> str:\n",
    "        side_len = 10\n",
    "        dwg = svgwrite.Drawing()\n",
    "        dwg.viewbox(0,0,800,30)\n",
    "\n",
    "        for row in range(len(self.arr)):\n",
    "            for col in range(len(self.arr[0])):\n",
    "                left_top = (col*side_len, row*side_len)\n",
    "                width_height = (side_len, side_len)\n",
    "                fill = 'blue' if self.arr[row][col] else 'black'\n",
    "                dwg.add(dwg.rect(left_top, width_height, fill=fill))\n",
    "        return dwg.tostring()"
   ]
  },
  {
   "cell_type": "code",
   "execution_count": 105,
   "id": "1558fd2f-e1e6-4d73-8100-5adee283555a",
   "metadata": {},
   "outputs": [
    {
     "data": {
      "image/svg+xml": [
       "<svg baseProfile=\"full\" height=\"100%\" version=\"1.1\" viewBox=\"0,0,800,30\" width=\"100%\" xmlns=\"http://www.w3.org/2000/svg\" xmlns:ev=\"http://www.w3.org/2001/xml-events\" xmlns:xlink=\"http://www.w3.org/1999/xlink\"><defs /><rect fill=\"blue\" height=\"10\" width=\"10\" x=\"0\" y=\"0\" /><rect fill=\"blue\" height=\"10\" width=\"10\" x=\"10\" y=\"0\" /><rect fill=\"black\" height=\"10\" width=\"10\" x=\"20\" y=\"0\" /><rect fill=\"black\" height=\"10\" width=\"10\" x=\"0\" y=\"10\" /><rect fill=\"blue\" height=\"10\" width=\"10\" x=\"10\" y=\"10\" /><rect fill=\"blue\" height=\"10\" width=\"10\" x=\"20\" y=\"10\" /></svg>"
      ],
      "text/plain": [
       "<__main__.Piece at 0x10d9bd6d0>"
      ]
     },
     "execution_count": 105,
     "metadata": {},
     "output_type": "execute_result"
    }
   ],
   "source": [
    "Piece(\"**-\\n-**\")"
   ]
  },
  {
   "cell_type": "code",
   "execution_count": 106,
   "id": "1ad16cba-e45a-4e49-b958-4e9ad840a20a",
   "metadata": {},
   "outputs": [],
   "source": [
    "import os\n",
    "\n",
    "class PieceLoader:\n",
    "    def load(self, directory:str) -> None:\n",
    "        self._pieces = {}\n",
    "        for filename in os.listdir(directory):\n",
    "            f = os.path.join(directory, filename)\n",
    "            if os.path.isfile(f):\n",
    "                with open(f, 'r') as inf:\n",
    "                    data = inf.read()\n",
    "                    self._pieces[filename] = Piece(data)\n",
    "    @property\n",
    "    def pieces(self):\n",
    "        return self._pieces\n",
    "\n",
    "    def __init__(self, directory:str = \"data/\"):\n",
    "        self.load(directory)"
   ]
  },
  {
   "cell_type": "code",
   "execution_count": 107,
   "id": "a64b36bd-de33-478c-b817-1725c4275bd2",
   "metadata": {},
   "outputs": [],
   "source": [
    "ldr = PieceLoader()"
   ]
  },
  {
   "cell_type": "code",
   "execution_count": 108,
   "id": "b5d0ce8a-aa64-41cf-bdda-a9e64b6b8c14",
   "metadata": {},
   "outputs": [
    {
     "name": "stdout",
     "output_type": "stream",
     "text": [
      "i\n"
     ]
    },
    {
     "data": {
      "image/svg+xml": [
       "<svg xmlns=\"http://www.w3.org/2000/svg\" xmlns:ev=\"http://www.w3.org/2001/xml-events\" xmlns:xlink=\"http://www.w3.org/1999/xlink\" baseProfile=\"full\" height=\"100%\" version=\"1.1\" viewBox=\"0,0,800,30\" width=\"100%\"><defs/><rect fill=\"blue\" height=\"10\" width=\"10\" x=\"0\" y=\"0\"/><rect fill=\"blue\" height=\"10\" width=\"10\" x=\"10\" y=\"0\"/><rect fill=\"blue\" height=\"10\" width=\"10\" x=\"20\" y=\"0\"/><rect fill=\"blue\" height=\"10\" width=\"10\" x=\"30\" y=\"0\"/></svg>"
      ],
      "text/plain": [
       "<IPython.core.display.SVG object>"
      ]
     },
     "metadata": {},
     "output_type": "display_data"
    },
    {
     "name": "stdout",
     "output_type": "stream",
     "text": [
      "z\n"
     ]
    },
    {
     "data": {
      "image/svg+xml": [
       "<svg xmlns=\"http://www.w3.org/2000/svg\" xmlns:ev=\"http://www.w3.org/2001/xml-events\" xmlns:xlink=\"http://www.w3.org/1999/xlink\" baseProfile=\"full\" height=\"100%\" version=\"1.1\" viewBox=\"0,0,800,30\" width=\"100%\"><defs/><rect fill=\"blue\" height=\"10\" width=\"10\" x=\"0\" y=\"0\"/><rect fill=\"blue\" height=\"10\" width=\"10\" x=\"10\" y=\"0\"/><rect fill=\"black\" height=\"10\" width=\"10\" x=\"20\" y=\"0\"/><rect fill=\"black\" height=\"10\" width=\"10\" x=\"0\" y=\"10\"/><rect fill=\"blue\" height=\"10\" width=\"10\" x=\"10\" y=\"10\"/><rect fill=\"blue\" height=\"10\" width=\"10\" x=\"20\" y=\"10\"/></svg>"
      ],
      "text/plain": [
       "<IPython.core.display.SVG object>"
      ]
     },
     "metadata": {},
     "output_type": "display_data"
    },
    {
     "name": "stdout",
     "output_type": "stream",
     "text": [
      "t\n"
     ]
    },
    {
     "data": {
      "image/svg+xml": [
       "<svg xmlns=\"http://www.w3.org/2000/svg\" xmlns:ev=\"http://www.w3.org/2001/xml-events\" xmlns:xlink=\"http://www.w3.org/1999/xlink\" baseProfile=\"full\" height=\"100%\" version=\"1.1\" viewBox=\"0,0,800,30\" width=\"100%\"><defs/><rect fill=\"blue\" height=\"10\" width=\"10\" x=\"0\" y=\"0\"/><rect fill=\"blue\" height=\"10\" width=\"10\" x=\"10\" y=\"0\"/><rect fill=\"blue\" height=\"10\" width=\"10\" x=\"20\" y=\"0\"/><rect fill=\"black\" height=\"10\" width=\"10\" x=\"0\" y=\"10\"/><rect fill=\"blue\" height=\"10\" width=\"10\" x=\"10\" y=\"10\"/><rect fill=\"black\" height=\"10\" width=\"10\" x=\"20\" y=\"10\"/></svg>"
      ],
      "text/plain": [
       "<IPython.core.display.SVG object>"
      ]
     },
     "metadata": {},
     "output_type": "display_data"
    },
    {
     "name": "stdout",
     "output_type": "stream",
     "text": [
      "s\n"
     ]
    },
    {
     "data": {
      "image/svg+xml": [
       "<svg xmlns=\"http://www.w3.org/2000/svg\" xmlns:ev=\"http://www.w3.org/2001/xml-events\" xmlns:xlink=\"http://www.w3.org/1999/xlink\" baseProfile=\"full\" height=\"100%\" version=\"1.1\" viewBox=\"0,0,800,30\" width=\"100%\"><defs/><rect fill=\"black\" height=\"10\" width=\"10\" x=\"0\" y=\"0\"/><rect fill=\"blue\" height=\"10\" width=\"10\" x=\"10\" y=\"0\"/><rect fill=\"blue\" height=\"10\" width=\"10\" x=\"20\" y=\"0\"/><rect fill=\"blue\" height=\"10\" width=\"10\" x=\"0\" y=\"10\"/><rect fill=\"blue\" height=\"10\" width=\"10\" x=\"10\" y=\"10\"/><rect fill=\"black\" height=\"10\" width=\"10\" x=\"20\" y=\"10\"/></svg>"
      ],
      "text/plain": [
       "<IPython.core.display.SVG object>"
      ]
     },
     "metadata": {},
     "output_type": "display_data"
    },
    {
     "name": "stdout",
     "output_type": "stream",
     "text": [
      "j\n"
     ]
    },
    {
     "data": {
      "image/svg+xml": [
       "<svg xmlns=\"http://www.w3.org/2000/svg\" xmlns:ev=\"http://www.w3.org/2001/xml-events\" xmlns:xlink=\"http://www.w3.org/1999/xlink\" baseProfile=\"full\" height=\"100%\" version=\"1.1\" viewBox=\"0,0,800,30\" width=\"100%\"><defs/><rect fill=\"black\" height=\"10\" width=\"10\" x=\"0\" y=\"0\"/><rect fill=\"blue\" height=\"10\" width=\"10\" x=\"10\" y=\"0\"/><rect fill=\"black\" height=\"10\" width=\"10\" x=\"0\" y=\"10\"/><rect fill=\"blue\" height=\"10\" width=\"10\" x=\"10\" y=\"10\"/><rect fill=\"blue\" height=\"10\" width=\"10\" x=\"0\" y=\"20\"/><rect fill=\"blue\" height=\"10\" width=\"10\" x=\"10\" y=\"20\"/></svg>"
      ],
      "text/plain": [
       "<IPython.core.display.SVG object>"
      ]
     },
     "metadata": {},
     "output_type": "display_data"
    },
    {
     "name": "stdout",
     "output_type": "stream",
     "text": [
      "q\n"
     ]
    },
    {
     "data": {
      "image/svg+xml": [
       "<svg xmlns=\"http://www.w3.org/2000/svg\" xmlns:ev=\"http://www.w3.org/2001/xml-events\" xmlns:xlink=\"http://www.w3.org/1999/xlink\" baseProfile=\"full\" height=\"100%\" version=\"1.1\" viewBox=\"0,0,800,30\" width=\"100%\"><defs/><rect fill=\"blue\" height=\"10\" width=\"10\" x=\"0\" y=\"0\"/><rect fill=\"blue\" height=\"10\" width=\"10\" x=\"10\" y=\"0\"/><rect fill=\"blue\" height=\"10\" width=\"10\" x=\"0\" y=\"10\"/><rect fill=\"blue\" height=\"10\" width=\"10\" x=\"10\" y=\"10\"/></svg>"
      ],
      "text/plain": [
       "<IPython.core.display.SVG object>"
      ]
     },
     "metadata": {},
     "output_type": "display_data"
    },
    {
     "name": "stdout",
     "output_type": "stream",
     "text": [
      "l\n"
     ]
    },
    {
     "data": {
      "image/svg+xml": [
       "<svg xmlns=\"http://www.w3.org/2000/svg\" xmlns:ev=\"http://www.w3.org/2001/xml-events\" xmlns:xlink=\"http://www.w3.org/1999/xlink\" baseProfile=\"full\" height=\"100%\" version=\"1.1\" viewBox=\"0,0,800,30\" width=\"100%\"><defs/><rect fill=\"blue\" height=\"10\" width=\"10\" x=\"0\" y=\"0\"/><rect fill=\"black\" height=\"10\" width=\"10\" x=\"10\" y=\"0\"/><rect fill=\"blue\" height=\"10\" width=\"10\" x=\"0\" y=\"10\"/><rect fill=\"black\" height=\"10\" width=\"10\" x=\"10\" y=\"10\"/><rect fill=\"blue\" height=\"10\" width=\"10\" x=\"0\" y=\"20\"/><rect fill=\"blue\" height=\"10\" width=\"10\" x=\"10\" y=\"20\"/></svg>"
      ],
      "text/plain": [
       "<IPython.core.display.SVG object>"
      ]
     },
     "metadata": {},
     "output_type": "display_data"
    }
   ],
   "source": [
    "from IPython.display import SVG, display\n",
    "\n",
    "    \n",
    "for name, piece in ldr.pieces.items():\n",
    "    print(name)\n",
    "    display(SVG(piece._repr_svg_()))\n"
   ]
  },
  {
   "cell_type": "code",
   "execution_count": null,
   "id": "af7e7e9a-7b4d-4693-bc6b-c4be114b2b8b",
   "metadata": {},
   "outputs": [],
   "source": []
  }
 ],
 "metadata": {
  "kernelspec": {
   "display_name": "Python 3 (ipykernel)",
   "language": "python",
   "name": "python3"
  },
  "language_info": {
   "codemirror_mode": {
    "name": "ipython",
    "version": 3
   },
   "file_extension": ".py",
   "mimetype": "text/x-python",
   "name": "python",
   "nbconvert_exporter": "python",
   "pygments_lexer": "ipython3",
   "version": "3.9.7"
  }
 },
 "nbformat": 4,
 "nbformat_minor": 5
}
