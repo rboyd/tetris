{
 "cells": [
  {
   "cell_type": "code",
   "execution_count": null,
   "id": "3b191c6c-2266-428c-a0c6-02056da65cc7",
   "metadata": {},
   "outputs": [],
   "source": [
    "#default_exp renderer"
   ]
  },
  {
   "cell_type": "code",
   "execution_count": null,
   "id": "88b00add-8d2d-483a-86ac-de1f8d497c97",
   "metadata": {},
   "outputs": [
    {
     "name": "stdout",
     "output_type": "stream",
     "text": [
      "Requirement already satisfied: svgwrite in /usr/local/Cellar/jupyterlab/3.1.7/libexec/lib/python3.9/site-packages (1.4.2)\n",
      "\u001b[33mWARNING: You are using pip version 21.1.3; however, version 22.0.4 is available.\n",
      "You should consider upgrading via the '/usr/local/Cellar/jupyterlab/3.1.7/libexec/bin/python3.9 -m pip install --upgrade pip' command.\u001b[0m\n",
      "Note: you may need to restart the kernel to use updated packages.\n"
     ]
    }
   ],
   "source": [
    "%pip install svgwrite"
   ]
  },
  {
   "cell_type": "code",
   "execution_count": null,
   "id": "29e9cf25-b079-413d-adb7-efa196c1faab",
   "metadata": {},
   "outputs": [],
   "source": [
    "#|export\n",
    "from tetris.piece import Piece\n",
    "from tetris.playfield import Playfield\n",
    "import svgwrite\n",
    "from IPython.display import SVG\n",
    "\n",
    "class Renderer:\n",
    "    def playfield_to_svg(self, pf: Playfield) -> SVG:\n",
    "        A = pf.toarray()\n",
    "        side_len = 10\n",
    "        dwg = svgwrite.Drawing()\n",
    "        dwg.viewbox(0,0,300,250)\n",
    "        \n",
    "        height = len(A)\n",
    "        width = len(A[0])\n",
    "\n",
    "        # border around entire playfield\n",
    "        #dwg.add(dwg.rect((0, 0), (width*side_len, height*side_len), stroke=\"green\"))\n",
    "\n",
    "        for row in range(height):\n",
    "            for col in range(len(A[0])):\n",
    "                left_top = (col*side_len, (height-row)*side_len)\n",
    "                width_height = (side_len, side_len)\n",
    "                stroke = \"#cccccc\"\n",
    "                fill = 'white'\n",
    "                corner_radius = 0\n",
    "                if A[row][col]:\n",
    "                    stroke, fill = '#112543', '#d1eaf3'\n",
    "                    corner_radius = 1\n",
    "                dwg.add(dwg.rect(left_top, width_height, stroke=stroke, fill=fill, rx=corner_radius, ry=corner_radius))\n",
    "        return SVG(dwg.tostring())\n",
    " \n",
    "    def piece_to_svg(self, piece: Piece) -> SVG:\n",
    "        side_len = 10\n",
    "        dwg = svgwrite.Drawing()\n",
    "        dwg.viewbox(0,0,300,50)\n",
    "\n",
    "        A = piece.toarray()\n",
    "        height = len(A)\n",
    "        width = len(A[0])\n",
    "        \n",
    "        for row in range(height):\n",
    "            for col in range(width):\n",
    "                left_top = (col*side_len, (height-row)*side_len)\n",
    "                width_height = (side_len, side_len)\n",
    "                fill = 'blue' if A[row][col] else 'white'\n",
    "                stroke = '#112543'\n",
    "                dwg.add(dwg.rect(left_top, width_height, fill=fill, stroke=stroke))\n",
    "        return SVG(dwg.tostring())"
   ]
  },
  {
   "cell_type": "code",
   "execution_count": null,
   "id": "893a3f2d-cf77-48a5-81ab-786a8aae91bf",
   "metadata": {},
   "outputs": [],
   "source": []
  }
 ],
 "metadata": {
  "kernelspec": {
   "display_name": "Python 3 (ipykernel)",
   "language": "python",
   "name": "python3"
  }
 },
 "nbformat": 4,
 "nbformat_minor": 5
}
