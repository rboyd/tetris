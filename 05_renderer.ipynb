{
 "cells": [
  {
   "cell_type": "code",
   "execution_count": null,
   "id": "3b191c6c-2266-428c-a0c6-02056da65cc7",
   "metadata": {},
   "outputs": [],
   "source": [
    "#default_exp renderer"
   ]
  },
  {
   "cell_type": "code",
   "execution_count": null,
   "id": "88b00add-8d2d-483a-86ac-de1f8d497c97",
   "metadata": {},
   "outputs": [],
   "source": [
    "#hide\n",
    "%pip install svgwrite\n",
    "%pip install webcolors"
   ]
  },
  {
   "cell_type": "code",
   "execution_count": null,
   "id": "29e9cf25-b079-413d-adb7-efa196c1faab",
   "metadata": {},
   "outputs": [],
   "source": [
    "#|export\n",
    "from tetris.piece import Piece\n",
    "from tetris.playfield import Playfield\n",
    "from IPython.display import SVG\n",
    "import svgwrite, colorsys, webcolors\n",
    "\n",
    "class Renderer:\n",
    "    def darken(self, hex_rgb: str, amount: float) -> str:\n",
    "        rgb = webcolors.hex_to_rgb(hex_rgb)\n",
    "        hls = colorsys.rgb_to_hls(rgb[0]/255, rgb[1]/255, rgb[2]/255)\n",
    "        darkened_rgb = colorsys.hls_to_rgb(hls[0], max(0, min(1, amount * hls[1])), hls[2])\n",
    "        return webcolors.rgb_to_hex(tuple([int(el * 255) for el in darkened_rgb]))\n",
    "\n",
    "    def playfield_to_svg(self, pf: Playfield) -> SVG:\n",
    "        A = pf.toarray()\n",
    "        side_len = 10\n",
    "        dwg = svgwrite.Drawing()\n",
    "        dwg.viewbox(0,0,300,250)\n",
    "        \n",
    "        height = max(20, min(len(A), max(pf.col_height)))\n",
    "        width = len(A[0])\n",
    "\n",
    "        # border around entire playfield\n",
    "        #dwg.add(dwg.rect((0, 0), (width*side_len, height*side_len), stroke=\"green\"))\n",
    "\n",
    "        for row in range(height):\n",
    "            for col in range(len(A[0])):\n",
    "                left_top = (col*side_len, (height-row)*side_len)\n",
    "                width_height = (side_len, side_len)\n",
    "                stroke = \"#cccccc\"\n",
    "                fill = 'white'\n",
    "                corner_radius = 0\n",
    "                if A[row][col]:\n",
    "                    piece_num = A[row][col]\n",
    "                    base_fill = '#d1eaf3'\n",
    "                    fill = self.darken(base_fill, 1 - (piece_num-1) * 0.2)\n",
    "                    stroke = '#112543'\n",
    "                    corner_radius = 1\n",
    "                dwg.add(dwg.rect(left_top, width_height, stroke=stroke, fill=fill, rx=corner_radius, ry=corner_radius))\n",
    "        return SVG(dwg.tostring())\n",
    " \n",
    "    def piece_to_svg(self, piece: Piece) -> SVG:\n",
    "        side_len = 10\n",
    "        dwg = svgwrite.Drawing()\n",
    "        dwg.viewbox(0,0,300,50)\n",
    "\n",
    "        A = piece.toarray()\n",
    "        height = len(A)\n",
    "        width = len(A[0])\n",
    "        \n",
    "        for row in range(height):\n",
    "            for col in range(width):\n",
    "                left_top = (col*side_len, (height-row)*side_len)\n",
    "                width_height = (side_len, side_len)\n",
    "                fill = 'blue' if A[row][col] else 'white'\n",
    "                stroke = '#112543'\n",
    "                dwg.add(dwg.rect(left_top, width_height, fill=fill, stroke=stroke))\n",
    "        return SVG(dwg.tostring())"
   ]
  },
  {
   "cell_type": "markdown",
   "id": "dd63ca9e-f8c2-4e99-88a6-0f4837805975",
   "metadata": {},
   "source": [
    "# Pieces are uniquely colored"
   ]
  },
  {
   "cell_type": "code",
   "execution_count": null,
   "id": "893a3f2d-cf77-48a5-81ab-786a8aae91bf",
   "metadata": {},
   "outputs": [],
   "source": [
    "from tetris.playfield import Playfield\n",
    "from tetris.piece_loader import PieceLoader\n",
    "\n",
    "pf = Playfield()\n",
    "ldr = PieceLoader()\n",
    "pf.add(ldr['j'], 0)\n",
    "pf.add(ldr['l'], 2)\n",
    "A = pf.toarray()\n",
    "from tetris.renderer import Renderer\n",
    "rndr = Renderer()\n",
    "svg = rndr.playfield_to_svg(pf)\n",
    "assert(svg.data.count('rect fill=\"#d1eaf3\"') == 4)\n",
    "assert(svg.data.count('rect fill=\"#89c9e0\"') == 4)"
   ]
  }
 ],
 "metadata": {
  "kernelspec": {
   "display_name": "Python 3 (ipykernel)",
   "language": "python",
   "name": "python3"
  }
 },
 "nbformat": 4,
 "nbformat_minor": 5
}
